{
 "cells": [
  {
   "cell_type": "markdown",
   "id": "ea3b2acf-96c6-48df-820a-a837a4c5f035",
   "metadata": {},
   "source": [
    "# Predicting 13C NMR shifts\n",
    "\n",
    "Based on the [nmrshiftdb2](https://nmrshiftdb.nmr.uni-koeln.de/nmrshiftdb/media-type/html/user/anon/page/default.psml/js_pane/portal/js_pane/P-Help;jsessionid=B237E9AB49EB45D0F9E560719C792E4A?URL=t1.html#about) NMR database for organic structures and their nuclear magnetic resonance (nmr) spectra.\n",
    "\n",
    "Inspiration taken from:\n",
    "- Paper at https://browse.arxiv.org/pdf/2304.03361.pdf\n",
    "- Associated [python code](https://colab.research.google.com/drive/1yKTRjpWzR8T199eCokuJfd9Y5o2oNtPp#scrollTo=wha6jaKTZlUX)\n",
    "- [“Prediction of 1H and 13C NMR Chemical Shifts of Small Molecules Using Machine Learning”](https://era.library.ualberta.ca/items/48539bc5-c67e-47f2-97f4-afe6594b6dca), a Master thesis by Zinat Sayeeda"
   ]
  },
  {
   "cell_type": "code",
   "execution_count": 1,
   "id": "852cbafa-e396-40da-a8fa-f6956797ee2e",
   "metadata": {},
   "outputs": [],
   "source": [
    "import math\n",
    "import mendeleev\n",
    "import os\n",
    "import pandas as pd\n",
    "import random\n",
    "import requests\n",
    "\n",
    "# Specify a seed, so pseudo-random numbers are the same and the notebook is reproducible\n",
    "random.seed(\"Call me Ishmael.\")"
   ]
  },
  {
   "cell_type": "code",
   "execution_count": 2,
   "id": "141f3569-66d0-4dc4-82f0-82ff748daae2",
   "metadata": {},
   "outputs": [
    {
     "name": "stdout",
     "output_type": "stream",
     "text": [
      "Data file already present\n"
     ]
    }
   ],
   "source": [
    "DATA_URL = \"https://sourceforge.net/projects/nmrshiftdb2/files/data/nmrshiftdb2.nmredata.sd/download\"\n",
    "DATA_FILE = \"nmrshiftdb2.nmredata.sd\"\n",
    "\n",
    "if not os.path.isfile(DATA_FILE):\n",
    "    print(\"Downloading data file (large file: 200 MB)\")\n",
    "    r = requests.get(DATA_URL, allow_redirects=True)\n",
    "    with open(DATA_FILE, \"wb\") as f:\n",
    "        f.write(r.content)\n",
    "        print(\"File saved\")\n",
    "else:\n",
    "    print(\"Data file already present\")"
   ]
  },
  {
   "cell_type": "code",
   "execution_count": 3,
   "id": "0fdeb8fc-b429-4657-8f87-6b9d3555c68d",
   "metadata": {},
   "outputs": [
    {
     "name": "stderr",
     "output_type": "stream",
     "text": [
      "[15:25:27] Explicit valence for atom # 4 N, 4, is greater than permitted\n",
      "[15:25:27] ERROR: Could not sanitize molecule ending on line 2496171\n",
      "[15:25:27] ERROR: Explicit valence for atom # 4 N, 4, is greater than permitted\n",
      "[15:25:27] Explicit valence for atom # 1 N, 4, is greater than permitted\n",
      "[15:25:27] ERROR: Could not sanitize molecule ending on line 2496259\n",
      "[15:25:27] ERROR: Explicit valence for atom # 1 N, 4, is greater than permitted\n",
      "[15:25:27] Explicit valence for atom # 3 H, 3, is greater than permitted\n",
      "[15:25:27] ERROR: Could not sanitize molecule ending on line 2569602\n",
      "[15:25:27] ERROR: Explicit valence for atom # 3 H, 3, is greater than permitted\n",
      "[15:25:27] Explicit valence for atom # 3 H, 3, is greater than permitted\n",
      "[15:25:27] ERROR: Could not sanitize molecule ending on line 2569689\n",
      "[15:25:27] ERROR: Explicit valence for atom # 3 H, 3, is greater than permitted\n",
      "[15:25:27] Explicit valence for atom # 0 N, 4, is greater than permitted\n",
      "[15:25:27] ERROR: Could not sanitize molecule ending on line 2599657\n",
      "[15:25:27] ERROR: Explicit valence for atom # 0 N, 4, is greater than permitted\n",
      "[15:25:27] Explicit valence for atom # 5 N, 4, is greater than permitted\n",
      "[15:25:27] ERROR: Could not sanitize molecule ending on line 2601518\n",
      "[15:25:27] ERROR: Explicit valence for atom # 5 N, 4, is greater than permitted\n",
      "[15:25:27] Explicit valence for atom # 5 N, 4, is greater than permitted\n",
      "[15:25:27] ERROR: Could not sanitize molecule ending on line 2601622\n",
      "[15:25:27] ERROR: Explicit valence for atom # 5 N, 4, is greater than permitted\n",
      "[15:25:27] Explicit valence for atom # 5 N, 4, is greater than permitted\n",
      "[15:25:27] ERROR: Could not sanitize molecule ending on line 2601732\n",
      "[15:25:27] ERROR: Explicit valence for atom # 5 N, 4, is greater than permitted\n",
      "[15:25:27] Explicit valence for atom # 5 N, 4, is greater than permitted\n",
      "[15:25:27] ERROR: Could not sanitize molecule ending on line 2601848\n",
      "[15:25:27] ERROR: Explicit valence for atom # 5 N, 4, is greater than permitted\n",
      "[15:25:27] Explicit valence for atom # 5 N, 4, is greater than permitted\n",
      "[15:25:27] ERROR: Could not sanitize molecule ending on line 2601967\n",
      "[15:25:27] ERROR: Explicit valence for atom # 5 N, 4, is greater than permitted\n",
      "[15:25:27] Explicit valence for atom # 5 N, 4, is greater than permitted\n",
      "[15:25:27] ERROR: Could not sanitize molecule ending on line 2602083\n",
      "[15:25:27] ERROR: Explicit valence for atom # 5 N, 4, is greater than permitted\n",
      "[15:25:27] Explicit valence for atom # 5 N, 4, is greater than permitted\n",
      "[15:25:27] ERROR: Could not sanitize molecule ending on line 2602211\n",
      "[15:25:27] ERROR: Explicit valence for atom # 5 N, 4, is greater than permitted\n",
      "[15:25:27] Explicit valence for atom # 5 N, 4, is greater than permitted\n",
      "[15:25:27] ERROR: Could not sanitize molecule ending on line 2602363\n",
      "[15:25:27] ERROR: Explicit valence for atom # 5 N, 4, is greater than permitted\n"
     ]
    },
    {
     "name": "stdout",
     "output_type": "stream",
     "text": [
      "50217 molecules read\n"
     ]
    },
    {
     "name": "stderr",
     "output_type": "stream",
     "text": [
      "[15:25:29] Explicit valence for atom # 15 B, 4, is greater than permitted\n",
      "[15:25:29] ERROR: Could not sanitize molecule ending on line 5557956\n",
      "[15:25:29] ERROR: Explicit valence for atom # 15 B, 4, is greater than permitted\n",
      "[15:25:29] Explicit valence for atom # 15 B, 4, is greater than permitted\n",
      "[15:25:29] ERROR: Could not sanitize molecule ending on line 5558091\n",
      "[15:25:29] ERROR: Explicit valence for atom # 15 B, 4, is greater than permitted\n",
      "[15:25:29] Explicit valence for atom # 21 B, 4, is greater than permitted\n",
      "[15:25:29] ERROR: Could not sanitize molecule ending on line 5694153\n",
      "[15:25:29] ERROR: Explicit valence for atom # 21 B, 4, is greater than permitted\n",
      "[15:25:29] Explicit valence for atom # 21 B, 4, is greater than permitted\n",
      "[15:25:29] ERROR: Could not sanitize molecule ending on line 5694321\n",
      "[15:25:29] ERROR: Explicit valence for atom # 21 B, 4, is greater than permitted\n",
      "[15:25:29] Explicit valence for atom # 0 I, 7, is greater than permitted\n",
      "[15:25:29] ERROR: Could not sanitize molecule ending on line 5783130\n",
      "[15:25:29] ERROR: Explicit valence for atom # 0 I, 7, is greater than permitted\n",
      "[15:25:30] Explicit valence for atom # 0 B, 4, is greater than permitted\n",
      "[15:25:30] ERROR: Could not sanitize molecule ending on line 6030093\n",
      "[15:25:30] ERROR: Explicit valence for atom # 0 B, 4, is greater than permitted\n",
      "[15:25:30] WARNING: not removing hydrogen atom without neighbors\n",
      "[15:25:30] Explicit valence for atom # 5 Cl, 2, is greater than permitted\n",
      "[15:25:30] ERROR: Could not sanitize molecule ending on line 6030141\n",
      "[15:25:30] ERROR: Explicit valence for atom # 5 Cl, 2, is greater than permitted\n",
      "[15:25:30] WARNING: not removing hydrogen atom without neighbors\n",
      "[15:25:30] Explicit valence for atom # 5 Cl, 2, is greater than permitted\n",
      "[15:25:30] ERROR: Could not sanitize molecule ending on line 6030191\n",
      "[15:25:30] ERROR: Explicit valence for atom # 5 Cl, 2, is greater than permitted\n",
      "[15:25:30] WARNING: not removing hydrogen atom without neighbors\n",
      "[15:25:30] WARNING: not removing hydrogen atom without neighbors\n",
      "[15:25:30] Explicit valence for atom # 1 H, 2, is greater than permitted\n",
      "[15:25:30] ERROR: Could not sanitize molecule ending on line 6030356\n",
      "[15:25:30] ERROR: Explicit valence for atom # 1 H, 2, is greater than permitted\n",
      "[15:25:30] Explicit valence for atom # 1 H, 2, is greater than permitted\n",
      "[15:25:30] ERROR: Could not sanitize molecule ending on line 6030410\n",
      "[15:25:30] ERROR: Explicit valence for atom # 1 H, 2, is greater than permitted\n",
      "[15:25:30] Explicit valence for atom # 2 O, 3, is greater than permitted\n",
      "[15:25:30] ERROR: Could not sanitize molecule ending on line 6130335\n",
      "[15:25:30] ERROR: Explicit valence for atom # 2 O, 3, is greater than permitted\n",
      "[15:25:30] Explicit valence for atom # 0 Cl, 3, is greater than permitted\n",
      "[15:25:30] ERROR: Could not sanitize molecule ending on line 6136712\n",
      "[15:25:30] ERROR: Explicit valence for atom # 0 Cl, 3, is greater than permitted\n"
     ]
    }
   ],
   "source": [
    "from rdkit import Chem\n",
    "molecules = list(Chem.SDMolSupplier(DATA_FILE))\n",
    "print(f\"{len(molecules)} molecules read\")"
   ]
  },
  {
   "cell_type": "code",
   "execution_count": 4,
   "id": "2343f535-fa9a-4eb0-b157-88eae2725127",
   "metadata": {},
   "outputs": [
    {
     "data": {
      "image/png": "[encoded data removed]",
      "text/html": [
       "<table><tr><td colspan=\"2\" style=\"text-align: center;\"><image src=\"data:image/png;base64,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\"></td></tr>\n",
       "<tr><th style=\"text-align: right\">NMREDATA_VERSION</th><td style=\"text-align: left\">1.1\\</td></tr>\n",
       "<tr><th style=\"text-align: right\">NMREDATA_SOLVENT</th><td style=\"text-align: left\">Unreported\\</td></tr>\n",
       "<tr><th style=\"text-align: right\">NMREDATA_ASSIGNMENT</th><td style=\"text-align: left\">s0, 46.6, 12\\\n",
       "s1, 50.4, 14\\\n",
       "s2, 58.5, 4\\\n",
       "s3, 69.0, 2\\\n",
       "s4, 109.7, 10\\\n",
       "s5, 110.6, 11\\\n",
       "s6, 143.0, 7\\\n",
       "s7, 148.7, 9\\\n",
       "s8, 170.4, 15\\\n",
       "s9, 191.6, 6\\</td></tr>\n",
       "<tr><th style=\"text-align: right\">NMREDATA_INCHI</th><td style=\"text-align: left\">InChI=1S/C10H12N2O3S2/c13-9(14)5-11-6-12(10(16)17-7-11)4-8-2-1-3-15-8/h1-3H,4-7H2,(H,13,14)/i1+0H,2+0H,3+0H,4+0H2,5+0H2,6+0H2,7+0H2,8+0,9+0,10+0,11+0,12+0,13+0,14+0,15+0,16+0,17+0/hH</td></tr>\n",
       "<tr><th style=\"text-align: right\">NMREDATA_LEVEL</th><td style=\"text-align: left\">1\\</td></tr>\n",
       "<tr><th style=\"text-align: right\">NMREDATA_ID</th><td style=\"text-align: left\">Doi=10.18716/nmrshiftdb2/2203\\\n",
       "DB_ID=2203\\</td></tr>\n",
       "<tr><th style=\"text-align: right\">NMREDATA_1D_13C</th><td style=\"text-align: left\">Spectrum_Location=molecule/2203\\\n",
       "Larmor=0.0\\\n",
       "46.6, L=s0\\\n",
       "50.4, L=s1\\\n",
       "58.5, L=s2\\\n",
       "69.0, L=s3\\\n",
       "109.7, L=s4\\\n",
       "110.6, L=s5\\\n",
       "143.0, L=s6\\\n",
       "148.7, L=s7\\\n",
       "170.4, L=s8\\\n",
       "191.6, L=s9\\</td></tr>\n",
       "<tr><th style=\"text-align: right\">NMREDATA_SMILES</th><td style=\"text-align: left\">N1(C(N(C(SC1=S)([H])[H])C(C(O[H])=O)([H])[H])([H])[H])C(C=2OC(=C(C2[H])[H])[H])([H])[H]</td></tr></table>"
      ],
      "text/plain": [
       "<rdkit.Chem.rdchem.Mol at 0x11e64d150>"
      ]
     },
     "execution_count": 4,
     "metadata": {},
     "output_type": "execute_result"
    }
   ],
   "source": [
    "molecules[19]"
   ]
  },
  {
   "cell_type": "code",
   "execution_count": 5,
   "id": "b8e12999-0efc-4f44-9264-a5372cbf4c70",
   "metadata": {},
   "outputs": [
    {
     "data": {
      "text/plain": [
       "'s0, 46.6, 12\\\\\\ns1, 50.4, 14\\\\\\ns2, 58.5, 4\\\\\\ns3, 69.0, 2\\\\\\ns4, 109.7, 10\\\\\\ns5, 110.6, 11\\\\\\ns6, 143.0, 7\\\\\\ns7, 148.7, 9\\\\\\ns8, 170.4, 15\\\\\\ns9, 191.6, 6\\\\'"
      ]
     },
     "execution_count": 5,
     "metadata": {},
     "output_type": "execute_result"
    }
   ],
   "source": [
    "molecules[19].GetProp(\"NMREDATA_ASSIGNMENT\")"
   ]
  },
  {
   "cell_type": "code",
   "execution_count": 6,
   "id": "298fe618-7b1e-4939-b104-5a4368b9aa78",
   "metadata": {},
   "outputs": [
    {
     "data": {
      "text/plain": [
       "{'NMREDATA_VERSION': '1.1\\\\',\n",
       " 'NMREDATA_SOLVENT': 'Unreported\\\\',\n",
       " 'NMREDATA_ASSIGNMENT': 's0, 46.6, 12\\\\\\ns1, 50.4, 14\\\\\\ns2, 58.5, 4\\\\\\ns3, 69.0, 2\\\\\\ns4, 109.7, 10\\\\\\ns5, 110.6, 11\\\\\\ns6, 143.0, 7\\\\\\ns7, 148.7, 9\\\\\\ns8, 170.4, 15\\\\\\ns9, 191.6, 6\\\\',\n",
       " 'NMREDATA_INCHI': 'InChI=1S/C10H12N2O3S2/c13-9(14)5-11-6-12(10(16)17-7-11)4-8-2-1-3-15-8/h1-3H,4-7H2,(H,13,14)/i1+0H,2+0H,3+0H,4+0H2,5+0H2,6+0H2,7+0H2,8+0,9+0,10+0,11+0,12+0,13+0,14+0,15+0,16+0,17+0/hH',\n",
       " 'NMREDATA_LEVEL': '1\\\\',\n",
       " 'NMREDATA_ID': 'Doi=10.18716/nmrshiftdb2/2203\\\\\\nDB_ID=2203\\\\',\n",
       " 'NMREDATA_1D_13C': 'Spectrum_Location=molecule/2203\\\\\\nLarmor=0.0\\\\\\n46.6, L=s0\\\\\\n50.4, L=s1\\\\\\n58.5, L=s2\\\\\\n69.0, L=s3\\\\\\n109.7, L=s4\\\\\\n110.6, L=s5\\\\\\n143.0, L=s6\\\\\\n148.7, L=s7\\\\\\n170.4, L=s8\\\\\\n191.6, L=s9\\\\',\n",
       " 'NMREDATA_SMILES': 'N1(C(N(C(SC1=S)([H])[H])C(C(O[H])=O)([H])[H])([H])[H])C(C=2OC(=C(C2[H])[H])[H])([H])[H]'}"
      ]
     },
     "execution_count": 6,
     "metadata": {},
     "output_type": "execute_result"
    }
   ],
   "source": [
    "molecules[19].GetPropsAsDict()"
   ]
  },
  {
   "cell_type": "code",
   "execution_count": 7,
   "id": "b3469688-9c9f-4fb6-8a4a-f8aed565f31b",
   "metadata": {
    "scrolled": true
   },
   "outputs": [],
   "source": [
    "def extractNMRisotopes(mol):\n",
    "    if not mol:\n",
    "        return []\n",
    "    return [x for x in mol.GetPropNames() if x.startswith(\"NMREDATA_1D_\")]\n",
    "\n",
    "nmr = [extractNMRisotopes(mol) for mol in molecules]"
   ]
  },
  {
   "cell_type": "code",
   "execution_count": 8,
   "id": "ba264273-18e9-45f1-b64b-4c913e8eb1b6",
   "metadata": {},
   "outputs": [
    {
     "data": {
      "text/plain": [
       "[['NMREDATA_1D_13C'],\n",
       " ['NMREDATA_1D_13C'],\n",
       " ['NMREDATA_1D_13C'],\n",
       " ['NMREDATA_1D_13C'],\n",
       " ['NMREDATA_1D_13C'],\n",
       " ['NMREDATA_1D_13C'],\n",
       " ['NMREDATA_1D_13C'],\n",
       " ['NMREDATA_1D_13C'],\n",
       " ['NMREDATA_1D_13C'],\n",
       " ['NMREDATA_1D_13C'],\n",
       " ['NMREDATA_1D_13C'],\n",
       " ['NMREDATA_1D_13C#2', 'NMREDATA_1D_13C'],\n",
       " ['NMREDATA_1D_13C'],\n",
       " ['NMREDATA_1D_13C#2', 'NMREDATA_1D_13C'],\n",
       " ['NMREDATA_1D_13C'],\n",
       " ['NMREDATA_1D_13C'],\n",
       " ['NMREDATA_1D_13C'],\n",
       " ['NMREDATA_1D_13C'],\n",
       " ['NMREDATA_1D_13C'],\n",
       " ['NMREDATA_1D_13C'],\n",
       " ['NMREDATA_1D_13C'],\n",
       " ['NMREDATA_1D_13C'],\n",
       " ['NMREDATA_1D_13C'],\n",
       " ['NMREDATA_1D_13C'],\n",
       " ['NMREDATA_1D_13C'],\n",
       " ['NMREDATA_1D_13C'],\n",
       " ['NMREDATA_1D_13C'],\n",
       " ['NMREDATA_1D_13C'],\n",
       " ['NMREDATA_1D_13C'],\n",
       " ['NMREDATA_1D_13C'],\n",
       " ['NMREDATA_1D_13C'],\n",
       " ['NMREDATA_1D_13C'],\n",
       " ['NMREDATA_1D_13C'],\n",
       " ['NMREDATA_1D_13C'],\n",
       " ['NMREDATA_1D_13C#2', 'NMREDATA_1D_13C'],\n",
       " ['NMREDATA_1D_13C'],\n",
       " ['NMREDATA_1D_13C#2', 'NMREDATA_1D_13C'],\n",
       " ['NMREDATA_1D_13C'],\n",
       " ['NMREDATA_1D_13C'],\n",
       " ['NMREDATA_1D_13C#2',\n",
       "  'NMREDATA_1D_13C#4',\n",
       "  'NMREDATA_1D_13C',\n",
       "  'NMREDATA_1D_13C#3'],\n",
       " ['NMREDATA_1D_13C'],\n",
       " ['NMREDATA_1D_13C#2', 'NMREDATA_1D_13C'],\n",
       " ['NMREDATA_1D_13C'],\n",
       " ['NMREDATA_1D_13C#2', 'NMREDATA_1D_13C'],\n",
       " ['NMREDATA_1D_13C'],\n",
       " ['NMREDATA_1D_13C'],\n",
       " ['NMREDATA_1D_13C'],\n",
       " ['NMREDATA_1D_13C'],\n",
       " ['NMREDATA_1D_13C#2', 'NMREDATA_1D_1H', 'NMREDATA_1D_13C'],\n",
       " ['NMREDATA_1D_13C']]"
      ]
     },
     "execution_count": 8,
     "metadata": {},
     "output_type": "execute_result"
    }
   ],
   "source": [
    "nmr[0:50]"
   ]
  },
  {
   "cell_type": "code",
   "execution_count": 9,
   "id": "f9f8a51a-b9b8-4ab5-a265-185d448c056d",
   "metadata": {},
   "outputs": [],
   "source": [
    "def identifyIsotope(x):\n",
    "    x = x.replace(\"NMREDATA_1D_\", \"\")\n",
    "    if \"#\" in x:\n",
    "        x = x.split(\"#\")[0]\n",
    "    return x\n",
    "\n",
    "nmr = [identifyIsotope(iso) for isotopes in nmr for iso in isotopes]"
   ]
  },
  {
   "cell_type": "code",
   "execution_count": 10,
   "id": "c039d558-09b1-459d-a02f-6046f6efa60f",
   "metadata": {},
   "outputs": [
    {
     "data": {
      "text/plain": [
       "13C      42405\n",
       "1H       17479\n",
       "19F       1066\n",
       "11B        316\n",
       "17O        134\n",
       "15N         84\n",
       "195Pt       57\n",
       "29Si        46\n",
       "31P         46\n",
       "73Ge        18\n",
       "33S          8\n",
       "Name: count, dtype: int64"
      ]
     },
     "execution_count": 10,
     "metadata": {},
     "output_type": "execute_result"
    }
   ],
   "source": [
    "pd.DataFrame(nmr).value_counts()"
   ]
  },
  {
   "cell_type": "code",
   "execution_count": 11,
   "id": "ab12582e-9cf3-455f-8956-6611762da621",
   "metadata": {
    "scrolled": true
   },
   "outputs": [
    {
     "data": {
      "image/png": "[encoded data removed]",
      "text/html": [
       "<table><tr><td colspan=\"2\" style=\"text-align: center;\"><image src=\"data:image/png;base64,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\"></td></tr>\n",
       "<tr><th style=\"text-align: right\">NMREDATA_1D_13C#2</th><td style=\"text-align: left\">Spectrum_Location=molecule/2231\\\n",
       "Larmor=0.0\\\n",
       "22.9, L=s3\\\n",
       "23.2, L=s4\\\n",
       "28.3, L=s5\\\n",
       "32.2, L=s6\\\n",
       "129.2, L=s7\\\n",
       "137.4, L=s8\\\n",
       "153.9, L=s9\\</td></tr>\n",
       "<tr><th style=\"text-align: right\">NMREDATA_1D_1H</th><td style=\"text-align: left\">Spectrum_Location=molecule/2231\\\n",
       "Larmor=0.0\\\n",
       "1.769, L=s10\\\n",
       "1.859, L=s11\\\n",
       "2.683, L=s12\\\n",
       "2.848, L=s13\\\n",
       "7.019, L=s14\\</td></tr>\n",
       "<tr><th style=\"text-align: right\">NMREDATA_VERSION</th><td style=\"text-align: left\">1.1\\</td></tr>\n",
       "<tr><th style=\"text-align: right\">NMREDATA_SOLVENT</th><td style=\"text-align: left\">Unreported\\</td></tr>\n",
       "<tr><th style=\"text-align: right\">NMREDATA_ASSIGNMENT</th><td style=\"text-align: left\">s0, 129.1, 10\\\n",
       "s1, 137.3, 9\\\n",
       "s2, 153.9, 8\\\n",
       "s3, 22.9, 1, 13\\\n",
       "s4, 23.2, 2, 12\\\n",
       "s5, 28.3, 4, 14\\\n",
       "s6, 32.2, 3, 11\\\n",
       "s7, 129.2, 6, 10\\\n",
       "s8, 137.4, 9\\\n",
       "s9, 153.9, 5, 8\\\n",
       "s10, 1.769, 28\\\n",
       "s11, 1.859, 26\\\n",
       "s12, 2.683, 30\\\n",
       "s13, 2.848, 24\\\n",
       "s14, 7.019, 23\\</td></tr>\n",
       "<tr><th style=\"text-align: right\">NMREDATA_INCHI</th><td style=\"text-align: left\">InChI=1S/C13H17N/c1-3-7-12-10(5-1)9-11-6-2-4-8-13(11)14-12/h9H,1-8H2/i1+0H2,2+0H2,3+0H2,4+0H2,5+0H2,6+0H2,7+0H2,8+0H2,9+0H,10+0,11+0,12+0,13+0,14+0</td></tr>\n",
       "<tr><th style=\"text-align: right\">NMREDATA_LEVEL</th><td style=\"text-align: left\">1\\</td></tr>\n",
       "<tr><th style=\"text-align: right\">NMREDATA_ID</th><td style=\"text-align: left\">Doi=10.18716/nmrshiftdb2/2231\\\n",
       "DB_ID=2231\\</td></tr>\n",
       "<tr><th style=\"text-align: right\">NMREDATA_1D_13C</th><td style=\"text-align: left\">Spectrum_Location=molecule/2231\\\n",
       "Larmor=0.0\\\n",
       "129.1, L=s0\\\n",
       "137.3, L=s1\\\n",
       "153.9, L=s9\\</td></tr>\n",
       "<tr><th style=\"text-align: right\">NMREDATA_SMILES</th><td style=\"text-align: left\">C1(C(C(C2=C(C1([H])[H])C(=C3C(=N2)C(C(C(C3([H])[H])([H])[H])([H])[H])([H])[H])[H])([H])[H])([H])[H])([H])[H]</td></tr></table>"
      ],
      "text/plain": [
       "<rdkit.Chem.rdchem.Mol at 0x11e64de00>"
      ]
     },
     "execution_count": 11,
     "metadata": {},
     "output_type": "execute_result"
    }
   ],
   "source": [
    "molecules[48]"
   ]
  },
  {
   "cell_type": "code",
   "execution_count": 12,
   "id": "a9edf93c-f862-4f4a-bb09-8f015b62f9ff",
   "metadata": {},
   "outputs": [
    {
     "name": "stdout",
     "output_type": "stream",
     "text": [
      "Peaks:\n",
      "{'s0': '34.05', 's1': '91.91', 's2': '117.21', 's3': '121.46', 's4': '123.27', 's5': '127.39', 's6': '127.6', 's7': '128.4', 's8': '128.98', 's9': '129.3', 's10': '131.29', 's11': '131.39', 's12': '132.24', 's13': '141.41', 's14': '145.34', 's15': '153.0', 's16': '193.28'}\n",
      "Assignments:\n",
      "{'s0': ('34.05', ['43', '45']), 's1': ('91.91', ['25', '30']), 's2': ('117.21', ['23', '32']), 's3': ('121.46', ['18', '29']), 's4': ('123.27', ['21', '38']), 's5': ('127.39', ['2', '40']), 's6': ('127.6', ['6', '12']), 's7': ('128.4', ['5', '7', '11', '13']), 's8': ('128.98', ['19', '37']), 's9': ('129.3', ['4', '8', '10', '14']), 's10': ('131.29', ['17', '28']), 's11': ('131.39', ['22', '33']), 's12': ('132.24', ['1', '41']), 's13': ('141.41', ['3', '9']), 's14': ('145.34', ['20', '34']), 's15': ('153.0', ['16', '27']), 's16': ('193.28', ['24', '31']), 's17': ('33.7', ['43', '45']), 's18': ('94.3', ['25', '30']), 's19': ('109.35', ['23', '32']), 's20': ('119.7', ['18', '29']), 's21': ('124.5', ['21', '38']), 's22': ('127.78', ['6', '12']), 's23': ('128.88', ['5', '7', '11', '13']), 's24': ('128.95', ['19', '37']), 's25': ('129.2', ['2', '40']), 's26': ('129.35', ['4', '8', '10', '14']), 's27': ('129.85', ['17', '28']), 's28': ('133.8', ['22', '33']), 's29': ('134.7', ['1', '41']), 's30': ('142.7', ['3', '9']), 's31': ('145.8', ['20', '34']), 's32': ('152.95', ['16', '27']), 's33': ('191.0', ['24', '31'])}\n"
     ]
    }
   ],
   "source": [
    "def analyzeSpectrum(mol):\n",
    "    spectrum = mol.GetProp(\"NMREDATA_1D_13C\")\n",
    "    assign = mol.GetProp(\"NMREDATA_ASSIGNMENT\")\n",
    "\n",
    "    # Get a list of peaks\n",
    "    peaks = {}\n",
    "    for line in spectrum.split(\"\\\\\"):\n",
    "        if \"L=\" in line:\n",
    "            shift = line.split(\",\")[0].strip()\n",
    "            label = line.split(\",\")[1].replace(\"L=\", \"\").strip()\n",
    "            peaks[label] = shift\n",
    "    print(\"Peaks:\")\n",
    "    print(peaks)\n",
    "\n",
    "    assignments = {}\n",
    "    # Get a list of assignments\n",
    "    for line in assign.split(\"\\\\\"):\n",
    "        arr = line.split(\",\")\n",
    "        if len(arr) > 2:\n",
    "            label = arr[0].strip()\n",
    "            shift = arr[1].strip()\n",
    "            atoms = [x.strip() for x in arr[2:]]\n",
    "            assignments[label] = (shift, atoms)\n",
    "    print(\"Assignments:\")\n",
    "    print(assignments)\n",
    "\n",
    "analyzeSpectrum(molecules[58])"
   ]
  },
  {
   "cell_type": "code",
   "execution_count": 13,
   "id": "5d8968e4-d05d-45a6-938b-8f7e464fdc3e",
   "metadata": {},
   "outputs": [
    {
     "data": {
      "image/png": "[encoded data removed]",
      "text/html": [
       "<table><tr><td colspan=\"2\" style=\"text-align: center;\"><image src=\"data:image/png;base64,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\"></td></tr>\n",
       "<tr><th style=\"text-align: right\">NMREDATA_1D_13C#2</th><td style=\"text-align: left\">Spectrum_Location=molecule/2237\\\n",
       "Larmor=0.0\\\n",
       "33.7, L=s17\\\n",
       "94.3, L=s18\\\n",
       "109.35, L=s19\\\n",
       "119.7, L=s20\\\n",
       "124.5, L=s21\\\n",
       "127.78, L=s22\\\n",
       "128.88, L=s23\\\n",
       "128.95, L=s24\\\n",
       "129.2, L=s25\\\n",
       "129.35, L=s26\\\n",
       "129.85, L=s27\\\n",
       "133.8, L=s28\\\n",
       "134.7, L=s29\\\n",
       "142.7, L=s30\\\n",
       "145.8, L=s31\\\n",
       "152.95, L=s32\\\n",
       "191.0, L=s33\\</td></tr>\n",
       "<tr><th style=\"text-align: right\">NMREDATA_VERSION</th><td style=\"text-align: left\">1.1\\</td></tr>\n",
       "<tr><th style=\"text-align: right\">NMREDATA_SOLVENT</th><td style=\"text-align: left\">\\</td></tr>\n",
       "<tr><th style=\"text-align: right\">NMREDATA_ASSIGNMENT</th><td style=\"text-align: left\">s0, 34.05, 43, 45\\\n",
       "s1, 91.91, 25, 30\\\n",
       "s2, 117.21, 23, 32\\\n",
       "s3, 121.46, 18, 29\\\n",
       "s4, 123.27, 21, 38\\\n",
       "s5, 127.39, 2, 40\\\n",
       "s6, 127.6, 6, 12\\\n",
       "s7, 128.4, 5, 7, 11, 13\\\n",
       "s8, 128.98, 19, 37\\\n",
       "s9, 129.3, 4, 8, 10, 14\\\n",
       "s10, 131.29, 17, 28\\\n",
       "s11, 131.39, 22, 33\\\n",
       "s12, 132.24, 1, 41\\\n",
       "s13, 141.41, 3, 9\\\n",
       "s14, 145.34, 20, 34\\\n",
       "s15, 153.0, 16, 27\\\n",
       "s16, 193.28, 24, 31\\\n",
       "s17, 33.7, 43, 45\\\n",
       "s18, 94.3, 25, 30\\\n",
       "s19, 109.35, 23, 32\\\n",
       "s20, 119.7, 18, 29\\\n",
       "s21, 124.5, 21, 38\\\n",
       "s22, 127.78, 6, 12\\\n",
       "s23, 128.88, 5, 7, 11, 13\\\n",
       "s24, 128.95, 19, 37\\\n",
       "s25, 129.2, 2, 40\\\n",
       "s26, 129.35, 4, 8, 10, 14\\\n",
       "s27, 129.85, 17, 28\\\n",
       "s28, 133.8, 22, 33\\\n",
       "s29, 134.7, 1, 41\\\n",
       "s30, 142.7, 3, 9\\\n",
       "s31, 145.8, 20, 34\\\n",
       "s32, 152.95, 16, 27\\\n",
       "s33, 191.0, 24, 31\\</td></tr>\n",
       "<tr><th style=\"text-align: right\">NMREDATA_INCHI</th><td style=\"text-align: left\">InChI=1S/C38H22O6/c39-35-29-23(19-7-3-1-4-8-19)15-11-21-13-17-25-31(27(21)29)33-34-32-26(43-37(33,35)41)18-14-22-12-16-24(20-9-5-2-6-10-20)30(28(22)32)36(40)38(34,42)44-25/h1-18,33-34,41-42H/t33-,34-,37+,38+/m0/s1/i1+0H,2+0H,3+0H,4+0H,5+0H,6+0H,7+0H,8+0H,9+0H,10+0H,11+0H,12+0H,13+0H,14+0H,15+0H,16+0H,17+0H,18+0H,19+0,20+0,21+0,22+0,23+0,24+0,25+0,26+0,27+0,28+0,29+0,30+0,31+0,32+0,33+0H,34+0H,35+0,36+0,37+0,38+0,39+0,40+0,41+0H,42+0H,43+0,44+0</td></tr>\n",
       "<tr><th style=\"text-align: right\">NMREDATA_LEVEL</th><td style=\"text-align: left\">1\\</td></tr>\n",
       "<tr><th style=\"text-align: right\">NMREDATA_ID</th><td style=\"text-align: left\">Doi=10.18716/nmrshiftdb2/2237\\\n",
       "DB_ID=2237\\</td></tr>\n",
       "<tr><th style=\"text-align: right\">NMREDATA_1D_13C</th><td style=\"text-align: left\">Spectrum_Location=molecule/2237\\\n",
       "Larmor=0.0\\\n",
       "34.05, L=s0\\\n",
       "91.91, L=s1\\\n",
       "117.21, L=s2\\\n",
       "121.46, L=s3\\\n",
       "123.27, L=s4\\\n",
       "127.39, L=s5\\\n",
       "127.6, L=s6\\\n",
       "128.4, L=s7\\\n",
       "128.98, L=s8\\\n",
       "129.3, L=s9\\\n",
       "131.29, L=s10\\\n",
       "131.39, L=s11\\\n",
       "132.24, L=s12\\\n",
       "141.41, L=s13\\\n",
       "145.34, L=s14\\\n",
       "153.0, L=s15\\\n",
       "193.28, L=s16\\</td></tr>\n",
       "<tr><th style=\"text-align: right\">NMREDATA_SMILES</th><td style=\"text-align: left\">C1(=C(C(C=2C(=C(C(=C(C2[H])[H])[H])[H])[H])=C3C(=O)C4(OC=5C(=C(C6=C7C5C8(C4(C=9C3=C1C(=C(C9OC8(C(=O)C7=C(C=%10C(=C(C(=C(C%10[H])[H])[H])[H])[H])C(=C6[H])[H])O[H])[H])[H])[H])[H])[H])[H])O[H])[H])[H]</td></tr></table>"
      ],
      "text/plain": [
       "<rdkit.Chem.rdchem.Mol at 0x11e64e260>"
      ]
     },
     "execution_count": 13,
     "metadata": {},
     "output_type": "execute_result"
    }
   ],
   "source": [
    "molecules[58]"
   ]
  },
  {
   "cell_type": "code",
   "execution_count": 14,
   "id": "8334db65-5103-4124-ae3a-6cc65db4b3d1",
   "metadata": {},
   "outputs": [
    {
     "name": "stdout",
     "output_type": "stream",
     "text": [
      "Peaks:\n",
      "{'s0': '129.1', 's1': '137.3', 's9': '153.9'}\n",
      "Assignments:\n",
      "{'s0': ('129.1', ['10']), 's1': ('137.3', ['9']), 's2': ('153.9', ['8']), 's3': ('22.9', ['1', '13']), 's4': ('23.2', ['2', '12']), 's5': ('28.3', ['4', '14']), 's6': ('32.2', ['3', '11']), 's7': ('129.2', ['6', '10']), 's8': ('137.4', ['9']), 's9': ('153.9', ['5', '8']), 's10': ('1.769', ['28']), 's11': ('1.859', ['26']), 's12': ('2.683', ['30']), 's13': ('2.848', ['24']), 's14': ('7.019', ['23'])}\n"
     ]
    }
   ],
   "source": [
    "# Sometimes we have assignments for peaks that are not 13C, or the 13C is not in the first record\n",
    "analyzeSpectrum(molecules[48])"
   ]
  },
  {
   "cell_type": "code",
   "execution_count": 15,
   "id": "7fe73059-79a3-469a-98f1-84cdc7e9c4f5",
   "metadata": {},
   "outputs": [
    {
     "name": "stdout",
     "output_type": "stream",
     "text": [
      "Spectra found: 2\n",
      "Peaks:\n",
      "{'s3': '22.9', 's4': '23.2', 's5': '28.3', 's6': '32.2', 's7': '129.2', 's8': '137.4', 's9': '153.9', 's0': '129.1', 's1': '137.3'}\n",
      "Assignments:\n",
      "{'s0': ('129.1', ['10']), 's1': ('137.3', ['9']), 's2': ('153.9', ['8']), 's3': ('22.9', ['1', '13']), 's4': ('23.2', ['2', '12']), 's5': ('28.3', ['4', '14']), 's6': ('32.2', ['3', '11']), 's7': ('129.2', ['6', '10']), 's8': ('137.4', ['9']), 's9': ('153.9', ['5', '8']), 's10': ('1.769', ['28']), 's11': ('1.859', ['26']), 's12': ('2.683', ['30']), 's13': ('2.848', ['24']), 's14': ('7.019', ['23'])}\n"
     ]
    },
    {
     "data": {
      "text/plain": [
       "[(22.9, [1, 13]),\n",
       " (23.2, [2, 12]),\n",
       " (28.3, [4, 14]),\n",
       " (32.2, [3, 11]),\n",
       " (129.2, [6, 10]),\n",
       " (137.4, [9]),\n",
       " (153.9, [5, 8]),\n",
       " (129.1, [10]),\n",
       " (137.3, [9])]"
      ]
     },
     "execution_count": 15,
     "metadata": {},
     "output_type": "execute_result"
    }
   ],
   "source": [
    "def analyzeSpectrumSmarter(mol, debug=False):\n",
    "    if not mol:\n",
    "        return None\n",
    "    spectra = [mol.GetProp(x) for x in mol.GetPropNames() if \"NMREDATA_1D_13C\" in x]\n",
    "    if debug:\n",
    "        print(f\"Spectra found: {len(spectra)}\")\n",
    "    if len(spectra) == 0:\n",
    "        return None\n",
    "    assign = mol.GetProp(\"NMREDATA_ASSIGNMENT\")\n",
    "\n",
    "    # Get a list of peaks\n",
    "    peaks = {}\n",
    "    for spectrum in spectra:\n",
    "        for line in spectrum.split(\"\\\\\"):\n",
    "            if \"L=\" in line:\n",
    "                shift = line.split(\",\")[0].strip()\n",
    "                label = line.split(\",\")[1].replace(\"L=\", \"\").strip()\n",
    "                peaks[label] = shift\n",
    "    if debug:\n",
    "        print(\"Peaks:\")\n",
    "        print(peaks)\n",
    "\n",
    "    assignments = {}\n",
    "    # Get a list of assignments\n",
    "    for line in assign.split(\"\\\\\"):\n",
    "        arr = line.split(\",\")\n",
    "        if len(arr) > 2:\n",
    "            label = arr[0].strip()\n",
    "            shift = arr[1].strip()\n",
    "            atoms = [x.strip() for x in arr[2:]]\n",
    "            assignments[label] = (shift, atoms)\n",
    "    if debug:\n",
    "        print(\"Assignments:\")\n",
    "        print(assignments)\n",
    "\n",
    "    out = []\n",
    "    for label, shift in peaks.items():\n",
    "        if label in assignments:\n",
    "            atoms = assignments[label][1]\n",
    "            # Convert the shift to a float value and the atom indices to integers\n",
    "            out.append((float(shift), [int(at) for at in atoms]))\n",
    "\n",
    "    return out\n",
    "\n",
    "analyzeSpectrumSmarter(molecules[48], debug=True)"
   ]
  },
  {
   "cell_type": "code",
   "execution_count": 16,
   "id": "f1275962-47f2-4d19-bf1a-a2a8b8d10434",
   "metadata": {},
   "outputs": [
    {
     "data": {
      "image/png": "[encoded data removed]",
      "text/html": [
       "<table><tr><td colspan=\"2\" style=\"text-align: center;\"><image src=\"data:image/png;base64,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\"></td></tr>\n",
       "<tr><th style=\"text-align: right\">NMREDATA_1D_13C#2</th><td style=\"text-align: left\">Spectrum_Location=molecule/2231\\\n",
       "Larmor=0.0\\\n",
       "22.9, L=s3\\\n",
       "23.2, L=s4\\\n",
       "28.3, L=s5\\\n",
       "32.2, L=s6\\\n",
       "129.2, L=s7\\\n",
       "137.4, L=s8\\\n",
       "153.9, L=s9\\</td></tr>\n",
       "<tr><th style=\"text-align: right\">NMREDATA_1D_1H</th><td style=\"text-align: left\">Spectrum_Location=molecule/2231\\\n",
       "Larmor=0.0\\\n",
       "1.769, L=s10\\\n",
       "1.859, L=s11\\\n",
       "2.683, L=s12\\\n",
       "2.848, L=s13\\\n",
       "7.019, L=s14\\</td></tr>\n",
       "<tr><th style=\"text-align: right\">NMREDATA_VERSION</th><td style=\"text-align: left\">1.1\\</td></tr>\n",
       "<tr><th style=\"text-align: right\">NMREDATA_SOLVENT</th><td style=\"text-align: left\">Unreported\\</td></tr>\n",
       "<tr><th style=\"text-align: right\">NMREDATA_ASSIGNMENT</th><td style=\"text-align: left\">s0, 129.1, 10\\\n",
       "s1, 137.3, 9\\\n",
       "s2, 153.9, 8\\\n",
       "s3, 22.9, 1, 13\\\n",
       "s4, 23.2, 2, 12\\\n",
       "s5, 28.3, 4, 14\\\n",
       "s6, 32.2, 3, 11\\\n",
       "s7, 129.2, 6, 10\\\n",
       "s8, 137.4, 9\\\n",
       "s9, 153.9, 5, 8\\\n",
       "s10, 1.769, 28\\\n",
       "s11, 1.859, 26\\\n",
       "s12, 2.683, 30\\\n",
       "s13, 2.848, 24\\\n",
       "s14, 7.019, 23\\</td></tr>\n",
       "<tr><th style=\"text-align: right\">NMREDATA_INCHI</th><td style=\"text-align: left\">InChI=1S/C13H17N/c1-3-7-12-10(5-1)9-11-6-2-4-8-13(11)14-12/h9H,1-8H2/i1+0H2,2+0H2,3+0H2,4+0H2,5+0H2,6+0H2,7+0H2,8+0H2,9+0H,10+0,11+0,12+0,13+0,14+0</td></tr>\n",
       "<tr><th style=\"text-align: right\">NMREDATA_LEVEL</th><td style=\"text-align: left\">1\\</td></tr>\n",
       "<tr><th style=\"text-align: right\">NMREDATA_ID</th><td style=\"text-align: left\">Doi=10.18716/nmrshiftdb2/2231\\\n",
       "DB_ID=2231\\</td></tr>\n",
       "<tr><th style=\"text-align: right\">NMREDATA_1D_13C</th><td style=\"text-align: left\">Spectrum_Location=molecule/2231\\\n",
       "Larmor=0.0\\\n",
       "129.1, L=s0\\\n",
       "137.3, L=s1\\\n",
       "153.9, L=s9\\</td></tr>\n",
       "<tr><th style=\"text-align: right\">NMREDATA_SMILES</th><td style=\"text-align: left\">C1(C(C(C2=C(C1([H])[H])C(=C3C(=N2)C(C(C(C3([H])[H])([H])[H])([H])[H])([H])[H])[H])([H])[H])([H])[H])([H])[H]</td></tr></table>"
      ],
      "text/plain": [
       "<rdkit.Chem.rdchem.Mol at 0x11e64de00>"
      ]
     },
     "execution_count": 16,
     "metadata": {},
     "output_type": "execute_result"
    }
   ],
   "source": [
    "from rdkit.Chem.Draw import IPythonConsole\n",
    "from rdkit.Chem import Draw\n",
    "IPythonConsole.drawOptions.addAtomIndices = True\n",
    "IPythonConsole.molSize = 400,400\n",
    "molecules[48]"
   ]
  },
  {
   "cell_type": "markdown",
   "id": "9927f637-b499-4ed8-85ff-b5c4e244af71",
   "metadata": {},
   "source": [
    "Seems logical, but we will have to be careful about the shift between zero-based and one-based numbering of atoms."
   ]
  },
  {
   "cell_type": "code",
   "execution_count": 17,
   "id": "696eb075-7f86-47ed-819d-3d9c21b6d482",
   "metadata": {},
   "outputs": [],
   "source": [
    "nmrdata = []\n",
    "for mol in molecules:\n",
    "    data = analyzeSpectrumSmarter(mol)\n",
    "    if data:\n",
    "        nmrdata.append((data,mol))"
   ]
  },
  {
   "cell_type": "code",
   "execution_count": 18,
   "id": "f77a12a3-e4df-43e2-9e95-ceda72edd369",
   "metadata": {},
   "outputs": [
    {
     "data": {
      "text/plain": [
       "37709"
      ]
     },
     "execution_count": 18,
     "metadata": {},
     "output_type": "execute_result"
    }
   ],
   "source": [
    "len(nmrdata)"
   ]
  },
  {
   "cell_type": "code",
   "execution_count": 19,
   "id": "5b6a5979-a136-4eb3-a1f2-ab7abb8629a4",
   "metadata": {},
   "outputs": [
    {
     "data": {
      "text/plain": [
       "399985"
      ]
     },
     "execution_count": 19,
     "metadata": {},
     "output_type": "execute_result"
    }
   ],
   "source": [
    "allshifts = [peak[0] for data in nmrdata for peak in data[0]]\n",
    "len(allshifts)"
   ]
  },
  {
   "cell_type": "code",
   "execution_count": 20,
   "id": "e7fa3b59-3810-4dde-9498-1251357eeaa8",
   "metadata": {},
   "outputs": [
    {
     "data": {
      "image/png": "[encoded data removed]",
      "text/plain": [
       "<Figure size 640x480 with 1 Axes>"
      ]
     },
     "metadata": {},
     "output_type": "display_data"
    }
   ],
   "source": [
    "ax = pd.DataFrame(allshifts, columns=[\"13C NMR shift\"]).hist(bins=200)\n",
    "ax[0][0].invert_xaxis()"
   ]
  },
  {
   "cell_type": "code",
   "execution_count": 21,
   "id": "31bafa24-2605-468c-8870-6d6645368606",
   "metadata": {
    "scrolled": true
   },
   "outputs": [
    {
     "data": {
      "image/png": "[encoded data removed]",
      "text/html": [
       "<table><tr><td colspan=\"2\" style=\"text-align: center;\"><image src=\"data:image/png;base64,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\"></td></tr>\n",
       "<tr><th style=\"text-align: right\">NMREDATA_1D_13C#2</th><td style=\"text-align: left\">Spectrum_Location=molecule/2231\\\n",
       "Larmor=0.0\\\n",
       "22.9, L=s3\\\n",
       "23.2, L=s4\\\n",
       "28.3, L=s5\\\n",
       "32.2, L=s6\\\n",
       "129.2, L=s7\\\n",
       "137.4, L=s8\\\n",
       "153.9, L=s9\\</td></tr>\n",
       "<tr><th style=\"text-align: right\">NMREDATA_1D_1H</th><td style=\"text-align: left\">Spectrum_Location=molecule/2231\\\n",
       "Larmor=0.0\\\n",
       "1.769, L=s10\\\n",
       "1.859, L=s11\\\n",
       "2.683, L=s12\\\n",
       "2.848, L=s13\\\n",
       "7.019, L=s14\\</td></tr>\n",
       "<tr><th style=\"text-align: right\">NMREDATA_VERSION</th><td style=\"text-align: left\">1.1\\</td></tr>\n",
       "<tr><th style=\"text-align: right\">NMREDATA_SOLVENT</th><td style=\"text-align: left\">Unreported\\</td></tr>\n",
       "<tr><th style=\"text-align: right\">NMREDATA_ASSIGNMENT</th><td style=\"text-align: left\">s0, 129.1, 10\\\n",
       "s1, 137.3, 9\\\n",
       "s2, 153.9, 8\\\n",
       "s3, 22.9, 1, 13\\\n",
       "s4, 23.2, 2, 12\\\n",
       "s5, 28.3, 4, 14\\\n",
       "s6, 32.2, 3, 11\\\n",
       "s7, 129.2, 6, 10\\\n",
       "s8, 137.4, 9\\\n",
       "s9, 153.9, 5, 8\\\n",
       "s10, 1.769, 28\\\n",
       "s11, 1.859, 26\\\n",
       "s12, 2.683, 30\\\n",
       "s13, 2.848, 24\\\n",
       "s14, 7.019, 23\\</td></tr>\n",
       "<tr><th style=\"text-align: right\">NMREDATA_INCHI</th><td style=\"text-align: left\">InChI=1S/C13H17N/c1-3-7-12-10(5-1)9-11-6-2-4-8-13(11)14-12/h9H,1-8H2/i1+0H2,2+0H2,3+0H2,4+0H2,5+0H2,6+0H2,7+0H2,8+0H2,9+0H,10+0,11+0,12+0,13+0,14+0</td></tr>\n",
       "<tr><th style=\"text-align: right\">NMREDATA_LEVEL</th><td style=\"text-align: left\">1\\</td></tr>\n",
       "<tr><th style=\"text-align: right\">NMREDATA_ID</th><td style=\"text-align: left\">Doi=10.18716/nmrshiftdb2/2231\\\n",
       "DB_ID=2231\\</td></tr>\n",
       "<tr><th style=\"text-align: right\">NMREDATA_1D_13C</th><td style=\"text-align: left\">Spectrum_Location=molecule/2231\\\n",
       "Larmor=0.0\\\n",
       "129.1, L=s0\\\n",
       "137.3, L=s1\\\n",
       "153.9, L=s9\\</td></tr>\n",
       "<tr><th style=\"text-align: right\">NMREDATA_SMILES</th><td style=\"text-align: left\">C1(C(C(C2=C(C1([H])[H])C(=C3C(=N2)C(C(C(C3([H])[H])([H])[H])([H])[H])([H])[H])[H])([H])[H])([H])[H])([H])[H]</td></tr></table>"
      ],
      "text/plain": [
       "<rdkit.Chem.rdchem.Mol at 0x11e64de00>"
      ]
     },
     "execution_count": 21,
     "metadata": {},
     "output_type": "execute_result"
    }
   ],
   "source": [
    "molecules[48]"
   ]
  },
  {
   "cell_type": "code",
   "execution_count": 22,
   "id": "c1c58921-85f1-4d28-a109-15f056561bd8",
   "metadata": {},
   "outputs": [
    {
     "data": {
      "text/plain": [
       "(<rdkit.Chem.rdchem.Atom at 0x146c80f90>,\n",
       " <rdkit.Chem.rdchem.Atom at 0x146c81000>,\n",
       " <rdkit.Chem.rdchem.Atom at 0x146c81070>)"
      ]
     },
     "execution_count": 22,
     "metadata": {},
     "output_type": "execute_result"
    }
   ],
   "source": [
    "molecules[48].GetAtoms()[7].GetNeighbors()"
   ]
  },
  {
   "cell_type": "code",
   "execution_count": 23,
   "id": "0a9c1e2c-79c1-48dd-9384-7121f7b37ee2",
   "metadata": {},
   "outputs": [],
   "source": [
    "def min_max_avg_stddev(values):\n",
    "    \"\"\"\n",
    "    For a list of values, return the minimum, maximum, average, and standard-deviation as floats.\n",
    "    \"\"\"\n",
    "    n = len(values)\n",
    "    avg = float(sum(values)) / n\n",
    "    stddev = math.sqrt(sum((x - avg)**2 for x in values) / n) \n",
    "    return [float(min(values)), float(max(values)), avg, stddev]\n",
    "\n",
    "def generateDescriptors(mol, atom):\n",
    "    at = mol.GetAtoms()[atom]\n",
    "    neigh = at.GetNeighbors()\n",
    "\n",
    "    neigh_z = [x.GetAtomicNum() for x in neigh]\n",
    "    neigh_formalcharge = [x.GetFormalCharge() for x in neigh]\n",
    "    neigh_arom = [0 if x.GetIsAromatic() else 1 for x in neigh]\n",
    "    neigh_electroneg = [mendeleev.element(z).en_pauling for z in neigh_z]\n",
    "    neigh_electronaff = [mendeleev.element(z).electron_affinity for z in neigh_z]\n",
    "    \n",
    "    return [str(at.GetHybridization()),\n",
    "            at.GetAtomicNum(),\n",
    "            at.GetIsAromatic(),\n",
    "            at.GetTotalNumHs(),\n",
    "            at.GetFormalCharge(),\n",
    "            *min_max_avg_stddev(neigh_z),\n",
    "            *min_max_avg_stddev(neigh_formalcharge),\n",
    "            *min_max_avg_stddev(neigh_arom),\n",
    "            *min_max_avg_stddev(neigh_electroneg),\n",
    "            *min_max_avg_stddev(neigh_electronaff),\n",
    "           ]"
   ]
  },
  {
   "cell_type": "code",
   "execution_count": 24,
   "id": "e35b91ef-94c5-4db9-9683-77d52aabff01",
   "metadata": {},
   "outputs": [
    {
     "data": {
      "text/plain": [
       "['SP2',\n",
       " 6,\n",
       " True,\n",
       " 0,\n",
       " 0,\n",
       " 6.0,\n",
       " 7.0,\n",
       " 6.333333333333333,\n",
       " 0.4714045207910317,\n",
       " 0.0,\n",
       " 0.0,\n",
       " 0.0,\n",
       " 0.0,\n",
       " 0.0,\n",
       " 1.0,\n",
       " 0.3333333333333333,\n",
       " 0.4714045207910317,\n",
       " 2.55,\n",
       " 3.04,\n",
       " 2.7133333333333334,\n",
       " 0.23098821518760562,\n",
       " -1.4,\n",
       " 1.262119,\n",
       " 0.374746,\n",
       " 1.2549349314837004]"
      ]
     },
     "execution_count": 24,
     "metadata": {},
     "output_type": "execute_result"
    }
   ],
   "source": [
    "generateDescriptors(molecules[48], 7)"
   ]
  },
  {
   "cell_type": "code",
   "execution_count": 25,
   "id": "cbec307e-2638-47c1-a980-8e8ed4f9bf28",
   "metadata": {},
   "outputs": [
    {
     "name": "stdout",
     "output_type": "stream",
     "text": [
      "Number of records generated: 629\n",
      "Number of errors: 6\n",
      "CPU times: user 3min 5s, sys: 2.52 s, total: 3min 7s\n",
      "Wall time: 3min 7s\n"
     ]
    }
   ],
   "source": [
    "%%time\n",
    "\n",
    "alldata = []\n",
    "nerrors = 0\n",
    "for peaks, mol in nmrdata[:30]:\n",
    "    for shift, atoms in peaks:\n",
    "        for atom in atoms:\n",
    "            # Atoms are numbered from 1 in the NMR assignment, but start at 0 for RDKit\n",
    "            try:\n",
    "                alldata.append([shift, *generateDescriptors(mol, atom-1)])\n",
    "            except:\n",
    "                # Sometimes we fail, because NMR assignment is invalid (references atoms that do not exist)\n",
    "                nerrors += 1\n",
    "\n",
    "print(f\"Number of records generated: {len(alldata)}\")\n",
    "print(f\"Number of errors: {nerrors}\")"
   ]
  },
  {
   "cell_type": "code",
   "execution_count": null,
   "id": "f2673389-1f1c-4464-ac2d-4e5216ac7d71",
   "metadata": {},
   "outputs": [],
   "source": []
  },
  {
   "cell_type": "code",
   "execution_count": 26,
   "id": "5fe20889-f51f-46b0-bcfa-7bcae246da2f",
   "metadata": {},
   "outputs": [
    {
     "data": {
      "text/plain": [
       "34.974841017488075"
      ]
     },
     "execution_count": 26,
     "metadata": {},
     "output_type": "execute_result"
    }
   ],
   "source": [
    "# How much time (in hours) would it take to process the whole database?\n",
    "len(allshifts) / 629 * 3.3 / 60"
   ]
  },
  {
   "cell_type": "code",
   "execution_count": 33,
   "id": "ab548932-00b0-499e-bd46-3c1be8eae68d",
   "metadata": {},
   "outputs": [],
   "source": [
    "def neigh_labels(x):\n",
    "    return [\"neigh_\" + x + \"_min\", \"neigh_\" + x + \"_max\", \"neigh_\" + x + \"_avg\", \"neigh_\" + x + \"_stddev\"]\n",
    "data_columns = [\"shift\", \"hybridization\", \"Z\", \"aromatic\", \"numHs\", \"charge\",\n",
    "                *neigh_labels(\"z\"), *neigh_labels(\"charge\"), *neigh_labels(\"aromatic\"),\n",
    "                *neigh_labels(\"eneg\"), *neigh_labels(\"eaff\")]\n",
    "\n",
    "df = pd.DataFrame(alldata, columns=data_columns)"
   ]
  },
  {
   "cell_type": "code",
   "execution_count": 28,
   "id": "b172fe76-9a4d-4272-8585-c2217e639c2d",
   "metadata": {},
   "outputs": [
    {
     "data": {
      "text/html": [
       "<div>\n",
       "<style scoped>\n",
       "    .dataframe tbody tr th:only-of-type {\n",
       "        vertical-align: middle;\n",
       "    }\n",
       "\n",
       "    .dataframe tbody tr th {\n",
       "        vertical-align: top;\n",
       "    }\n",
       "\n",
       "    .dataframe thead th {\n",
       "        text-align: right;\n",
       "    }\n",
       "</style>\n",
       "<table border=\"1\" class=\"dataframe\">\n",
       "  <thead>\n",
       "    <tr style=\"text-align: right;\">\n",
       "      <th></th>\n",
       "      <th>shift</th>\n",
       "      <th>hybridization</th>\n",
       "      <th>Z</th>\n",
       "      <th>aromatic</th>\n",
       "      <th>numHs</th>\n",
       "      <th>charge</th>\n",
       "      <th>neigh_z_min</th>\n",
       "      <th>neigh_z_max</th>\n",
       "      <th>neigh_z_avg</th>\n",
       "      <th>neigh_z_stddev</th>\n",
       "      <th>...</th>\n",
       "      <th>neigh_aromatic_avg</th>\n",
       "      <th>neigh_aromatic_stddev</th>\n",
       "      <th>neigh_eneg_min</th>\n",
       "      <th>neigh_eneg_max</th>\n",
       "      <th>neigh_eneg_avg</th>\n",
       "      <th>neigh_eneg_stddev</th>\n",
       "      <th>neigh_eaff_min</th>\n",
       "      <th>neigh_eaff_max</th>\n",
       "      <th>neigh_eaff_avg</th>\n",
       "      <th>neigh_eaff_stddev</th>\n",
       "    </tr>\n",
       "  </thead>\n",
       "  <tbody>\n",
       "    <tr>\n",
       "      <th>0</th>\n",
       "      <td>17.6</td>\n",
       "      <td>SP3</td>\n",
       "      <td>6</td>\n",
       "      <td>False</td>\n",
       "      <td>3</td>\n",
       "      <td>0</td>\n",
       "      <td>6.0</td>\n",
       "      <td>6.0</td>\n",
       "      <td>6.0</td>\n",
       "      <td>0.0</td>\n",
       "      <td>...</td>\n",
       "      <td>1.0</td>\n",
       "      <td>0.0</td>\n",
       "      <td>2.55</td>\n",
       "      <td>2.55</td>\n",
       "      <td>2.55</td>\n",
       "      <td>0.0</td>\n",
       "      <td>1.262119</td>\n",
       "      <td>1.262119</td>\n",
       "      <td>1.262119</td>\n",
       "      <td>0.0</td>\n",
       "    </tr>\n",
       "    <tr>\n",
       "      <th>1</th>\n",
       "      <td>18.3</td>\n",
       "      <td>SP3</td>\n",
       "      <td>6</td>\n",
       "      <td>False</td>\n",
       "      <td>2</td>\n",
       "      <td>0</td>\n",
       "      <td>6.0</td>\n",
       "      <td>6.0</td>\n",
       "      <td>6.0</td>\n",
       "      <td>0.0</td>\n",
       "      <td>...</td>\n",
       "      <td>1.0</td>\n",
       "      <td>0.0</td>\n",
       "      <td>2.55</td>\n",
       "      <td>2.55</td>\n",
       "      <td>2.55</td>\n",
       "      <td>0.0</td>\n",
       "      <td>1.262119</td>\n",
       "      <td>1.262119</td>\n",
       "      <td>1.262119</td>\n",
       "      <td>0.0</td>\n",
       "    </tr>\n",
       "    <tr>\n",
       "      <th>2</th>\n",
       "      <td>22.6</td>\n",
       "      <td>SP3</td>\n",
       "      <td>6</td>\n",
       "      <td>False</td>\n",
       "      <td>3</td>\n",
       "      <td>0</td>\n",
       "      <td>6.0</td>\n",
       "      <td>6.0</td>\n",
       "      <td>6.0</td>\n",
       "      <td>0.0</td>\n",
       "      <td>...</td>\n",
       "      <td>1.0</td>\n",
       "      <td>0.0</td>\n",
       "      <td>2.55</td>\n",
       "      <td>2.55</td>\n",
       "      <td>2.55</td>\n",
       "      <td>0.0</td>\n",
       "      <td>1.262119</td>\n",
       "      <td>1.262119</td>\n",
       "      <td>1.262119</td>\n",
       "      <td>0.0</td>\n",
       "    </tr>\n",
       "    <tr>\n",
       "      <th>3</th>\n",
       "      <td>26.5</td>\n",
       "      <td>SP3</td>\n",
       "      <td>6</td>\n",
       "      <td>False</td>\n",
       "      <td>2</td>\n",
       "      <td>0</td>\n",
       "      <td>6.0</td>\n",
       "      <td>6.0</td>\n",
       "      <td>6.0</td>\n",
       "      <td>0.0</td>\n",
       "      <td>...</td>\n",
       "      <td>1.0</td>\n",
       "      <td>0.0</td>\n",
       "      <td>2.55</td>\n",
       "      <td>2.55</td>\n",
       "      <td>2.55</td>\n",
       "      <td>0.0</td>\n",
       "      <td>1.262119</td>\n",
       "      <td>1.262119</td>\n",
       "      <td>1.262119</td>\n",
       "      <td>0.0</td>\n",
       "    </tr>\n",
       "    <tr>\n",
       "      <th>4</th>\n",
       "      <td>31.7</td>\n",
       "      <td>SP3</td>\n",
       "      <td>6</td>\n",
       "      <td>False</td>\n",
       "      <td>2</td>\n",
       "      <td>0</td>\n",
       "      <td>6.0</td>\n",
       "      <td>6.0</td>\n",
       "      <td>6.0</td>\n",
       "      <td>0.0</td>\n",
       "      <td>...</td>\n",
       "      <td>1.0</td>\n",
       "      <td>0.0</td>\n",
       "      <td>2.55</td>\n",
       "      <td>2.55</td>\n",
       "      <td>2.55</td>\n",
       "      <td>0.0</td>\n",
       "      <td>1.262119</td>\n",
       "      <td>1.262119</td>\n",
       "      <td>1.262119</td>\n",
       "      <td>0.0</td>\n",
       "    </tr>\n",
       "  </tbody>\n",
       "</table>\n",
       "<p>5 rows × 26 columns</p>\n",
       "</div>"
      ],
      "text/plain": [
       "   shift hybridization  Z  aromatic  numHs  charge  neigh_z_min  neigh_z_max  \\\n",
       "0   17.6           SP3  6     False      3       0          6.0          6.0   \n",
       "1   18.3           SP3  6     False      2       0          6.0          6.0   \n",
       "2   22.6           SP3  6     False      3       0          6.0          6.0   \n",
       "3   26.5           SP3  6     False      2       0          6.0          6.0   \n",
       "4   31.7           SP3  6     False      2       0          6.0          6.0   \n",
       "\n",
       "   neigh_z_avg  neigh_z_stddev  ...  neigh_aromatic_avg  \\\n",
       "0          6.0             0.0  ...                 1.0   \n",
       "1          6.0             0.0  ...                 1.0   \n",
       "2          6.0             0.0  ...                 1.0   \n",
       "3          6.0             0.0  ...                 1.0   \n",
       "4          6.0             0.0  ...                 1.0   \n",
       "\n",
       "   neigh_aromatic_stddev  neigh_eneg_min  neigh_eneg_max  neigh_eneg_avg  \\\n",
       "0                    0.0            2.55            2.55            2.55   \n",
       "1                    0.0            2.55            2.55            2.55   \n",
       "2                    0.0            2.55            2.55            2.55   \n",
       "3                    0.0            2.55            2.55            2.55   \n",
       "4                    0.0            2.55            2.55            2.55   \n",
       "\n",
       "   neigh_eneg_stddev  neigh_eaff_min  neigh_eaff_max  neigh_eaff_avg  \\\n",
       "0                0.0        1.262119        1.262119        1.262119   \n",
       "1                0.0        1.262119        1.262119        1.262119   \n",
       "2                0.0        1.262119        1.262119        1.262119   \n",
       "3                0.0        1.262119        1.262119        1.262119   \n",
       "4                0.0        1.262119        1.262119        1.262119   \n",
       "\n",
       "   neigh_eaff_stddev  \n",
       "0                0.0  \n",
       "1                0.0  \n",
       "2                0.0  \n",
       "3                0.0  \n",
       "4                0.0  \n",
       "\n",
       "[5 rows x 26 columns]"
      ]
     },
     "execution_count": 28,
     "metadata": {},
     "output_type": "execute_result"
    }
   ],
   "source": [
    "df.head()"
   ]
  },
  {
   "cell_type": "code",
   "execution_count": 29,
   "id": "f401a05a-356e-4732-b736-a8151f6afe19",
   "metadata": {},
   "outputs": [
    {
     "data": {
      "text/html": [
       "<div>\n",
       "<style scoped>\n",
       "    .dataframe tbody tr th:only-of-type {\n",
       "        vertical-align: middle;\n",
       "    }\n",
       "\n",
       "    .dataframe tbody tr th {\n",
       "        vertical-align: top;\n",
       "    }\n",
       "\n",
       "    .dataframe thead th {\n",
       "        text-align: right;\n",
       "    }\n",
       "</style>\n",
       "<table border=\"1\" class=\"dataframe\">\n",
       "  <thead>\n",
       "    <tr style=\"text-align: right;\">\n",
       "      <th></th>\n",
       "      <th>shift</th>\n",
       "      <th>Z</th>\n",
       "      <th>numHs</th>\n",
       "      <th>charge</th>\n",
       "      <th>neigh_z_min</th>\n",
       "      <th>neigh_z_max</th>\n",
       "      <th>neigh_z_avg</th>\n",
       "      <th>neigh_z_stddev</th>\n",
       "      <th>neigh_charge_min</th>\n",
       "      <th>neigh_charge_max</th>\n",
       "      <th>...</th>\n",
       "      <th>neigh_aromatic_avg</th>\n",
       "      <th>neigh_aromatic_stddev</th>\n",
       "      <th>neigh_eneg_min</th>\n",
       "      <th>neigh_eneg_max</th>\n",
       "      <th>neigh_eneg_avg</th>\n",
       "      <th>neigh_eneg_stddev</th>\n",
       "      <th>neigh_eaff_min</th>\n",
       "      <th>neigh_eaff_max</th>\n",
       "      <th>neigh_eaff_avg</th>\n",
       "      <th>neigh_eaff_stddev</th>\n",
       "    </tr>\n",
       "  </thead>\n",
       "  <tbody>\n",
       "    <tr>\n",
       "      <th>count</th>\n",
       "      <td>629.000000</td>\n",
       "      <td>629.0</td>\n",
       "      <td>629.000000</td>\n",
       "      <td>629.0</td>\n",
       "      <td>629.000000</td>\n",
       "      <td>629.000000</td>\n",
       "      <td>629.000000</td>\n",
       "      <td>629.000000</td>\n",
       "      <td>629.0</td>\n",
       "      <td>629.000000</td>\n",
       "      <td>...</td>\n",
       "      <td>629.000000</td>\n",
       "      <td>629.000000</td>\n",
       "      <td>629.000000</td>\n",
       "      <td>629.000000</td>\n",
       "      <td>629.000000</td>\n",
       "      <td>629.000000</td>\n",
       "      <td>629.000000</td>\n",
       "      <td>629.000000</td>\n",
       "      <td>629.000000</td>\n",
       "      <td>629.000000</td>\n",
       "    </tr>\n",
       "    <tr>\n",
       "      <th>mean</th>\n",
       "      <td>90.152862</td>\n",
       "      <td>6.0</td>\n",
       "      <td>1.162162</td>\n",
       "      <td>0.0</td>\n",
       "      <td>6.068362</td>\n",
       "      <td>6.767886</td>\n",
       "      <td>6.368177</td>\n",
       "      <td>0.330118</td>\n",
       "      <td>0.0</td>\n",
       "      <td>0.003180</td>\n",
       "      <td>...</td>\n",
       "      <td>0.681638</td>\n",
       "      <td>0.062598</td>\n",
       "      <td>2.577107</td>\n",
       "      <td>2.790731</td>\n",
       "      <td>2.668835</td>\n",
       "      <td>0.101293</td>\n",
       "      <td>1.016842</td>\n",
       "      <td>1.299525</td>\n",
       "      <td>1.170211</td>\n",
       "      <td>0.135140</td>\n",
       "    </tr>\n",
       "    <tr>\n",
       "      <th>std</th>\n",
       "      <td>52.491952</td>\n",
       "      <td>0.0</td>\n",
       "      <td>1.050826</td>\n",
       "      <td>0.0</td>\n",
       "      <td>0.329206</td>\n",
       "      <td>2.169604</td>\n",
       "      <td>0.938960</td>\n",
       "      <td>0.979297</td>\n",
       "      <td>0.0</td>\n",
       "      <td>0.056343</td>\n",
       "      <td>...</td>\n",
       "      <td>0.433124</td>\n",
       "      <td>0.160725</td>\n",
       "      <td>0.142730</td>\n",
       "      <td>0.374979</td>\n",
       "      <td>0.207335</td>\n",
       "      <td>0.171554</td>\n",
       "      <td>0.778737</td>\n",
       "      <td>0.380689</td>\n",
       "      <td>0.430426</td>\n",
       "      <td>0.376500</td>\n",
       "    </tr>\n",
       "    <tr>\n",
       "      <th>min</th>\n",
       "      <td>7.700000</td>\n",
       "      <td>6.0</td>\n",
       "      <td>0.000000</td>\n",
       "      <td>0.0</td>\n",
       "      <td>6.000000</td>\n",
       "      <td>6.000000</td>\n",
       "      <td>6.000000</td>\n",
       "      <td>0.000000</td>\n",
       "      <td>0.0</td>\n",
       "      <td>0.000000</td>\n",
       "      <td>...</td>\n",
       "      <td>0.000000</td>\n",
       "      <td>0.000000</td>\n",
       "      <td>2.550000</td>\n",
       "      <td>2.550000</td>\n",
       "      <td>2.550000</td>\n",
       "      <td>0.000000</td>\n",
       "      <td>-1.400000</td>\n",
       "      <td>-1.400000</td>\n",
       "      <td>-1.400000</td>\n",
       "      <td>0.000000</td>\n",
       "    </tr>\n",
       "    <tr>\n",
       "      <th>25%</th>\n",
       "      <td>38.700000</td>\n",
       "      <td>6.0</td>\n",
       "      <td>0.000000</td>\n",
       "      <td>0.0</td>\n",
       "      <td>6.000000</td>\n",
       "      <td>6.000000</td>\n",
       "      <td>6.000000</td>\n",
       "      <td>0.000000</td>\n",
       "      <td>0.0</td>\n",
       "      <td>0.000000</td>\n",
       "      <td>...</td>\n",
       "      <td>0.333333</td>\n",
       "      <td>0.000000</td>\n",
       "      <td>2.550000</td>\n",
       "      <td>2.550000</td>\n",
       "      <td>2.550000</td>\n",
       "      <td>0.000000</td>\n",
       "      <td>1.262119</td>\n",
       "      <td>1.262119</td>\n",
       "      <td>1.262119</td>\n",
       "      <td>0.000000</td>\n",
       "    </tr>\n",
       "    <tr>\n",
       "      <th>50%</th>\n",
       "      <td>95.680000</td>\n",
       "      <td>6.0</td>\n",
       "      <td>1.000000</td>\n",
       "      <td>0.0</td>\n",
       "      <td>6.000000</td>\n",
       "      <td>6.000000</td>\n",
       "      <td>6.000000</td>\n",
       "      <td>0.000000</td>\n",
       "      <td>0.0</td>\n",
       "      <td>0.000000</td>\n",
       "      <td>...</td>\n",
       "      <td>1.000000</td>\n",
       "      <td>0.000000</td>\n",
       "      <td>2.550000</td>\n",
       "      <td>2.550000</td>\n",
       "      <td>2.550000</td>\n",
       "      <td>0.000000</td>\n",
       "      <td>1.262119</td>\n",
       "      <td>1.262119</td>\n",
       "      <td>1.262119</td>\n",
       "      <td>0.000000</td>\n",
       "    </tr>\n",
       "    <tr>\n",
       "      <th>75%</th>\n",
       "      <td>129.590000</td>\n",
       "      <td>6.0</td>\n",
       "      <td>2.000000</td>\n",
       "      <td>0.0</td>\n",
       "      <td>6.000000</td>\n",
       "      <td>7.000000</td>\n",
       "      <td>6.500000</td>\n",
       "      <td>0.471405</td>\n",
       "      <td>0.0</td>\n",
       "      <td>0.000000</td>\n",
       "      <td>...</td>\n",
       "      <td>1.000000</td>\n",
       "      <td>0.000000</td>\n",
       "      <td>2.550000</td>\n",
       "      <td>3.040000</td>\n",
       "      <td>2.795000</td>\n",
       "      <td>0.230988</td>\n",
       "      <td>1.262119</td>\n",
       "      <td>1.262119</td>\n",
       "      <td>1.262119</td>\n",
       "      <td>0.093807</td>\n",
       "    </tr>\n",
       "    <tr>\n",
       "      <th>max</th>\n",
       "      <td>207.900000</td>\n",
       "      <td>6.0</td>\n",
       "      <td>3.000000</td>\n",
       "      <td>0.0</td>\n",
       "      <td>8.000000</td>\n",
       "      <td>35.000000</td>\n",
       "      <td>15.666667</td>\n",
       "      <td>13.670731</td>\n",
       "      <td>0.0</td>\n",
       "      <td>1.000000</td>\n",
       "      <td>...</td>\n",
       "      <td>1.000000</td>\n",
       "      <td>0.500000</td>\n",
       "      <td>3.440000</td>\n",
       "      <td>3.980000</td>\n",
       "      <td>3.440000</td>\n",
       "      <td>0.715000</td>\n",
       "      <td>1.461113</td>\n",
       "      <td>3.612725</td>\n",
       "      <td>2.331654</td>\n",
       "      <td>2.047753</td>\n",
       "    </tr>\n",
       "  </tbody>\n",
       "</table>\n",
       "<p>8 rows × 24 columns</p>\n",
       "</div>"
      ],
      "text/plain": [
       "            shift      Z       numHs  charge  neigh_z_min  neigh_z_max  \\\n",
       "count  629.000000  629.0  629.000000   629.0   629.000000   629.000000   \n",
       "mean    90.152862    6.0    1.162162     0.0     6.068362     6.767886   \n",
       "std     52.491952    0.0    1.050826     0.0     0.329206     2.169604   \n",
       "min      7.700000    6.0    0.000000     0.0     6.000000     6.000000   \n",
       "25%     38.700000    6.0    0.000000     0.0     6.000000     6.000000   \n",
       "50%     95.680000    6.0    1.000000     0.0     6.000000     6.000000   \n",
       "75%    129.590000    6.0    2.000000     0.0     6.000000     7.000000   \n",
       "max    207.900000    6.0    3.000000     0.0     8.000000    35.000000   \n",
       "\n",
       "       neigh_z_avg  neigh_z_stddev  neigh_charge_min  neigh_charge_max  ...  \\\n",
       "count   629.000000      629.000000             629.0        629.000000  ...   \n",
       "mean      6.368177        0.330118               0.0          0.003180  ...   \n",
       "std       0.938960        0.979297               0.0          0.056343  ...   \n",
       "min       6.000000        0.000000               0.0          0.000000  ...   \n",
       "25%       6.000000        0.000000               0.0          0.000000  ...   \n",
       "50%       6.000000        0.000000               0.0          0.000000  ...   \n",
       "75%       6.500000        0.471405               0.0          0.000000  ...   \n",
       "max      15.666667       13.670731               0.0          1.000000  ...   \n",
       "\n",
       "       neigh_aromatic_avg  neigh_aromatic_stddev  neigh_eneg_min  \\\n",
       "count          629.000000             629.000000      629.000000   \n",
       "mean             0.681638               0.062598        2.577107   \n",
       "std              0.433124               0.160725        0.142730   \n",
       "min              0.000000               0.000000        2.550000   \n",
       "25%              0.333333               0.000000        2.550000   \n",
       "50%              1.000000               0.000000        2.550000   \n",
       "75%              1.000000               0.000000        2.550000   \n",
       "max              1.000000               0.500000        3.440000   \n",
       "\n",
       "       neigh_eneg_max  neigh_eneg_avg  neigh_eneg_stddev  neigh_eaff_min  \\\n",
       "count      629.000000      629.000000         629.000000      629.000000   \n",
       "mean         2.790731        2.668835           0.101293        1.016842   \n",
       "std          0.374979        0.207335           0.171554        0.778737   \n",
       "min          2.550000        2.550000           0.000000       -1.400000   \n",
       "25%          2.550000        2.550000           0.000000        1.262119   \n",
       "50%          2.550000        2.550000           0.000000        1.262119   \n",
       "75%          3.040000        2.795000           0.230988        1.262119   \n",
       "max          3.980000        3.440000           0.715000        1.461113   \n",
       "\n",
       "       neigh_eaff_max  neigh_eaff_avg  neigh_eaff_stddev  \n",
       "count      629.000000      629.000000         629.000000  \n",
       "mean         1.299525        1.170211           0.135140  \n",
       "std          0.380689        0.430426           0.376500  \n",
       "min         -1.400000       -1.400000           0.000000  \n",
       "25%          1.262119        1.262119           0.000000  \n",
       "50%          1.262119        1.262119           0.000000  \n",
       "75%          1.262119        1.262119           0.093807  \n",
       "max          3.612725        2.331654           2.047753  \n",
       "\n",
       "[8 rows x 24 columns]"
      ]
     },
     "execution_count": 29,
     "metadata": {},
     "output_type": "execute_result"
    }
   ],
   "source": [
    "df.describe()"
   ]
  },
  {
   "cell_type": "code",
   "execution_count": 30,
   "id": "99af0d7d-94cc-4efd-b5d9-a257b473c42b",
   "metadata": {},
   "outputs": [],
   "source": [
    "# 629 data records (from 30 molecules) is definitely not enough for us to do proper learning.\n",
    "# We should be able to process 500 molecules in about an hour (on my laptop) so let's do that."
   ]
  },
  {
   "cell_type": "code",
   "execution_count": 31,
   "id": "1f00cd33-e9f3-4034-ab50-7d8be05c3db4",
   "metadata": {},
   "outputs": [
    {
     "name": "stdout",
     "output_type": "stream",
     "text": [
      "Molecule 20\n",
      "Molecule 40\n",
      "Molecule 60\n",
      "Molecule 80\n",
      "Molecule 100\n",
      "Molecule 120\n",
      "Molecule 140\n",
      "Molecule 160\n",
      "Molecule 180\n",
      "Molecule 200\n",
      "Molecule 220\n",
      "Molecule 240\n",
      "Molecule 260\n",
      "Molecule 280\n",
      "Molecule 300\n",
      "Molecule 320\n",
      "Molecule 340\n",
      "Molecule 360\n",
      "Molecule 380\n",
      "Molecule 400\n",
      "Molecule 420\n",
      "Molecule 440\n",
      "Molecule 460\n",
      "Molecule 480\n",
      "Molecule 500\n",
      "Number of records generated: 6044\n",
      "Number of errors: 17\n",
      "CPU times: user 31min 47s, sys: 27 s, total: 32min 14s\n",
      "Wall time: 35min 12s\n"
     ]
    }
   ],
   "source": [
    "%%time\n",
    "\n",
    "alldata = []\n",
    "nerrors = 0\n",
    "n = 0\n",
    "for peaks, mol in random.sample(nmrdata, 500):\n",
    "    n += 1\n",
    "    if n % 20 == 0:\n",
    "        print(f\"Molecule {n}\")\n",
    "    for shift, atoms in peaks:\n",
    "        for atom in atoms:\n",
    "            # Atoms are numbered from 1 in the NMR assignment, but start at 0 for RDKit\n",
    "            try:\n",
    "                alldata.append([shift, *generateDescriptors(mol, atom-1)])\n",
    "            except:\n",
    "                # Sometimes we fail, because NMR assignment is invalid (references atoms that do not exist)\n",
    "                nerrors += 1\n",
    "\n",
    "print(f\"Number of records generated: {len(alldata)}\")\n",
    "print(f\"Number of errors: {nerrors}\")"
   ]
  },
  {
   "cell_type": "code",
   "execution_count": 34,
   "id": "6ad60e54-c228-4973-bd5b-b3e842142438",
   "metadata": {},
   "outputs": [],
   "source": [
    "df = pd.DataFrame(alldata, columns=data_columns)"
   ]
  },
  {
   "cell_type": "code",
   "execution_count": 37,
   "id": "b5248721-8396-4aaa-9aa5-317a32c044af",
   "metadata": {},
   "outputs": [],
   "source": [
    "# Save so we can reuse it later\n",
    "df.to_excel(\"nmrdata.xlsx\")\n",
    "df.to_csv(\"nmrdata.csv\")"
   ]
  },
  {
   "cell_type": "code",
   "execution_count": null,
   "id": "bf4abe0b-01bc-488e-8e6f-1fa97d800249",
   "metadata": {},
   "outputs": [],
   "source": []
  },
  {
   "cell_type": "code",
   "execution_count": 52,
   "id": "e97e1e6a-d188-4af0-9e0a-571e7fa7a013",
   "metadata": {},
   "outputs": [
    {
     "data": {
      "image/png": "[encoded data removed]",
      "text/plain": [
       "<Figure size 640x480 with 4 Axes>"
      ]
     },
     "metadata": {},
     "output_type": "display_data"
    }
   ],
   "source": [
    "_ = df.hist(\"shift\", by=\"hybridization\", bins=50)"
   ]
  },
  {
   "cell_type": "code",
   "execution_count": 53,
   "id": "694cd384-7227-4ec8-922e-2de8330a7245",
   "metadata": {},
   "outputs": [
    {
     "data": {
      "text/plain": [
       "array([[<Axes: title={'center': '0'}>, <Axes: title={'center': '1'}>],\n",
       "       [<Axes: title={'center': '2'}>, <Axes: title={'center': '3'}>]],\n",
       "      dtype=object)"
      ]
     },
     "execution_count": 53,
     "metadata": {},
     "output_type": "execute_result"
    },
    {
     "data": {
      "image/png": "[encoded data removed]",
      "text/plain": [
       "<Figure size 640x480 with 4 Axes>"
      ]
     },
     "metadata": {},
     "output_type": "display_data"
    }
   ],
   "source": [
    "df.hist(\"shift\", by=\"numHs\", bins=50)"
   ]
  },
  {
   "cell_type": "code",
   "execution_count": 64,
   "id": "973ca291-8696-4de7-9add-64cfc206138a",
   "metadata": {},
   "outputs": [
    {
     "data": {
      "image/png": "[encoded data removed]",
      "text/plain": [
       "<Figure size 640x480 with 1 Axes>"
      ]
     },
     "metadata": {},
     "output_type": "display_data"
    }
   ],
   "source": [
    "_ = df.plot.scatter(\"neigh_eneg_avg\", \"shift\")"
   ]
  },
  {
   "cell_type": "code",
   "execution_count": null,
   "id": "07dc3ad4-4a1e-4ce3-a53c-e53bc9e97318",
   "metadata": {},
   "outputs": [],
   "source": []
  },
  {
   "cell_type": "code",
   "execution_count": 124,
   "id": "cdec7ca6-cb28-4630-b863-06be3b778873",
   "metadata": {},
   "outputs": [
    {
     "data": {
      "text/html": [
       "<style>#sk-container-id-17 {color: black;}#sk-container-id-17 pre{padding: 0;}#sk-container-id-17 div.sk-toggleable {background-color: white;}#sk-container-id-17 label.sk-toggleable__label {cursor: pointer;display: block;width: 100%;margin-bottom: 0;padding: 0.3em;box-sizing: border-box;text-align: center;}#sk-container-id-17 label.sk-toggleable__label-arrow:before {content: \"▸\";float: left;margin-right: 0.25em;color: #696969;}#sk-container-id-17 label.sk-toggleable__label-arrow:hover:before {color: black;}#sk-container-id-17 div.sk-estimator:hover label.sk-toggleable__label-arrow:before {color: black;}#sk-container-id-17 div.sk-toggleable__content {max-height: 0;max-width: 0;overflow: hidden;text-align: left;background-color: #f0f8ff;}#sk-container-id-17 div.sk-toggleable__content pre {margin: 0.2em;color: black;border-radius: 0.25em;background-color: #f0f8ff;}#sk-container-id-17 input.sk-toggleable__control:checked~div.sk-toggleable__content {max-height: 200px;max-width: 100%;overflow: auto;}#sk-container-id-17 input.sk-toggleable__control:checked~label.sk-toggleable__label-arrow:before {content: \"▾\";}#sk-container-id-17 div.sk-estimator input.sk-toggleable__control:checked~label.sk-toggleable__label {background-color: #d4ebff;}#sk-container-id-17 div.sk-label input.sk-toggleable__control:checked~label.sk-toggleable__label {background-color: #d4ebff;}#sk-container-id-17 input.sk-hidden--visually {border: 0;clip: rect(1px 1px 1px 1px);clip: rect(1px, 1px, 1px, 1px);height: 1px;margin: -1px;overflow: hidden;padding: 0;position: absolute;width: 1px;}#sk-container-id-17 div.sk-estimator {font-family: monospace;background-color: #f0f8ff;border: 1px dotted black;border-radius: 0.25em;box-sizing: border-box;margin-bottom: 0.5em;}#sk-container-id-17 div.sk-estimator:hover {background-color: #d4ebff;}#sk-container-id-17 div.sk-parallel-item::after {content: \"\";width: 100%;border-bottom: 1px solid gray;flex-grow: 1;}#sk-container-id-17 div.sk-label:hover label.sk-toggleable__label {background-color: #d4ebff;}#sk-container-id-17 div.sk-serial::before {content: \"\";position: absolute;border-left: 1px solid gray;box-sizing: border-box;top: 0;bottom: 0;left: 50%;z-index: 0;}#sk-container-id-17 div.sk-serial {display: flex;flex-direction: column;align-items: center;background-color: white;padding-right: 0.2em;padding-left: 0.2em;position: relative;}#sk-container-id-17 div.sk-item {position: relative;z-index: 1;}#sk-container-id-17 div.sk-parallel {display: flex;align-items: stretch;justify-content: center;background-color: white;position: relative;}#sk-container-id-17 div.sk-item::before, #sk-container-id-17 div.sk-parallel-item::before {content: \"\";position: absolute;border-left: 1px solid gray;box-sizing: border-box;top: 0;bottom: 0;left: 50%;z-index: -1;}#sk-container-id-17 div.sk-parallel-item {display: flex;flex-direction: column;z-index: 1;position: relative;background-color: white;}#sk-container-id-17 div.sk-parallel-item:first-child::after {align-self: flex-end;width: 50%;}#sk-container-id-17 div.sk-parallel-item:last-child::after {align-self: flex-start;width: 50%;}#sk-container-id-17 div.sk-parallel-item:only-child::after {width: 0;}#sk-container-id-17 div.sk-dashed-wrapped {border: 1px dashed gray;margin: 0 0.4em 0.5em 0.4em;box-sizing: border-box;padding-bottom: 0.4em;background-color: white;}#sk-container-id-17 div.sk-label label {font-family: monospace;font-weight: bold;display: inline-block;line-height: 1.2em;}#sk-container-id-17 div.sk-label-container {text-align: center;}#sk-container-id-17 div.sk-container {/* jupyter's `normalize.less` sets `[hidden] { display: none; }` but bootstrap.min.css set `[hidden] { display: none !important; }` so we also need the `!important` here to be able to override the default hidden behavior on the sphinx rendered scikit-learn.org. See: https://github.com/scikit-learn/scikit-learn/issues/21755 */display: inline-block !important;position: relative;}#sk-container-id-17 div.sk-text-repr-fallback {display: none;}</style><div id=\"sk-container-id-17\" class=\"sk-top-container\"><div class=\"sk-text-repr-fallback\"><pre>Pipeline(steps=[(&#x27;preprocessor&#x27;,\n",
       "                 ColumnTransformer(remainder=&#x27;passthrough&#x27;,\n",
       "                                   transformers=[(&#x27;hybridization_encoder&#x27;,\n",
       "                                                  OneHotEncoder(),\n",
       "                                                  [&#x27;hybridization&#x27;])])),\n",
       "                (&#x27;scaling&#x27;, StandardScaler()),\n",
       "                (&#x27;regression&#x27;, LinearRegression())])</pre><b>In a Jupyter environment, please rerun this cell to show the HTML representation or trust the notebook. <br />On GitHub, the HTML representation is unable to render, please try loading this page with nbviewer.org.</b></div><div class=\"sk-container\" hidden><div class=\"sk-item sk-dashed-wrapped\"><div class=\"sk-label-container\"><div class=\"sk-label sk-toggleable\"><input class=\"sk-toggleable__control sk-hidden--visually\" id=\"sk-estimator-id-98\" type=\"checkbox\" ><label for=\"sk-estimator-id-98\" class=\"sk-toggleable__label sk-toggleable__label-arrow\">Pipeline</label><div class=\"sk-toggleable__content\"><pre>Pipeline(steps=[(&#x27;preprocessor&#x27;,\n",
       "                 ColumnTransformer(remainder=&#x27;passthrough&#x27;,\n",
       "                                   transformers=[(&#x27;hybridization_encoder&#x27;,\n",
       "                                                  OneHotEncoder(),\n",
       "                                                  [&#x27;hybridization&#x27;])])),\n",
       "                (&#x27;scaling&#x27;, StandardScaler()),\n",
       "                (&#x27;regression&#x27;, LinearRegression())])</pre></div></div></div><div class=\"sk-serial\"><div class=\"sk-item sk-dashed-wrapped\"><div class=\"sk-label-container\"><div class=\"sk-label sk-toggleable\"><input class=\"sk-toggleable__control sk-hidden--visually\" id=\"sk-estimator-id-99\" type=\"checkbox\" ><label for=\"sk-estimator-id-99\" class=\"sk-toggleable__label sk-toggleable__label-arrow\">preprocessor: ColumnTransformer</label><div class=\"sk-toggleable__content\"><pre>ColumnTransformer(remainder=&#x27;passthrough&#x27;,\n",
       "                  transformers=[(&#x27;hybridization_encoder&#x27;, OneHotEncoder(),\n",
       "                                 [&#x27;hybridization&#x27;])])</pre></div></div></div><div class=\"sk-parallel\"><div class=\"sk-parallel-item\"><div class=\"sk-item\"><div class=\"sk-label-container\"><div class=\"sk-label sk-toggleable\"><input class=\"sk-toggleable__control sk-hidden--visually\" id=\"sk-estimator-id-100\" type=\"checkbox\" ><label for=\"sk-estimator-id-100\" class=\"sk-toggleable__label sk-toggleable__label-arrow\">hybridization_encoder</label><div class=\"sk-toggleable__content\"><pre>[&#x27;hybridization&#x27;]</pre></div></div></div><div class=\"sk-serial\"><div class=\"sk-item\"><div class=\"sk-estimator sk-toggleable\"><input class=\"sk-toggleable__control sk-hidden--visually\" id=\"sk-estimator-id-101\" type=\"checkbox\" ><label for=\"sk-estimator-id-101\" class=\"sk-toggleable__label sk-toggleable__label-arrow\">OneHotEncoder</label><div class=\"sk-toggleable__content\"><pre>OneHotEncoder()</pre></div></div></div></div></div></div><div class=\"sk-parallel-item\"><div class=\"sk-item\"><div class=\"sk-label-container\"><div class=\"sk-label sk-toggleable\"><input class=\"sk-toggleable__control sk-hidden--visually\" id=\"sk-estimator-id-102\" type=\"checkbox\" ><label for=\"sk-estimator-id-102\" class=\"sk-toggleable__label sk-toggleable__label-arrow\">remainder</label><div class=\"sk-toggleable__content\"><pre>[&#x27;Z&#x27;, &#x27;aromatic&#x27;, &#x27;numHs&#x27;, &#x27;charge&#x27;, &#x27;neigh_z_min&#x27;, &#x27;neigh_z_max&#x27;, &#x27;neigh_z_avg&#x27;, &#x27;neigh_z_stddev&#x27;, &#x27;neigh_charge_min&#x27;, &#x27;neigh_charge_max&#x27;, &#x27;neigh_charge_avg&#x27;, &#x27;neigh_charge_stddev&#x27;, &#x27;neigh_aromatic_min&#x27;, &#x27;neigh_aromatic_max&#x27;, &#x27;neigh_aromatic_avg&#x27;, &#x27;neigh_aromatic_stddev&#x27;, &#x27;neigh_eneg_min&#x27;, &#x27;neigh_eneg_max&#x27;, &#x27;neigh_eneg_avg&#x27;, &#x27;neigh_eneg_stddev&#x27;, &#x27;neigh_eaff_min&#x27;, &#x27;neigh_eaff_max&#x27;, &#x27;neigh_eaff_avg&#x27;, &#x27;neigh_eaff_stddev&#x27;]</pre></div></div></div><div class=\"sk-serial\"><div class=\"sk-item\"><div class=\"sk-estimator sk-toggleable\"><input class=\"sk-toggleable__control sk-hidden--visually\" id=\"sk-estimator-id-103\" type=\"checkbox\" ><label for=\"sk-estimator-id-103\" class=\"sk-toggleable__label sk-toggleable__label-arrow\">passthrough</label><div class=\"sk-toggleable__content\"><pre>passthrough</pre></div></div></div></div></div></div></div></div><div class=\"sk-item\"><div class=\"sk-estimator sk-toggleable\"><input class=\"sk-toggleable__control sk-hidden--visually\" id=\"sk-estimator-id-104\" type=\"checkbox\" ><label for=\"sk-estimator-id-104\" class=\"sk-toggleable__label sk-toggleable__label-arrow\">StandardScaler</label><div class=\"sk-toggleable__content\"><pre>StandardScaler()</pre></div></div></div><div class=\"sk-item\"><div class=\"sk-estimator sk-toggleable\"><input class=\"sk-toggleable__control sk-hidden--visually\" id=\"sk-estimator-id-105\" type=\"checkbox\" ><label for=\"sk-estimator-id-105\" class=\"sk-toggleable__label sk-toggleable__label-arrow\">LinearRegression</label><div class=\"sk-toggleable__content\"><pre>LinearRegression()</pre></div></div></div></div></div></div></div>"
      ],
      "text/plain": [
       "Pipeline(steps=[('preprocessor',\n",
       "                 ColumnTransformer(remainder='passthrough',\n",
       "                                   transformers=[('hybridization_encoder',\n",
       "                                                  OneHotEncoder(),\n",
       "                                                  ['hybridization'])])),\n",
       "                ('scaling', StandardScaler()),\n",
       "                ('regression', LinearRegression())])"
      ]
     },
     "execution_count": 124,
     "metadata": {},
     "output_type": "execute_result"
    }
   ],
   "source": [
    "data = df.drop([\"shift\"], axis=1)\n",
    "target = df[\"shift\"]\n",
    "\n",
    "from sklearn.preprocessing import OneHotEncoder, StandardScaler\n",
    "from sklearn.linear_model import LinearRegression\n",
    "from sklearn.pipeline import Pipeline\n",
    "from sklearn.compose import ColumnTransformer\n",
    "\n",
    "transformer = ColumnTransformer(transformers=[('hybridization_encoder', OneHotEncoder(), [\"hybridization\"])], remainder='passthrough')\n",
    "\n",
    "model = Pipeline(steps=[(\"preprocessor\", transformer), (\"scaling\", StandardScaler()), (\"regression\", LinearRegression())])\n",
    "model.fit(data, target)"
   ]
  },
  {
   "cell_type": "code",
   "execution_count": 125,
   "id": "3de2ce78-903d-497e-b233-adafbeb5eade",
   "metadata": {},
   "outputs": [
    {
     "data": {
      "text/plain": [
       "8.482993722045139"
      ]
     },
     "execution_count": 125,
     "metadata": {},
     "output_type": "execute_result"
    }
   ],
   "source": [
    "from sklearn.metrics import mean_absolute_error\n",
    "\n",
    "mean_absolute_error(target, model.predict(data))"
   ]
  },
  {
   "cell_type": "code",
   "execution_count": 130,
   "id": "43c02757-b511-4fa8-bd5e-da33e782d16f",
   "metadata": {},
   "outputs": [
    {
     "data": {
      "text/plain": [
       "array([-1.86988499e+12, -9.54185848e+12, -9.52151330e+12, -5.54781249e-04,\n",
       "       -2.11600546e+00, -9.99522829e+00,  1.46484375e-03,  4.94003128e+00,\n",
       "       -1.96396877e+01, -1.86181290e+00,  1.85932255e+01, -1.66592416e+00,\n",
       "        3.90911130e+00,  1.53241382e-01, -3.61292331e+00,  3.93417609e+01,\n",
       "       -4.92505909e+01,  1.56196555e+01,  3.92751221e+01,  9.14555578e-01,\n",
       "        4.78254791e+00,  3.86391592e+00,  6.84357046e+00, -1.43115134e+01,\n",
       "        8.10449548e+00, -6.97250349e-01, -1.61169605e+01])"
      ]
     },
     "execution_count": 130,
     "metadata": {},
     "output_type": "execute_result"
    }
   ],
   "source": [
    "model.named_steps[\"regression\"].coef_"
   ]
  },
  {
   "cell_type": "code",
   "execution_count": null,
   "id": "4f489a0f-3c02-4e43-acf4-853b318275dc",
   "metadata": {},
   "outputs": [],
   "source": []
  },
  {
   "cell_type": "code",
   "execution_count": 131,
   "id": "3f1db387-0242-4f4d-8e63-8b0ab2d440c2",
   "metadata": {},
   "outputs": [
    {
     "data": {
      "text/plain": [
       "{'fit_time': array([0.02667308, 0.01837182, 0.01438975, 0.01378512, 0.01346421]),\n",
       " 'score_time': array([0.0036931 , 0.0033772 , 0.00258398, 0.00258803, 0.00242615]),\n",
       " 'test_score': array([-8.83182244, -8.81089136, -8.3804404 , -7.87895065, -9.25263324]),\n",
       " 'train_score': array([-8.43495774, -8.39098858, -8.59922225, -8.6631024 , -8.2955986 ])}"
      ]
     },
     "execution_count": 131,
     "metadata": {},
     "output_type": "execute_result"
    }
   ],
   "source": [
    "from sklearn.model_selection import cross_validate\n",
    "\n",
    "cross_validate(model, data, target, scoring=\"neg_mean_absolute_error\", return_train_score=True)"
   ]
  },
  {
   "cell_type": "code",
   "execution_count": null,
   "id": "bdc11082-b8ee-4fdd-8086-d11e17eb74f0",
   "metadata": {},
   "outputs": [],
   "source": []
  },
  {
   "cell_type": "code",
   "execution_count": null,
   "id": "4168c69c-f4d9-4b41-ab82-f0839632a222",
   "metadata": {},
   "outputs": [],
   "source": []
  },
  {
   "cell_type": "code",
   "execution_count": 132,
   "id": "2fe928d0-e316-4b46-8c29-44fad7deabfc",
   "metadata": {},
   "outputs": [
    {
     "data": {
      "text/html": [
       "<style>#sk-container-id-18 {color: black;}#sk-container-id-18 pre{padding: 0;}#sk-container-id-18 div.sk-toggleable {background-color: white;}#sk-container-id-18 label.sk-toggleable__label {cursor: pointer;display: block;width: 100%;margin-bottom: 0;padding: 0.3em;box-sizing: border-box;text-align: center;}#sk-container-id-18 label.sk-toggleable__label-arrow:before {content: \"▸\";float: left;margin-right: 0.25em;color: #696969;}#sk-container-id-18 label.sk-toggleable__label-arrow:hover:before {color: black;}#sk-container-id-18 div.sk-estimator:hover label.sk-toggleable__label-arrow:before {color: black;}#sk-container-id-18 div.sk-toggleable__content {max-height: 0;max-width: 0;overflow: hidden;text-align: left;background-color: #f0f8ff;}#sk-container-id-18 div.sk-toggleable__content pre {margin: 0.2em;color: black;border-radius: 0.25em;background-color: #f0f8ff;}#sk-container-id-18 input.sk-toggleable__control:checked~div.sk-toggleable__content {max-height: 200px;max-width: 100%;overflow: auto;}#sk-container-id-18 input.sk-toggleable__control:checked~label.sk-toggleable__label-arrow:before {content: \"▾\";}#sk-container-id-18 div.sk-estimator input.sk-toggleable__control:checked~label.sk-toggleable__label {background-color: #d4ebff;}#sk-container-id-18 div.sk-label input.sk-toggleable__control:checked~label.sk-toggleable__label {background-color: #d4ebff;}#sk-container-id-18 input.sk-hidden--visually {border: 0;clip: rect(1px 1px 1px 1px);clip: rect(1px, 1px, 1px, 1px);height: 1px;margin: -1px;overflow: hidden;padding: 0;position: absolute;width: 1px;}#sk-container-id-18 div.sk-estimator {font-family: monospace;background-color: #f0f8ff;border: 1px dotted black;border-radius: 0.25em;box-sizing: border-box;margin-bottom: 0.5em;}#sk-container-id-18 div.sk-estimator:hover {background-color: #d4ebff;}#sk-container-id-18 div.sk-parallel-item::after {content: \"\";width: 100%;border-bottom: 1px solid gray;flex-grow: 1;}#sk-container-id-18 div.sk-label:hover label.sk-toggleable__label {background-color: #d4ebff;}#sk-container-id-18 div.sk-serial::before {content: \"\";position: absolute;border-left: 1px solid gray;box-sizing: border-box;top: 0;bottom: 0;left: 50%;z-index: 0;}#sk-container-id-18 div.sk-serial {display: flex;flex-direction: column;align-items: center;background-color: white;padding-right: 0.2em;padding-left: 0.2em;position: relative;}#sk-container-id-18 div.sk-item {position: relative;z-index: 1;}#sk-container-id-18 div.sk-parallel {display: flex;align-items: stretch;justify-content: center;background-color: white;position: relative;}#sk-container-id-18 div.sk-item::before, #sk-container-id-18 div.sk-parallel-item::before {content: \"\";position: absolute;border-left: 1px solid gray;box-sizing: border-box;top: 0;bottom: 0;left: 50%;z-index: -1;}#sk-container-id-18 div.sk-parallel-item {display: flex;flex-direction: column;z-index: 1;position: relative;background-color: white;}#sk-container-id-18 div.sk-parallel-item:first-child::after {align-self: flex-end;width: 50%;}#sk-container-id-18 div.sk-parallel-item:last-child::after {align-self: flex-start;width: 50%;}#sk-container-id-18 div.sk-parallel-item:only-child::after {width: 0;}#sk-container-id-18 div.sk-dashed-wrapped {border: 1px dashed gray;margin: 0 0.4em 0.5em 0.4em;box-sizing: border-box;padding-bottom: 0.4em;background-color: white;}#sk-container-id-18 div.sk-label label {font-family: monospace;font-weight: bold;display: inline-block;line-height: 1.2em;}#sk-container-id-18 div.sk-label-container {text-align: center;}#sk-container-id-18 div.sk-container {/* jupyter's `normalize.less` sets `[hidden] { display: none; }` but bootstrap.min.css set `[hidden] { display: none !important; }` so we also need the `!important` here to be able to override the default hidden behavior on the sphinx rendered scikit-learn.org. See: https://github.com/scikit-learn/scikit-learn/issues/21755 */display: inline-block !important;position: relative;}#sk-container-id-18 div.sk-text-repr-fallback {display: none;}</style><div id=\"sk-container-id-18\" class=\"sk-top-container\"><div class=\"sk-text-repr-fallback\"><pre>Pipeline(steps=[(&#x27;preprocessor&#x27;,\n",
       "                 ColumnTransformer(remainder=&#x27;passthrough&#x27;,\n",
       "                                   transformers=[(&#x27;hybridization_encoder&#x27;,\n",
       "                                                  OneHotEncoder(),\n",
       "                                                  [&#x27;hybridization&#x27;])])),\n",
       "                (&#x27;scaling&#x27;, StandardScaler()), (&#x27;regression&#x27;, Ridge())])</pre><b>In a Jupyter environment, please rerun this cell to show the HTML representation or trust the notebook. <br />On GitHub, the HTML representation is unable to render, please try loading this page with nbviewer.org.</b></div><div class=\"sk-container\" hidden><div class=\"sk-item sk-dashed-wrapped\"><div class=\"sk-label-container\"><div class=\"sk-label sk-toggleable\"><input class=\"sk-toggleable__control sk-hidden--visually\" id=\"sk-estimator-id-106\" type=\"checkbox\" ><label for=\"sk-estimator-id-106\" class=\"sk-toggleable__label sk-toggleable__label-arrow\">Pipeline</label><div class=\"sk-toggleable__content\"><pre>Pipeline(steps=[(&#x27;preprocessor&#x27;,\n",
       "                 ColumnTransformer(remainder=&#x27;passthrough&#x27;,\n",
       "                                   transformers=[(&#x27;hybridization_encoder&#x27;,\n",
       "                                                  OneHotEncoder(),\n",
       "                                                  [&#x27;hybridization&#x27;])])),\n",
       "                (&#x27;scaling&#x27;, StandardScaler()), (&#x27;regression&#x27;, Ridge())])</pre></div></div></div><div class=\"sk-serial\"><div class=\"sk-item sk-dashed-wrapped\"><div class=\"sk-label-container\"><div class=\"sk-label sk-toggleable\"><input class=\"sk-toggleable__control sk-hidden--visually\" id=\"sk-estimator-id-107\" type=\"checkbox\" ><label for=\"sk-estimator-id-107\" class=\"sk-toggleable__label sk-toggleable__label-arrow\">preprocessor: ColumnTransformer</label><div class=\"sk-toggleable__content\"><pre>ColumnTransformer(remainder=&#x27;passthrough&#x27;,\n",
       "                  transformers=[(&#x27;hybridization_encoder&#x27;, OneHotEncoder(),\n",
       "                                 [&#x27;hybridization&#x27;])])</pre></div></div></div><div class=\"sk-parallel\"><div class=\"sk-parallel-item\"><div class=\"sk-item\"><div class=\"sk-label-container\"><div class=\"sk-label sk-toggleable\"><input class=\"sk-toggleable__control sk-hidden--visually\" id=\"sk-estimator-id-108\" type=\"checkbox\" ><label for=\"sk-estimator-id-108\" class=\"sk-toggleable__label sk-toggleable__label-arrow\">hybridization_encoder</label><div class=\"sk-toggleable__content\"><pre>[&#x27;hybridization&#x27;]</pre></div></div></div><div class=\"sk-serial\"><div class=\"sk-item\"><div class=\"sk-estimator sk-toggleable\"><input class=\"sk-toggleable__control sk-hidden--visually\" id=\"sk-estimator-id-109\" type=\"checkbox\" ><label for=\"sk-estimator-id-109\" class=\"sk-toggleable__label sk-toggleable__label-arrow\">OneHotEncoder</label><div class=\"sk-toggleable__content\"><pre>OneHotEncoder()</pre></div></div></div></div></div></div><div class=\"sk-parallel-item\"><div class=\"sk-item\"><div class=\"sk-label-container\"><div class=\"sk-label sk-toggleable\"><input class=\"sk-toggleable__control sk-hidden--visually\" id=\"sk-estimator-id-110\" type=\"checkbox\" ><label for=\"sk-estimator-id-110\" class=\"sk-toggleable__label sk-toggleable__label-arrow\">remainder</label><div class=\"sk-toggleable__content\"><pre>[&#x27;Z&#x27;, &#x27;aromatic&#x27;, &#x27;numHs&#x27;, &#x27;charge&#x27;, &#x27;neigh_z_min&#x27;, &#x27;neigh_z_max&#x27;, &#x27;neigh_z_avg&#x27;, &#x27;neigh_z_stddev&#x27;, &#x27;neigh_charge_min&#x27;, &#x27;neigh_charge_max&#x27;, &#x27;neigh_charge_avg&#x27;, &#x27;neigh_charge_stddev&#x27;, &#x27;neigh_aromatic_min&#x27;, &#x27;neigh_aromatic_max&#x27;, &#x27;neigh_aromatic_avg&#x27;, &#x27;neigh_aromatic_stddev&#x27;, &#x27;neigh_eneg_min&#x27;, &#x27;neigh_eneg_max&#x27;, &#x27;neigh_eneg_avg&#x27;, &#x27;neigh_eneg_stddev&#x27;, &#x27;neigh_eaff_min&#x27;, &#x27;neigh_eaff_max&#x27;, &#x27;neigh_eaff_avg&#x27;, &#x27;neigh_eaff_stddev&#x27;]</pre></div></div></div><div class=\"sk-serial\"><div class=\"sk-item\"><div class=\"sk-estimator sk-toggleable\"><input class=\"sk-toggleable__control sk-hidden--visually\" id=\"sk-estimator-id-111\" type=\"checkbox\" ><label for=\"sk-estimator-id-111\" class=\"sk-toggleable__label sk-toggleable__label-arrow\">passthrough</label><div class=\"sk-toggleable__content\"><pre>passthrough</pre></div></div></div></div></div></div></div></div><div class=\"sk-item\"><div class=\"sk-estimator sk-toggleable\"><input class=\"sk-toggleable__control sk-hidden--visually\" id=\"sk-estimator-id-112\" type=\"checkbox\" ><label for=\"sk-estimator-id-112\" class=\"sk-toggleable__label sk-toggleable__label-arrow\">StandardScaler</label><div class=\"sk-toggleable__content\"><pre>StandardScaler()</pre></div></div></div><div class=\"sk-item\"><div class=\"sk-estimator sk-toggleable\"><input class=\"sk-toggleable__control sk-hidden--visually\" id=\"sk-estimator-id-113\" type=\"checkbox\" ><label for=\"sk-estimator-id-113\" class=\"sk-toggleable__label sk-toggleable__label-arrow\">Ridge</label><div class=\"sk-toggleable__content\"><pre>Ridge()</pre></div></div></div></div></div></div></div>"
      ],
      "text/plain": [
       "Pipeline(steps=[('preprocessor',\n",
       "                 ColumnTransformer(remainder='passthrough',\n",
       "                                   transformers=[('hybridization_encoder',\n",
       "                                                  OneHotEncoder(),\n",
       "                                                  ['hybridization'])])),\n",
       "                ('scaling', StandardScaler()), ('regression', Ridge())])"
      ]
     },
     "execution_count": 132,
     "metadata": {},
     "output_type": "execute_result"
    }
   ],
   "source": [
    "from sklearn.linear_model import Ridge\n",
    "\n",
    "model2 = Pipeline(steps=[(\"preprocessor\", transformer), (\"scaling\", StandardScaler()), (\"regression\", Ridge())])\n",
    "model2.fit(data, target)"
   ]
  },
  {
   "cell_type": "code",
   "execution_count": 135,
   "id": "347a1026-c2d6-4d27-a2f4-ab78d27fafa1",
   "metadata": {},
   "outputs": [
    {
     "data": {
      "text/plain": [
       "8.484773924629723"
      ]
     },
     "execution_count": 135,
     "metadata": {},
     "output_type": "execute_result"
    }
   ],
   "source": [
    "mean_absolute_error(target, model2.predict(data))"
   ]
  },
  {
   "cell_type": "code",
   "execution_count": 136,
   "id": "cc65bb33-830d-4b8c-bf67-680ed07da654",
   "metadata": {},
   "outputs": [
    {
     "data": {
      "text/plain": [
       "array([-4.07988694e-01,  2.19342142e+01, -2.19009594e+01,  3.40739261e-04,\n",
       "       -3.06929043e+00, -9.90374986e+00,  0.00000000e+00,  3.17960404e+00,\n",
       "       -1.08929259e+01, -1.11469915e+00,  9.29485441e+00, -9.82542320e-01,\n",
       "        2.54098150e+00,  2.70138109e-02, -2.16646222e+00,  1.51617001e+01,\n",
       "       -2.60831307e+01,  1.29281339e+01,  1.83161298e+01,  1.11643404e+00,\n",
       "        4.44103155e+00,  3.73610548e+00,  7.18767463e+00, -9.34501714e+00,\n",
       "        5.28961116e+00, -4.85013078e-01, -1.07822547e+01])"
      ]
     },
     "execution_count": 136,
     "metadata": {},
     "output_type": "execute_result"
    }
   ],
   "source": [
    "model2.named_steps[\"regression\"].coef_"
   ]
  },
  {
   "cell_type": "code",
   "execution_count": 149,
   "id": "e885b74a-8cd2-41c0-84c8-89a75110227b",
   "metadata": {},
   "outputs": [
    {
     "data": {
      "text/plain": [
       "<Axes: >"
      ]
     },
     "execution_count": 149,
     "metadata": {},
     "output_type": "execute_result"
    },
    {
     "data": {
      "image/png": "[encoded data removed]",
      "text/plain": [
       "<Figure size 640x480 with 1 Axes>"
      ]
     },
     "metadata": {},
     "output_type": "display_data"
    }
   ],
   "source": [
    "pd.DataFrame(model2.named_steps[\"regression\"].coef_).plot.bar()"
   ]
  },
  {
   "cell_type": "code",
   "execution_count": 158,
   "id": "2ed3ccff-a14b-46c6-9dee-4243a8026335",
   "metadata": {},
   "outputs": [
    {
     "data": {
      "image/png": "[encoded data removed]",
      "text/plain": [
       "<Figure size 640x480 with 1 Axes>"
      ]
     },
     "metadata": {},
     "output_type": "display_data"
    }
   ],
   "source": [
    "ax = pd.DataFrame({\"x\": target, \"y\": model2.predict(data)}).plot.scatter(\"x\", \"y\", s=2)\n",
    "ax.set_xlabel(\"Chemical shift in nmrdb\")\n",
    "ax.set_ylabel(\"Predicted value\");"
   ]
  },
  {
   "cell_type": "code",
   "execution_count": null,
   "id": "341cdf61-7eb6-44e2-bcdd-31db48efd072",
   "metadata": {},
   "outputs": [],
   "source": []
  },
  {
   "cell_type": "markdown",
   "id": "a9cdad8a-4c59-46fb-bb7f-4d3008df0cc6",
   "metadata": {},
   "source": [
    "## To go further\n",
    "\n",
    "- Effet of solvent, very important\n",
    "- Nature of the model: are linear models best?\n",
    "- What is the impact of quantity of available data?\n",
    "- Quantifying further neighbors: hand-made, or atom-based fingerprints\n",
    "- Instead of neighbor statistics, try group contributions"
   ]
  },
  {
   "cell_type": "code",
   "execution_count": null,
   "id": "e0b46e23-47ed-4d36-8608-88a7a095eac9",
   "metadata": {},
   "outputs": [],
   "source": []
  }
 ],
 "metadata": {
  "kernelspec": {
   "display_name": "Python 3 (ipykernel)",
   "language": "python",
   "name": "python3"
  },
  "language_info": {
   "codemirror_mode": {
    "name": "ipython",
    "version": 3
   },
   "file_extension": ".py",
   "mimetype": "text/x-python",
   "name": "python",
   "nbconvert_exporter": "python",
   "pygments_lexer": "ipython3",
   "version": "3.11.6"
  }
 },
 "nbformat": 4,
 "nbformat_minor": 5
}
