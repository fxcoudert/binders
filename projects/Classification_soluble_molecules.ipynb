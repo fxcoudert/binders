{
 "cells": [
  {
   "cell_type": "markdown",
   "id": "8859c035",
   "metadata": {},
   "source": [
    "# Classification of molecules by aqueous solubility\n",
    "\n",
    "\n",
    "Here, we will use machine learning to create a simple model to predict whether a molecule is soluble in water or not. This is a classification task, and we will train (and evaluate) different types of models based on a published dataset.\n",
    "\n",
    "_This notebook is inspired by Pat Walters: https://github.com/PatWalters/chem_tutorial/blob/main/tutorial_03_eda.ipynb_"
   ]
  },
  {
   "cell_type": "code",
   "execution_count": 1,
   "id": "91bc8021",
   "metadata": {},
   "outputs": [],
   "source": [
    "# Data handling\n",
    "import pandas as pd\n",
    "import numpy as np\n",
    "\n",
    "# Plotting\n",
    "import matplotlib.pyplot as plt\n",
    "import seaborn as sns\n",
    "sns.set()\n",
    "\n",
    "# Machine learning\n",
    "from sklearn.dummy import DummyClassifier\n",
    "from sklearn.linear_model import LogisticRegression\n",
    "from sklearn.metrics import ConfusionMatrixDisplay\n",
    "from sklearn.model_selection import train_test_split\n",
    "from sklearn.neighbors import KNeighborsClassifier\n",
    "from sklearn.pipeline import make_pipeline\n",
    "from sklearn.preprocessing import StandardScaler\n",
    "from sklearn import set_config\n",
    "set_config(display='diagram')"
   ]
  },
  {
   "cell_type": "markdown",
   "id": "01d5d408",
   "metadata": {},
   "source": [
    "The data we will be using is from the paper “AqSolDB, a curated reference set of aqueous solubility and 2D descriptors for a diverse set of compounds”, M.C. Sorkun, A. Khetan and S. Er, _Scientific Data_, **2019**, 6, 143, DOI: [10.1038/s41597-019-0151-1](https://doi.org/10.1038/s41597-019-0151-1)\n",
    "\n",
    "The goal of the authors in developing this dataset and making it available is stated in their abstract:\n",
    "\n",
    "> _we generated a new database of compounds, AqSolDB, by merging a total of nine different aqueous solubility datasets, curating the merged data, standardizing and validating the compound representation formats, marking with reliability labels, and providing 2D descriptors of compounds as a Supplementary Resource_\n",
    "\n",
    "and their “usage notes” section:\n",
    "\n",
    "> The availability of the calculated 2D descriptors makes it possible to directly use the data for developing machine learning models.\n",
    "\n",
    "The authors also made available the code that they used to generate the dataset, from other existing datasets, including curation steps: https://doi.org/10.24433/CO.1992938.v1 This is very good open science practice, allowing reproducible research!\n",
    "\n",
    "If you are interested in this topic, I encourage you to go read the paper and the associated code. Here, we will directly use their data (solubility, list of molecules and associated molecular descriptors) to train a machine learning algorithm for a classification task."
   ]
  },
  {
   "cell_type": "code",
   "execution_count": 2,
   "id": "804ba452",
   "metadata": {},
   "outputs": [],
   "source": [
    "df = pd.read_csv(\"curated-solubility-dataset.csv\")"
   ]
  },
  {
   "cell_type": "markdown",
   "id": "a9cc378d",
   "metadata": {},
   "source": [
    "## Content of the dataset\n",
    "\n",
    "We have read a local copy of the data set.\n",
    "\n",
    "We first examine the content of the data set: how many records (molecules) does it have? What information is present for each? What is the type and range of the various descriptors?"
   ]
  },
  {
   "cell_type": "code",
   "execution_count": 3,
   "id": "c72b6b8f",
   "metadata": {
    "scrolled": true
   },
   "outputs": [
    {
     "name": "stdout",
     "output_type": "stream",
     "text": [
      "Number of records: 9982\n",
      "Number of columns: 26\n",
      "Overview of the first records:\n"
     ]
    },
    {
     "data": {
      "text/html": [
       "<div>\n",
       "<style scoped>\n",
       "    .dataframe tbody tr th:only-of-type {\n",
       "        vertical-align: middle;\n",
       "    }\n",
       "\n",
       "    .dataframe tbody tr th {\n",
       "        vertical-align: top;\n",
       "    }\n",
       "\n",
       "    .dataframe thead th {\n",
       "        text-align: right;\n",
       "    }\n",
       "</style>\n",
       "<table border=\"1\" class=\"dataframe\">\n",
       "  <thead>\n",
       "    <tr style=\"text-align: right;\">\n",
       "      <th></th>\n",
       "      <th>ID</th>\n",
       "      <th>Name</th>\n",
       "      <th>InChI</th>\n",
       "      <th>InChIKey</th>\n",
       "      <th>SMILES</th>\n",
       "      <th>Solubility</th>\n",
       "      <th>SD</th>\n",
       "      <th>Ocurrences</th>\n",
       "      <th>Group</th>\n",
       "      <th>MolWt</th>\n",
       "      <th>...</th>\n",
       "      <th>NumRotatableBonds</th>\n",
       "      <th>NumValenceElectrons</th>\n",
       "      <th>NumAromaticRings</th>\n",
       "      <th>NumSaturatedRings</th>\n",
       "      <th>NumAliphaticRings</th>\n",
       "      <th>RingCount</th>\n",
       "      <th>TPSA</th>\n",
       "      <th>LabuteASA</th>\n",
       "      <th>BalabanJ</th>\n",
       "      <th>BertzCT</th>\n",
       "    </tr>\n",
       "  </thead>\n",
       "  <tbody>\n",
       "    <tr>\n",
       "      <th>0</th>\n",
       "      <td>A-3</td>\n",
       "      <td>N,N,N-trimethyloctadecan-1-aminium bromide</td>\n",
       "      <td>InChI=1S/C21H46N.BrH/c1-5-6-7-8-9-10-11-12-13-...</td>\n",
       "      <td>SZEMGTQCPRNXEG-UHFFFAOYSA-M</td>\n",
       "      <td>[Br-].CCCCCCCCCCCCCCCCCC[N+](C)(C)C</td>\n",
       "      <td>-3.616127</td>\n",
       "      <td>0.0</td>\n",
       "      <td>1</td>\n",
       "      <td>G1</td>\n",
       "      <td>392.510</td>\n",
       "      <td>...</td>\n",
       "      <td>17.0</td>\n",
       "      <td>142.0</td>\n",
       "      <td>0.0</td>\n",
       "      <td>0.0</td>\n",
       "      <td>0.0</td>\n",
       "      <td>0.0</td>\n",
       "      <td>0.00</td>\n",
       "      <td>158.520601</td>\n",
       "      <td>0.000000e+00</td>\n",
       "      <td>210.377334</td>\n",
       "    </tr>\n",
       "    <tr>\n",
       "      <th>1</th>\n",
       "      <td>A-4</td>\n",
       "      <td>Benzo[cd]indol-2(1H)-one</td>\n",
       "      <td>InChI=1S/C11H7NO/c13-11-8-5-1-3-7-4-2-6-9(12-1...</td>\n",
       "      <td>GPYLCFQEKPUWLD-UHFFFAOYSA-N</td>\n",
       "      <td>O=C1Nc2cccc3cccc1c23</td>\n",
       "      <td>-3.254767</td>\n",
       "      <td>0.0</td>\n",
       "      <td>1</td>\n",
       "      <td>G1</td>\n",
       "      <td>169.183</td>\n",
       "      <td>...</td>\n",
       "      <td>0.0</td>\n",
       "      <td>62.0</td>\n",
       "      <td>2.0</td>\n",
       "      <td>0.0</td>\n",
       "      <td>1.0</td>\n",
       "      <td>3.0</td>\n",
       "      <td>29.10</td>\n",
       "      <td>75.183563</td>\n",
       "      <td>2.582996e+00</td>\n",
       "      <td>511.229248</td>\n",
       "    </tr>\n",
       "    <tr>\n",
       "      <th>2</th>\n",
       "      <td>A-5</td>\n",
       "      <td>4-chlorobenzaldehyde</td>\n",
       "      <td>InChI=1S/C7H5ClO/c8-7-3-1-6(5-9)2-4-7/h1-5H</td>\n",
       "      <td>AVPYQKSLYISFPO-UHFFFAOYSA-N</td>\n",
       "      <td>Clc1ccc(C=O)cc1</td>\n",
       "      <td>-2.177078</td>\n",
       "      <td>0.0</td>\n",
       "      <td>1</td>\n",
       "      <td>G1</td>\n",
       "      <td>140.569</td>\n",
       "      <td>...</td>\n",
       "      <td>1.0</td>\n",
       "      <td>46.0</td>\n",
       "      <td>1.0</td>\n",
       "      <td>0.0</td>\n",
       "      <td>0.0</td>\n",
       "      <td>1.0</td>\n",
       "      <td>17.07</td>\n",
       "      <td>58.261134</td>\n",
       "      <td>3.009782e+00</td>\n",
       "      <td>202.661065</td>\n",
       "    </tr>\n",
       "    <tr>\n",
       "      <th>3</th>\n",
       "      <td>A-8</td>\n",
       "      <td>zinc bis[2-hydroxy-3,5-bis(1-phenylethyl)benzo...</td>\n",
       "      <td>InChI=1S/2C23H22O3.Zn/c2*1-15(17-9-5-3-6-10-17...</td>\n",
       "      <td>XTUPUYCJWKHGSW-UHFFFAOYSA-L</td>\n",
       "      <td>[Zn++].CC(c1ccccc1)c2cc(C(C)c3ccccc3)c(O)c(c2)...</td>\n",
       "      <td>-3.924409</td>\n",
       "      <td>0.0</td>\n",
       "      <td>1</td>\n",
       "      <td>G1</td>\n",
       "      <td>756.226</td>\n",
       "      <td>...</td>\n",
       "      <td>10.0</td>\n",
       "      <td>264.0</td>\n",
       "      <td>6.0</td>\n",
       "      <td>0.0</td>\n",
       "      <td>0.0</td>\n",
       "      <td>6.0</td>\n",
       "      <td>120.72</td>\n",
       "      <td>323.755434</td>\n",
       "      <td>2.322963e-07</td>\n",
       "      <td>1964.648666</td>\n",
       "    </tr>\n",
       "    <tr>\n",
       "      <th>4</th>\n",
       "      <td>A-9</td>\n",
       "      <td>4-({4-[bis(oxiran-2-ylmethyl)amino]phenyl}meth...</td>\n",
       "      <td>InChI=1S/C25H30N2O4/c1-5-20(26(10-22-14-28-22)...</td>\n",
       "      <td>FAUAZXVRLVIARB-UHFFFAOYSA-N</td>\n",
       "      <td>C1OC1CN(CC2CO2)c3ccc(Cc4ccc(cc4)N(CC5CO5)CC6CO...</td>\n",
       "      <td>-4.662065</td>\n",
       "      <td>0.0</td>\n",
       "      <td>1</td>\n",
       "      <td>G1</td>\n",
       "      <td>422.525</td>\n",
       "      <td>...</td>\n",
       "      <td>12.0</td>\n",
       "      <td>164.0</td>\n",
       "      <td>2.0</td>\n",
       "      <td>4.0</td>\n",
       "      <td>4.0</td>\n",
       "      <td>6.0</td>\n",
       "      <td>56.60</td>\n",
       "      <td>183.183268</td>\n",
       "      <td>1.084427e+00</td>\n",
       "      <td>769.899934</td>\n",
       "    </tr>\n",
       "  </tbody>\n",
       "</table>\n",
       "<p>5 rows × 26 columns</p>\n",
       "</div>"
      ],
      "text/plain": [
       "    ID                                               Name  \\\n",
       "0  A-3         N,N,N-trimethyloctadecan-1-aminium bromide   \n",
       "1  A-4                           Benzo[cd]indol-2(1H)-one   \n",
       "2  A-5                               4-chlorobenzaldehyde   \n",
       "3  A-8  zinc bis[2-hydroxy-3,5-bis(1-phenylethyl)benzo...   \n",
       "4  A-9  4-({4-[bis(oxiran-2-ylmethyl)amino]phenyl}meth...   \n",
       "\n",
       "                                               InChI  \\\n",
       "0  InChI=1S/C21H46N.BrH/c1-5-6-7-8-9-10-11-12-13-...   \n",
       "1  InChI=1S/C11H7NO/c13-11-8-5-1-3-7-4-2-6-9(12-1...   \n",
       "2        InChI=1S/C7H5ClO/c8-7-3-1-6(5-9)2-4-7/h1-5H   \n",
       "3  InChI=1S/2C23H22O3.Zn/c2*1-15(17-9-5-3-6-10-17...   \n",
       "4  InChI=1S/C25H30N2O4/c1-5-20(26(10-22-14-28-22)...   \n",
       "\n",
       "                      InChIKey  \\\n",
       "0  SZEMGTQCPRNXEG-UHFFFAOYSA-M   \n",
       "1  GPYLCFQEKPUWLD-UHFFFAOYSA-N   \n",
       "2  AVPYQKSLYISFPO-UHFFFAOYSA-N   \n",
       "3  XTUPUYCJWKHGSW-UHFFFAOYSA-L   \n",
       "4  FAUAZXVRLVIARB-UHFFFAOYSA-N   \n",
       "\n",
       "                                              SMILES  Solubility   SD  \\\n",
       "0                [Br-].CCCCCCCCCCCCCCCCCC[N+](C)(C)C   -3.616127  0.0   \n",
       "1                               O=C1Nc2cccc3cccc1c23   -3.254767  0.0   \n",
       "2                                    Clc1ccc(C=O)cc1   -2.177078  0.0   \n",
       "3  [Zn++].CC(c1ccccc1)c2cc(C(C)c3ccccc3)c(O)c(c2)...   -3.924409  0.0   \n",
       "4  C1OC1CN(CC2CO2)c3ccc(Cc4ccc(cc4)N(CC5CO5)CC6CO...   -4.662065  0.0   \n",
       "\n",
       "   Ocurrences Group    MolWt  ...  NumRotatableBonds  NumValenceElectrons  \\\n",
       "0           1    G1  392.510  ...               17.0                142.0   \n",
       "1           1    G1  169.183  ...                0.0                 62.0   \n",
       "2           1    G1  140.569  ...                1.0                 46.0   \n",
       "3           1    G1  756.226  ...               10.0                264.0   \n",
       "4           1    G1  422.525  ...               12.0                164.0   \n",
       "\n",
       "   NumAromaticRings  NumSaturatedRings  NumAliphaticRings  RingCount    TPSA  \\\n",
       "0               0.0                0.0                0.0        0.0    0.00   \n",
       "1               2.0                0.0                1.0        3.0   29.10   \n",
       "2               1.0                0.0                0.0        1.0   17.07   \n",
       "3               6.0                0.0                0.0        6.0  120.72   \n",
       "4               2.0                4.0                4.0        6.0   56.60   \n",
       "\n",
       "    LabuteASA      BalabanJ      BertzCT  \n",
       "0  158.520601  0.000000e+00   210.377334  \n",
       "1   75.183563  2.582996e+00   511.229248  \n",
       "2   58.261134  3.009782e+00   202.661065  \n",
       "3  323.755434  2.322963e-07  1964.648666  \n",
       "4  183.183268  1.084427e+00   769.899934  \n",
       "\n",
       "[5 rows x 26 columns]"
      ]
     },
     "execution_count": 3,
     "metadata": {},
     "output_type": "execute_result"
    }
   ],
   "source": [
    "print('Number of records:', len(df))\n",
    "print('Number of columns:', len(df.keys()))\n",
    "print('Overview of the first records:')\n",
    "df.head()"
   ]
  },
  {
   "cell_type": "code",
   "execution_count": 4,
   "id": "db5e018a",
   "metadata": {
    "scrolled": true
   },
   "outputs": [
    {
     "data": {
      "text/html": [
       "<div>\n",
       "<style scoped>\n",
       "    .dataframe tbody tr th:only-of-type {\n",
       "        vertical-align: middle;\n",
       "    }\n",
       "\n",
       "    .dataframe tbody tr th {\n",
       "        vertical-align: top;\n",
       "    }\n",
       "\n",
       "    .dataframe thead th {\n",
       "        text-align: right;\n",
       "    }\n",
       "</style>\n",
       "<table border=\"1\" class=\"dataframe\">\n",
       "  <thead>\n",
       "    <tr style=\"text-align: right;\">\n",
       "      <th></th>\n",
       "      <th>Solubility</th>\n",
       "      <th>SD</th>\n",
       "      <th>Ocurrences</th>\n",
       "      <th>MolWt</th>\n",
       "      <th>MolLogP</th>\n",
       "      <th>MolMR</th>\n",
       "      <th>HeavyAtomCount</th>\n",
       "      <th>NumHAcceptors</th>\n",
       "      <th>NumHDonors</th>\n",
       "      <th>NumHeteroatoms</th>\n",
       "      <th>NumRotatableBonds</th>\n",
       "      <th>NumValenceElectrons</th>\n",
       "      <th>NumAromaticRings</th>\n",
       "      <th>NumSaturatedRings</th>\n",
       "      <th>NumAliphaticRings</th>\n",
       "      <th>RingCount</th>\n",
       "      <th>TPSA</th>\n",
       "      <th>LabuteASA</th>\n",
       "      <th>BalabanJ</th>\n",
       "      <th>BertzCT</th>\n",
       "    </tr>\n",
       "  </thead>\n",
       "  <tbody>\n",
       "    <tr>\n",
       "      <th>count</th>\n",
       "      <td>9982.000000</td>\n",
       "      <td>9982.000000</td>\n",
       "      <td>9982.000000</td>\n",
       "      <td>9982.000000</td>\n",
       "      <td>9982.000000</td>\n",
       "      <td>9982.000000</td>\n",
       "      <td>9982.000000</td>\n",
       "      <td>9982.000000</td>\n",
       "      <td>9982.000000</td>\n",
       "      <td>9982.000000</td>\n",
       "      <td>9982.000000</td>\n",
       "      <td>9982.000000</td>\n",
       "      <td>9982.000000</td>\n",
       "      <td>9982.000000</td>\n",
       "      <td>9982.000000</td>\n",
       "      <td>9982.000000</td>\n",
       "      <td>9982.000000</td>\n",
       "      <td>9982.000000</td>\n",
       "      <td>9982.000000</td>\n",
       "      <td>9982.000000</td>\n",
       "    </tr>\n",
       "    <tr>\n",
       "      <th>mean</th>\n",
       "      <td>-2.889909</td>\n",
       "      <td>0.067449</td>\n",
       "      <td>1.378081</td>\n",
       "      <td>266.665946</td>\n",
       "      <td>1.979167</td>\n",
       "      <td>66.794594</td>\n",
       "      <td>17.374674</td>\n",
       "      <td>3.486776</td>\n",
       "      <td>1.108595</td>\n",
       "      <td>5.196955</td>\n",
       "      <td>4.073031</td>\n",
       "      <td>94.243438</td>\n",
       "      <td>1.068323</td>\n",
       "      <td>0.292627</td>\n",
       "      <td>0.447606</td>\n",
       "      <td>1.515929</td>\n",
       "      <td>62.458601</td>\n",
       "      <td>108.912586</td>\n",
       "      <td>2.392199</td>\n",
       "      <td>467.336782</td>\n",
       "    </tr>\n",
       "    <tr>\n",
       "      <th>std</th>\n",
       "      <td>2.368154</td>\n",
       "      <td>0.234702</td>\n",
       "      <td>1.023476</td>\n",
       "      <td>184.179024</td>\n",
       "      <td>3.517738</td>\n",
       "      <td>46.523021</td>\n",
       "      <td>12.241536</td>\n",
       "      <td>3.498203</td>\n",
       "      <td>1.488973</td>\n",
       "      <td>4.736275</td>\n",
       "      <td>5.646925</td>\n",
       "      <td>64.748563</td>\n",
       "      <td>1.309427</td>\n",
       "      <td>0.879599</td>\n",
       "      <td>1.054667</td>\n",
       "      <td>1.644334</td>\n",
       "      <td>63.348307</td>\n",
       "      <td>76.462726</td>\n",
       "      <td>1.091123</td>\n",
       "      <td>546.631696</td>\n",
       "    </tr>\n",
       "    <tr>\n",
       "      <th>min</th>\n",
       "      <td>-13.171900</td>\n",
       "      <td>0.000000</td>\n",
       "      <td>1.000000</td>\n",
       "      <td>9.012000</td>\n",
       "      <td>-40.873200</td>\n",
       "      <td>0.000000</td>\n",
       "      <td>1.000000</td>\n",
       "      <td>0.000000</td>\n",
       "      <td>0.000000</td>\n",
       "      <td>0.000000</td>\n",
       "      <td>0.000000</td>\n",
       "      <td>0.000000</td>\n",
       "      <td>0.000000</td>\n",
       "      <td>0.000000</td>\n",
       "      <td>0.000000</td>\n",
       "      <td>0.000000</td>\n",
       "      <td>0.000000</td>\n",
       "      <td>7.504228</td>\n",
       "      <td>-0.000004</td>\n",
       "      <td>0.000000</td>\n",
       "    </tr>\n",
       "    <tr>\n",
       "      <th>25%</th>\n",
       "      <td>-4.326325</td>\n",
       "      <td>0.000000</td>\n",
       "      <td>1.000000</td>\n",
       "      <td>162.276000</td>\n",
       "      <td>0.619750</td>\n",
       "      <td>40.602475</td>\n",
       "      <td>11.000000</td>\n",
       "      <td>2.000000</td>\n",
       "      <td>0.000000</td>\n",
       "      <td>3.000000</td>\n",
       "      <td>1.000000</td>\n",
       "      <td>58.000000</td>\n",
       "      <td>0.000000</td>\n",
       "      <td>0.000000</td>\n",
       "      <td>0.000000</td>\n",
       "      <td>0.000000</td>\n",
       "      <td>26.300000</td>\n",
       "      <td>66.623721</td>\n",
       "      <td>2.004357</td>\n",
       "      <td>163.243343</td>\n",
       "    </tr>\n",
       "    <tr>\n",
       "      <th>50%</th>\n",
       "      <td>-2.618173</td>\n",
       "      <td>0.000000</td>\n",
       "      <td>1.000000</td>\n",
       "      <td>228.682000</td>\n",
       "      <td>1.949220</td>\n",
       "      <td>58.633400</td>\n",
       "      <td>15.000000</td>\n",
       "      <td>3.000000</td>\n",
       "      <td>1.000000</td>\n",
       "      <td>4.000000</td>\n",
       "      <td>3.000000</td>\n",
       "      <td>82.000000</td>\n",
       "      <td>1.000000</td>\n",
       "      <td>0.000000</td>\n",
       "      <td>0.000000</td>\n",
       "      <td>1.000000</td>\n",
       "      <td>50.720000</td>\n",
       "      <td>93.299873</td>\n",
       "      <td>2.539539</td>\n",
       "      <td>351.640433</td>\n",
       "    </tr>\n",
       "    <tr>\n",
       "      <th>75%</th>\n",
       "      <td>-1.209735</td>\n",
       "      <td>0.000000</td>\n",
       "      <td>1.000000</td>\n",
       "      <td>320.436000</td>\n",
       "      <td>3.419030</td>\n",
       "      <td>81.938000</td>\n",
       "      <td>21.000000</td>\n",
       "      <td>4.000000</td>\n",
       "      <td>2.000000</td>\n",
       "      <td>6.000000</td>\n",
       "      <td>5.000000</td>\n",
       "      <td>112.000000</td>\n",
       "      <td>2.000000</td>\n",
       "      <td>0.000000</td>\n",
       "      <td>1.000000</td>\n",
       "      <td>2.000000</td>\n",
       "      <td>80.390000</td>\n",
       "      <td>129.118374</td>\n",
       "      <td>3.032456</td>\n",
       "      <td>606.562848</td>\n",
       "    </tr>\n",
       "    <tr>\n",
       "      <th>max</th>\n",
       "      <td>2.137682</td>\n",
       "      <td>3.870145</td>\n",
       "      <td>38.000000</td>\n",
       "      <td>5299.456000</td>\n",
       "      <td>68.541140</td>\n",
       "      <td>1419.351700</td>\n",
       "      <td>388.000000</td>\n",
       "      <td>86.000000</td>\n",
       "      <td>26.000000</td>\n",
       "      <td>89.000000</td>\n",
       "      <td>141.000000</td>\n",
       "      <td>2012.000000</td>\n",
       "      <td>35.000000</td>\n",
       "      <td>30.000000</td>\n",
       "      <td>30.000000</td>\n",
       "      <td>36.000000</td>\n",
       "      <td>1214.340000</td>\n",
       "      <td>2230.685124</td>\n",
       "      <td>7.517310</td>\n",
       "      <td>20720.267708</td>\n",
       "    </tr>\n",
       "  </tbody>\n",
       "</table>\n",
       "</div>"
      ],
      "text/plain": [
       "        Solubility           SD   Ocurrences        MolWt      MolLogP  \\\n",
       "count  9982.000000  9982.000000  9982.000000  9982.000000  9982.000000   \n",
       "mean     -2.889909     0.067449     1.378081   266.665946     1.979167   \n",
       "std       2.368154     0.234702     1.023476   184.179024     3.517738   \n",
       "min     -13.171900     0.000000     1.000000     9.012000   -40.873200   \n",
       "25%      -4.326325     0.000000     1.000000   162.276000     0.619750   \n",
       "50%      -2.618173     0.000000     1.000000   228.682000     1.949220   \n",
       "75%      -1.209735     0.000000     1.000000   320.436000     3.419030   \n",
       "max       2.137682     3.870145    38.000000  5299.456000    68.541140   \n",
       "\n",
       "             MolMR  HeavyAtomCount  NumHAcceptors   NumHDonors  \\\n",
       "count  9982.000000     9982.000000    9982.000000  9982.000000   \n",
       "mean     66.794594       17.374674       3.486776     1.108595   \n",
       "std      46.523021       12.241536       3.498203     1.488973   \n",
       "min       0.000000        1.000000       0.000000     0.000000   \n",
       "25%      40.602475       11.000000       2.000000     0.000000   \n",
       "50%      58.633400       15.000000       3.000000     1.000000   \n",
       "75%      81.938000       21.000000       4.000000     2.000000   \n",
       "max    1419.351700      388.000000      86.000000    26.000000   \n",
       "\n",
       "       NumHeteroatoms  NumRotatableBonds  NumValenceElectrons  \\\n",
       "count     9982.000000        9982.000000          9982.000000   \n",
       "mean         5.196955           4.073031            94.243438   \n",
       "std          4.736275           5.646925            64.748563   \n",
       "min          0.000000           0.000000             0.000000   \n",
       "25%          3.000000           1.000000            58.000000   \n",
       "50%          4.000000           3.000000            82.000000   \n",
       "75%          6.000000           5.000000           112.000000   \n",
       "max         89.000000         141.000000          2012.000000   \n",
       "\n",
       "       NumAromaticRings  NumSaturatedRings  NumAliphaticRings    RingCount  \\\n",
       "count       9982.000000        9982.000000        9982.000000  9982.000000   \n",
       "mean           1.068323           0.292627           0.447606     1.515929   \n",
       "std            1.309427           0.879599           1.054667     1.644334   \n",
       "min            0.000000           0.000000           0.000000     0.000000   \n",
       "25%            0.000000           0.000000           0.000000     0.000000   \n",
       "50%            1.000000           0.000000           0.000000     1.000000   \n",
       "75%            2.000000           0.000000           1.000000     2.000000   \n",
       "max           35.000000          30.000000          30.000000    36.000000   \n",
       "\n",
       "              TPSA    LabuteASA     BalabanJ       BertzCT  \n",
       "count  9982.000000  9982.000000  9982.000000   9982.000000  \n",
       "mean     62.458601   108.912586     2.392199    467.336782  \n",
       "std      63.348307    76.462726     1.091123    546.631696  \n",
       "min       0.000000     7.504228    -0.000004      0.000000  \n",
       "25%      26.300000    66.623721     2.004357    163.243343  \n",
       "50%      50.720000    93.299873     2.539539    351.640433  \n",
       "75%      80.390000   129.118374     3.032456    606.562848  \n",
       "max    1214.340000  2230.685124     7.517310  20720.267708  "
      ]
     },
     "execution_count": 4,
     "metadata": {},
     "output_type": "execute_result"
    }
   ],
   "source": [
    "df.describe()"
   ]
  },
  {
   "cell_type": "markdown",
   "id": "5610c3d4",
   "metadata": {},
   "source": [
    "Some data fields describe the molecules and their structure:\n",
    "- `Name` is the molecule name (not sure if common or IUPAC name)\n",
    "- `InChI` and `InChIKey` are (see [Wikipedia](https://en.wikipedia.org/wiki/International_Chemical_Identifier))\n",
    "- `SMILES` is the (see [Wikipedia](https://en.wikipedia.org/wiki/Simplified_molecular-input_line-entry_system))\n",
    "\n",
    "Then there are 17 molecular descriptors, calculated from the molecular structure by `RDKit` and listed in the paper (Table 2):\n",
    "\n",
    "| Name | Description | Type |\n",
    "| :- | :- | :- |\n",
    "| MolWt | Molecular weight | float |\n",
    "| MolLogP | Octanol-water partition coefficient | float |\n",
    "| MolMR | Molar refractivity | float |\n",
    "| HeavyAtomCount | Number of non-H atoms | integer |\n",
    "| NumHAcceptors | Number of H acceptors | integer |\n",
    "| NumHDonors | Number of H donors | integer |\n",
    "| NumHeteroatoms | Number of atoms not carbon or hydrogen | integer |\n",
    "| NumRotatableBonds | Number of rotatable bonds | integer |\n",
    "| NumValenceElectrons | Number of valence electrons | integer |\n",
    "| NumAromaticRings | Number of aromatic rings | integer |\n",
    "| NumSaturatedRings | Number of saturated rings | integer |\n",
    "| NumAliphaticRings | Number of aliphatic rings | integer |\n",
    "| RingCount | Number of total rings | integer |\n",
    "| TPSA | Topological polar surface area | float |\n",
    "| LabuteASA | Labute’s Approximate Surface Area | float |\n",
    "| BalabanJ | Balaban’s J index (graph index) | float |\n",
    "| BertzCT | A topological complexity index of compound | float |\n",
    "\n",
    "Finally, there is data about the solubility. `Solubility` is the experimental aqueous solubility value (LogS, actually). And because the dataset was obtained by merging together different sources, some solubility values come from different independent measurements. `Occurrences` is the number of measurements for each molecule, and `SD` is the standard deviation between measurements. Finally, each molecular is assigned a reliability group (`Group`).\n",
    "\n",
    "- G1 - occurs once in the dataset\n",
    "- G2 - occurs twice in the dataset, values are considered different (SD > 0.5)\n",
    "- G3 - occurs twice in the dataset, values are considered consistent (SD <= 0.5)\n",
    "- G4 - occurs 3+ times in the dataset, values are considered different (SD > 0.5)\n",
    "- G5 - occurs 3+ times in the dataset, values are considered consistent (SD <= 0.5)"
   ]
  },
  {
   "cell_type": "markdown",
   "id": "9062dd1b",
   "metadata": {},
   "source": [
    "## Selection / curation of the data\n",
    "\n",
    "We probably want to restrict our analysis to some of the data, keeping only the records that we consider the most reliable. How many molecules are in each group?"
   ]
  },
  {
   "cell_type": "code",
   "execution_count": 5,
   "id": "50054367",
   "metadata": {},
   "outputs": [
    {
     "data": {
      "text/plain": [
       "G1    7746\n",
       "G3    1182\n",
       "G5     636\n",
       "G2     235\n",
       "G4     183\n",
       "Name: Group, dtype: int64"
      ]
     },
     "execution_count": 5,
     "metadata": {},
     "output_type": "execute_result"
    }
   ],
   "source": [
    "df['Group'].value_counts()"
   ]
  },
  {
   "cell_type": "markdown",
   "id": "a45ad1be",
   "metadata": {},
   "source": [
    "We probably want to exclude molecules in the G2 and G4 groups: their solubility has been measured several times, with quite different values, so those values have high uncertainty. But what about G1? "
   ]
  },
  {
   "cell_type": "code",
   "execution_count": 6,
   "id": "4a120cc9",
   "metadata": {},
   "outputs": [
    {
     "name": "stdout",
     "output_type": "stream",
     "text": [
      "Molecules in G3 + G5: 1818\n",
      "Molecules in G1 + G3 + G5: 9564\n"
     ]
    }
   ],
   "source": [
    "print('Molecules in G3 + G5:', sum(df['Group'].isin(['G3', 'G5'])))\n",
    "print('Molecules in G1 + G3 + G5:', sum(df['Group'].isin(['G1', 'G3', 'G5'])))"
   ]
  },
  {
   "cell_type": "markdown",
   "id": "d792a8ed",
   "metadata": {},
   "source": [
    "Most of our dataset is from molecules in the G1 group, where the solubility value is derived from a single measurement. For those, we have no idea of the reliability of the data. On the other hand, if we exclude them, our dataset size goes down from 9564 to 1818. What is best for our machine learning model? More data to train on, or less data but with better accuracy?\n",
    "\n",
    "There is no universal choice, really. In this tutorial, we will start by keeping only the more accurate data, for now."
   ]
  },
  {
   "cell_type": "code",
   "execution_count": 7,
   "id": "5e912687",
   "metadata": {},
   "outputs": [
    {
     "name": "stdout",
     "output_type": "stream",
     "text": [
      "Number of records in df1: 1818\n"
     ]
    }
   ],
   "source": [
    "df1 = df[df['Group'].isin(['G3', 'G5'])]\n",
    "print('Number of records in df1:', len(df1))"
   ]
  },
  {
   "cell_type": "markdown",
   "id": "c58dba4a",
   "metadata": {},
   "source": [
    "## Exploring the data\n",
    "\n",
    "We can have a look at the distribution of the solubility values in the data set:"
   ]
  },
  {
   "cell_type": "code",
   "execution_count": 8,
   "id": "dbc286ac",
   "metadata": {},
   "outputs": [
    {
     "data": {
      "image/png": "[encoded data removed]",
      "text/plain": [
       "<Figure size 432x288 with 1 Axes>"
      ]
     },
     "metadata": {},
     "output_type": "display_data"
    }
   ],
   "source": [
    "_ = sns.histplot(data=df1, x='Solubility')"
   ]
  },
  {
   "cell_type": "markdown",
   "id": "cf74b703",
   "metadata": {},
   "source": [
    "Or visually inspect the data to try and see how different descriptors appear to correlate with the solubility:"
   ]
  },
  {
   "cell_type": "code",
   "execution_count": 9,
   "id": "3e8ca45d",
   "metadata": {},
   "outputs": [
    {
     "data": {
      "image/png": "[encoded data removed]",
      "text/plain": [
       "<Figure size 432x288 with 1 Axes>"
      ]
     },
     "metadata": {},
     "output_type": "display_data"
    }
   ],
   "source": [
    "_ = sns.scatterplot(data=df1, x='MolWt', y='Solubility', s=6, alpha=0.5)"
   ]
  },
  {
   "cell_type": "code",
   "execution_count": 10,
   "id": "608fcdb1",
   "metadata": {},
   "outputs": [
    {
     "data": {
      "image/png": "[encoded data removed]",
      "text/plain": [
       "<Figure size 432x288 with 1 Axes>"
      ]
     },
     "metadata": {},
     "output_type": "display_data"
    }
   ],
   "source": [
    "_ = sns.scatterplot(data=df1, x='RingCount', y='Solubility', s=6, alpha=0.5)"
   ]
  },
  {
   "cell_type": "code",
   "execution_count": 11,
   "id": "b6c64187",
   "metadata": {},
   "outputs": [],
   "source": [
    "# Your code here :)"
   ]
  },
  {
   "cell_type": "markdown",
   "id": "a1d92c13",
   "metadata": {},
   "source": [
    "You can play around with different descriptors… can you guess which is going to be the most important one? "
   ]
  },
  {
   "cell_type": "markdown",
   "id": "08508c8a",
   "metadata": {},
   "source": [
    "## Setting up a classification problem\n",
    "\n",
    "We currently have as data a series of numerical descriptors for each molecule, and a value of solubility. We could therefore create a **regression model**, which would predict the value of solubility constant (a continuous variable).\n",
    "\n",
    "But suppose, for our purposes, we are not interested in the exact value of the solubility constant, but only on whether a molecule is soluble or not in water. This is then a **classification model**, where the outcome we want to predict is a discrete label or category: soluble or insoluble.\n",
    "\n",
    "We therefore start by creating these categories. We define a molecule as soluble in water if its solubility is higher than 200 μM."
   ]
  },
  {
   "cell_type": "code",
   "execution_count": 12,
   "id": "b6fef9cb",
   "metadata": {},
   "outputs": [],
   "source": [
    "def isSoluble(s):\n",
    "    return 'yes' if s > np.log10(200e-6) else 'no'\n",
    "\n",
    "df['Soluble'] = df['Solubility'].apply(isSoluble)"
   ]
  },
  {
   "cell_type": "markdown",
   "id": "c91394b9",
   "metadata": {},
   "source": [
    "Having modified the whole dataset `df`, we need to extract again our restricted dataset of high accuracy data `df1`"
   ]
  },
  {
   "cell_type": "code",
   "execution_count": 13,
   "id": "aa516b58",
   "metadata": {},
   "outputs": [],
   "source": [
    "df1 = df[df['Group'].isin(['G3', 'G5'])]"
   ]
  },
  {
   "cell_type": "markdown",
   "id": "ee564175",
   "metadata": {},
   "source": [
    "And we can check that the data distribution between soluble and insoluble molecules is not too unbalanced:"
   ]
  },
  {
   "cell_type": "code",
   "execution_count": 14,
   "id": "67d9ee2c",
   "metadata": {},
   "outputs": [
    {
     "name": "stdout",
     "output_type": "stream",
     "text": [
      "Number of soluble molecules: 1260\n",
      "Number of insoluble molecules: 558\n"
     ]
    },
    {
     "data": {
      "image/png": "[encoded data removed]",
      "text/plain": [
       "<Figure size 432x288 with 1 Axes>"
      ]
     },
     "metadata": {},
     "output_type": "display_data"
    }
   ],
   "source": [
    "print('Number of soluble molecules:', sum(df1['Soluble'] == 'yes'))\n",
    "print('Number of insoluble molecules:', sum(df1['Soluble'] == 'no'))\n",
    "_ = sns.histplot(data=df1, x='Solubility', hue='Soluble')"
   ]
  },
  {
   "cell_type": "markdown",
   "id": "d00db2c3",
   "metadata": {},
   "source": [
    "We see that there are more soluble molecules than insoluble molecules in the dataset, but both sets contain enough molecules that we are able to use the data for prediction.\n",
    "\n",
    "We are going to train different types of models for this classification task. In order to evaluate their statistical accuracy, we are going to split the entire data set between a **training set** and a **testing set**. Scikit-learn has a function for that: [`train_test_split`](https://scikit-learn.org/stable/modules/generated/sklearn.model_selection.train_test_split.html).\n",
    "\n",
    "This is a relatively simple way to measure accuracy, and suitable for this simple example. We could also use more advanced procedures, such as **[cross-validation](https://scikit-learn.org/stable/modules/cross_validation.html)**."
   ]
  },
  {
   "cell_type": "code",
   "execution_count": 15,
   "id": "6216971e",
   "metadata": {},
   "outputs": [
    {
     "name": "stdout",
     "output_type": "stream",
     "text": [
      "Records in training data: 1363\n",
      "Records in testing data: 455\n"
     ]
    }
   ],
   "source": [
    "train, test = train_test_split(df1, random_state=42)\n",
    "print('Records in training data:', len(train))\n",
    "print('Records in testing data:', len(test))"
   ]
  },
  {
   "cell_type": "markdown",
   "id": "d5db21e9",
   "metadata": {},
   "source": [
    "We will now store separately our training features (the descriptors), training targets (the classes to predict: yes/no), testing features and testing targets.\n",
    "\n",
    "We start by illustrating the process with very simple data, restricted to only two descriptors: molecular weight and number of aromatic rings."
   ]
  },
  {
   "cell_type": "code",
   "execution_count": 16,
   "id": "ef2267ef",
   "metadata": {},
   "outputs": [],
   "source": [
    "data_train = train[['MolWt', 'NumAromaticRings']]\n",
    "data_test = test[['MolWt', 'NumAromaticRings']]\n",
    "\n",
    "target_train = train['Soluble']\n",
    "target_test = test['Soluble']"
   ]
  },
  {
   "cell_type": "markdown",
   "id": "dfe0619f",
   "metadata": {},
   "source": [
    "## First model: logistic regression\n",
    "\n",
    "As our first model, we choose a very simple example: a [logistic regressor](https://scikit-learn.org/stable/modules/linear_model.html#logistic-regression), which is a linear model for classification. (And yes, despite its name, it is a _classification_ model and not a _regression_ model. I agree that it is confusing.)\n",
    "\n",
    "We create a two-step pipeline for this model:\n",
    "1. standardization of the features\n",
    "2. logistic regression\n",
    "\n",
    "In the regressor, we set the `penalty` parameter to `none`, so there is no regularization of the model (no constraint on the coefficients of the model). This makes the logistic regression behave as a purely linear model, and will be simpler for discussion later."
   ]
  },
  {
   "cell_type": "code",
   "execution_count": 17,
   "id": "37a34eb8",
   "metadata": {},
   "outputs": [
    {
     "data": {
      "text/html": [
       "<style>#sk-ff6c049a-01e0-481a-be0d-3bce57f0af83 {color: black;background-color: white;}#sk-ff6c049a-01e0-481a-be0d-3bce57f0af83 pre{padding: 0;}#sk-ff6c049a-01e0-481a-be0d-3bce57f0af83 div.sk-toggleable {background-color: white;}#sk-ff6c049a-01e0-481a-be0d-3bce57f0af83 label.sk-toggleable__label {cursor: pointer;display: block;width: 100%;margin-bottom: 0;padding: 0.3em;box-sizing: border-box;text-align: center;}#sk-ff6c049a-01e0-481a-be0d-3bce57f0af83 div.sk-toggleable__content {max-height: 0;max-width: 0;overflow: hidden;text-align: left;background-color: #f0f8ff;}#sk-ff6c049a-01e0-481a-be0d-3bce57f0af83 div.sk-toggleable__content pre {margin: 0.2em;color: black;border-radius: 0.25em;background-color: #f0f8ff;}#sk-ff6c049a-01e0-481a-be0d-3bce57f0af83 input.sk-toggleable__control:checked~div.sk-toggleable__content {max-height: 200px;max-width: 100%;overflow: auto;}#sk-ff6c049a-01e0-481a-be0d-3bce57f0af83 div.sk-estimator input.sk-toggleable__control:checked~label.sk-toggleable__label {background-color: #d4ebff;}#sk-ff6c049a-01e0-481a-be0d-3bce57f0af83 div.sk-label input.sk-toggleable__control:checked~label.sk-toggleable__label {background-color: #d4ebff;}#sk-ff6c049a-01e0-481a-be0d-3bce57f0af83 input.sk-hidden--visually {border: 0;clip: rect(1px 1px 1px 1px);clip: rect(1px, 1px, 1px, 1px);height: 1px;margin: -1px;overflow: hidden;padding: 0;position: absolute;width: 1px;}#sk-ff6c049a-01e0-481a-be0d-3bce57f0af83 div.sk-estimator {font-family: monospace;background-color: #f0f8ff;border: 1px dotted black;border-radius: 0.25em;box-sizing: border-box;margin-bottom: 0.5em;}#sk-ff6c049a-01e0-481a-be0d-3bce57f0af83 div.sk-estimator:hover {background-color: #d4ebff;}#sk-ff6c049a-01e0-481a-be0d-3bce57f0af83 div.sk-parallel-item::after {content: \"\";width: 100%;border-bottom: 1px solid gray;flex-grow: 1;}#sk-ff6c049a-01e0-481a-be0d-3bce57f0af83 div.sk-label:hover label.sk-toggleable__label {background-color: #d4ebff;}#sk-ff6c049a-01e0-481a-be0d-3bce57f0af83 div.sk-serial::before {content: \"\";position: absolute;border-left: 1px solid gray;box-sizing: border-box;top: 2em;bottom: 0;left: 50%;}#sk-ff6c049a-01e0-481a-be0d-3bce57f0af83 div.sk-serial {display: flex;flex-direction: column;align-items: center;background-color: white;padding-right: 0.2em;padding-left: 0.2em;}#sk-ff6c049a-01e0-481a-be0d-3bce57f0af83 div.sk-item {z-index: 1;}#sk-ff6c049a-01e0-481a-be0d-3bce57f0af83 div.sk-parallel {display: flex;align-items: stretch;justify-content: center;background-color: white;}#sk-ff6c049a-01e0-481a-be0d-3bce57f0af83 div.sk-parallel::before {content: \"\";position: absolute;border-left: 1px solid gray;box-sizing: border-box;top: 2em;bottom: 0;left: 50%;}#sk-ff6c049a-01e0-481a-be0d-3bce57f0af83 div.sk-parallel-item {display: flex;flex-direction: column;position: relative;background-color: white;}#sk-ff6c049a-01e0-481a-be0d-3bce57f0af83 div.sk-parallel-item:first-child::after {align-self: flex-end;width: 50%;}#sk-ff6c049a-01e0-481a-be0d-3bce57f0af83 div.sk-parallel-item:last-child::after {align-self: flex-start;width: 50%;}#sk-ff6c049a-01e0-481a-be0d-3bce57f0af83 div.sk-parallel-item:only-child::after {width: 0;}#sk-ff6c049a-01e0-481a-be0d-3bce57f0af83 div.sk-dashed-wrapped {border: 1px dashed gray;margin: 0 0.4em 0.5em 0.4em;box-sizing: border-box;padding-bottom: 0.4em;background-color: white;position: relative;}#sk-ff6c049a-01e0-481a-be0d-3bce57f0af83 div.sk-label label {font-family: monospace;font-weight: bold;background-color: white;display: inline-block;line-height: 1.2em;}#sk-ff6c049a-01e0-481a-be0d-3bce57f0af83 div.sk-label-container {position: relative;z-index: 2;text-align: center;}#sk-ff6c049a-01e0-481a-be0d-3bce57f0af83 div.sk-container {display: inline-block;position: relative;}</style><div id=\"sk-ff6c049a-01e0-481a-be0d-3bce57f0af83\" class\"sk-top-container\"><div class=\"sk-container\"><div class=\"sk-item sk-dashed-wrapped\"><div class=\"sk-label-container\"><div class=\"sk-label sk-toggleable\"><input class=\"sk-toggleable__control sk-hidden--visually\" id=\"48571922-19b1-4603-afee-5470b62ba301\" type=\"checkbox\" ><label class=\"sk-toggleable__label\" for=\"48571922-19b1-4603-afee-5470b62ba301\">Pipeline</label><div class=\"sk-toggleable__content\"><pre>Pipeline(steps=[('standardscaler', StandardScaler()),\n",
       "                ('logisticregression', LogisticRegression(penalty='none'))])</pre></div></div></div><div class=\"sk-serial\"><div class=\"sk-item\"><div class=\"sk-estimator sk-toggleable\"><input class=\"sk-toggleable__control sk-hidden--visually\" id=\"b2cdb8dd-1978-4028-9aba-6f9c3878014c\" type=\"checkbox\" ><label class=\"sk-toggleable__label\" for=\"b2cdb8dd-1978-4028-9aba-6f9c3878014c\">StandardScaler</label><div class=\"sk-toggleable__content\"><pre>StandardScaler()</pre></div></div></div><div class=\"sk-item\"><div class=\"sk-estimator sk-toggleable\"><input class=\"sk-toggleable__control sk-hidden--visually\" id=\"ec63549e-8499-4075-9839-96f50a94027d\" type=\"checkbox\" ><label class=\"sk-toggleable__label\" for=\"ec63549e-8499-4075-9839-96f50a94027d\">LogisticRegression</label><div class=\"sk-toggleable__content\"><pre>LogisticRegression(penalty='none')</pre></div></div></div></div></div></div></div>"
      ],
      "text/plain": [
       "Pipeline(steps=[('standardscaler', StandardScaler()),\n",
       "                ('logisticregression', LogisticRegression(penalty='none'))])"
      ]
     },
     "execution_count": 17,
     "metadata": {},
     "output_type": "execute_result"
    }
   ],
   "source": [
    "logistic_regression = make_pipeline(\n",
    "    StandardScaler(), LogisticRegression(penalty='none')\n",
    ")\n",
    "logistic_regression.fit(data_train, target_train)"
   ]
  },
  {
   "cell_type": "markdown",
   "id": "f9a34e24",
   "metadata": {},
   "source": [
    "Once the model was trained, we measure its accuracy on testing data:"
   ]
  },
  {
   "cell_type": "code",
   "execution_count": 18,
   "id": "b1800af0",
   "metadata": {},
   "outputs": [
    {
     "name": "stdout",
     "output_type": "stream",
     "text": [
      "Accuracy on training dataset: 0.7850330154071901\n",
      "Accuracy on test dataset: 0.7956043956043956\n"
     ]
    }
   ],
   "source": [
    "train_accuracy = logistic_regression.score(data_train, target_train)\n",
    "print('Accuracy on training dataset:', train_accuracy)\n",
    "\n",
    "test_accuracy = logistic_regression.score(data_test, target_test)\n",
    "print('Accuracy on test dataset:', test_accuracy)"
   ]
  },
  {
   "cell_type": "markdown",
   "id": "fe5dff10",
   "metadata": {},
   "source": [
    "This accuracy is the percentage of correct predictions: it is ~80% in this case, based on test data.\n",
    "\n",
    "To what do we compare this accuracy? After all, in a game of “heads or tails”, even guessing randomly has a 50% accuracy. Here, we will compare the accuracy to the performance of a so-called **dummy classifier**, i.e. a model that would always predict the most common label."
   ]
  },
  {
   "cell_type": "code",
   "execution_count": 19,
   "id": "ee55fe16",
   "metadata": {},
   "outputs": [
    {
     "name": "stdout",
     "output_type": "stream",
     "text": [
      "Accuracy of dummy classifier: 0.7274725274725274\n"
     ]
    }
   ],
   "source": [
    "dummy = DummyClassifier(strategy='most_frequent')\n",
    "dummy.fit(data_train, target_train)\n",
    "\n",
    "test_accuracy = dummy.score(data_test, target_test)\n",
    "print('Accuracy of dummy classifier:', test_accuracy)"
   ]
  },
  {
   "cell_type": "markdown",
   "id": "0c1a4f5e",
   "metadata": {},
   "source": [
    "Here, this dummy classifier is a model that predicts all molecules to be soluble (because it is the most frequent category). And because 73% of molecules in our test data set are soluble, that “stupid” model has 73% accuracy. So we see that our logistic regression model performance is a little bit better (but not a lot) than the dummy classifier.\n",
    "\n",
    "Let's see if a different choice of descriptors would make a difference to the model accuracy: we'll take molar weight and this `MolLogP` descriptor now (more on that below):"
   ]
  },
  {
   "cell_type": "code",
   "execution_count": 20,
   "id": "0c7eb495",
   "metadata": {},
   "outputs": [],
   "source": [
    "data_train = train[['MolWt', 'MolLogP']]\n",
    "data_test = test[['MolWt', 'MolLogP']]\n",
    "\n",
    "target_train = train['Soluble']\n",
    "target_test = test['Soluble']"
   ]
  },
  {
   "cell_type": "code",
   "execution_count": 21,
   "id": "7b96117f",
   "metadata": {
    "scrolled": true
   },
   "outputs": [
    {
     "name": "stdout",
     "output_type": "stream",
     "text": [
      "Accuracy on training dataset: 0.8708730741012473\n",
      "Accuracy on test dataset: 0.8967032967032967\n"
     ]
    }
   ],
   "source": [
    "logistic_regression = make_pipeline(\n",
    "    StandardScaler(), LogisticRegression(penalty='none')\n",
    ")\n",
    "logistic_regression.fit(data_train, target_train)\n",
    "\n",
    "train_accuracy = logistic_regression.score(data_train, target_train)\n",
    "print('Accuracy on training dataset:', train_accuracy)\n",
    "\n",
    "test_accuracy = logistic_regression.score(data_test, target_test)\n",
    "print('Accuracy on test dataset:', test_accuracy)"
   ]
  },
  {
   "cell_type": "markdown",
   "id": "5239d79d",
   "metadata": {},
   "source": [
    "The accuracy has definitely gone up, with those two descriptors it's now at about 90%. We can also check and confirm that training accuracy and test accuracy are comparable, so our model does not appear to be overfitting (which is expected from having only two features).\n",
    "\n",
    "Because we only have two descriptors, we can actually plot the data in this space:"
   ]
  },
  {
   "cell_type": "code",
   "execution_count": 22,
   "id": "e466b264",
   "metadata": {},
   "outputs": [
    {
     "data": {
      "image/png": "[encoded data removed]",
      "text/plain": [
       "<Figure size 432x288 with 1 Axes>"
      ]
     },
     "metadata": {},
     "output_type": "display_data"
    }
   ],
   "source": [
    "_ = sns.scatterplot(data=test, x='MolWt', y='MolLogP', hue='Soluble', palette=['tab:red', 'tab:blue'], s=8)"
   ]
  },
  {
   "cell_type": "markdown",
   "id": "18c6f9c3",
   "metadata": {},
   "source": [
    "In this 2D feature space, we can also plot the decision function of our trained model. There is no ready-made function for this, so we create our own below. _The details of the code are not directly relevant, so you can skip to the resulting graph…_"
   ]
  },
  {
   "cell_type": "code",
   "execution_count": 23,
   "id": "265d734c",
   "metadata": {},
   "outputs": [],
   "source": [
    "range_features = {\n",
    "    feature_name: (df1[feature_name].min() - 1,\n",
    "                   df1[feature_name].max() + 1)\n",
    "    for feature_name in ['MolWt', 'MolLogP']\n",
    "}\n",
    "\n",
    "def plot_decision_function(fitted_classifier, range_features, ax=None):\n",
    "    \"\"\"Plot the boundary of the decision function of a classifier.\"\"\"\n",
    "    from sklearn.preprocessing import LabelEncoder\n",
    "\n",
    "    feature_names = list(range_features.keys())\n",
    "    # create a grid to evaluate all possible samples\n",
    "    xx, yy = np.meshgrid(\n",
    "        np.arange(*range_features[feature_names[0]], 10),\n",
    "        np.arange(*range_features[feature_names[1]], 0.2),\n",
    "    )\n",
    "\n",
    "    # compute the associated prediction\n",
    "    Z = fitted_classifier.predict(np.c_[xx.ravel(), yy.ravel()])\n",
    "    Z = LabelEncoder().fit_transform(Z)\n",
    "    Z = Z.reshape(xx.shape)\n",
    "\n",
    "    # make the plot of the boundary and the data samples\n",
    "    if ax is None:\n",
    "        _, ax = plt.subplots()\n",
    "    ax.contourf(xx, yy, Z, alpha=0.4, cmap='RdBu_r')\n",
    "\n",
    "    return ax"
   ]
  },
  {
   "cell_type": "code",
   "execution_count": 24,
   "id": "5f72f813",
   "metadata": {},
   "outputs": [
    {
     "name": "stderr",
     "output_type": "stream",
     "text": [
      "/Users/fx/conda3/lib/python3.9/site-packages/sklearn/base.py:441: UserWarning: X does not have valid feature names, but StandardScaler was fitted with feature names\n",
      "  warnings.warn(\n"
     ]
    },
    {
     "data": {
      "image/png": "[encoded data removed]",
      "text/plain": [
       "<Figure size 432x288 with 1 Axes>"
      ]
     },
     "metadata": {},
     "output_type": "display_data"
    }
   ],
   "source": [
    "ax = sns.scatterplot(\n",
    "    data=test, x='MolWt', y='MolLogP',\n",
    "    hue='Soluble', palette=['tab:red', 'tab:blue'])\n",
    "_ = plot_decision_function(logistic_regression, range_features, ax=ax)"
   ]
  },
  {
   "cell_type": "markdown",
   "id": "d6a8275d",
   "metadata": {},
   "source": [
    "Let’s discuss that graph for a minute. Why does the decision function for the logistic regression model look like this?\n",
    "\n",
    "As we have seen before, a _linear regression_ model will predict a continuous target, as a linear function of features. But classification tasks can be carried out with linear models, as well. When the target is a binary outcome, we use (like here) a logistic function to model the probability of each outcome, and this is why this model is known as **logistic regression**. For each point, the classifier will then predict the outcome that it finds *most likely*.\n",
    "\n",
    "We plotted above the decision function, red for soluble and blue for insoluble. The edge of that decision function is the curve separating the two areas, where the probability of each is 1/2. In our _logistic regression_ model, it \n",
    "is a straight line.\n",
    "\n",
    "We noted earlier that we did not impose any _regularization_ by setting the parameter `penalty` to `None`. This allows the fitting to allow coefficients as big (or small) as needed. Since the line is oblique, it means that the model uses a combination of both features. We can find the coefficient of each feature in the equation, which will give us an idea of their weight/importance."
   ]
  },
  {
   "cell_type": "code",
   "execution_count": 25,
   "id": "f1259f5d",
   "metadata": {},
   "outputs": [
    {
     "name": "stdout",
     "output_type": "stream",
     "text": [
      "1st feature (MolWt): -1.0934625384706609\n",
      "2nd feature (MolLogP): -2.7083387616779944\n"
     ]
    }
   ],
   "source": [
    "c = logistic_regression['logisticregression'].coef_[0]\n",
    "print('1st feature (MolWt):', c[0])\n",
    "print('2nd feature (MolLogP):', c[1])"
   ]
  },
  {
   "cell_type": "markdown",
   "id": "d487aba8",
   "metadata": {},
   "source": [
    "And we see that `MolLogP` is the most important feature in the classification.\n",
    "\n",
    "Can we make chemical sense of this? `MolLogP` was calculated by RDKit, where it is described as an “atom-based calculation of the octanol/water partition coefficient log(_P_)”. More accurately, it is an _approximation_ of log(_P_), based on [this paper](https://doi.org/10.1021/ci990307l) by Wildman and Crippen. The approximation is designed to sum contribution from different types of atoms present in a molecule, and coefficients for it were trained against existing experimental data.\n",
    "\n",
    "Of course, water solubility and octanol/water separation are related, so it makes a lot of sense that `MolLogP` would be an important descriptor for water solubility."
   ]
  },
  {
   "cell_type": "markdown",
   "id": "e6d4e68d",
   "metadata": {},
   "source": [
    "## More descriptors\n",
    "\n",
    "As seen above, the `MolLogP` molecular descriptor is very well-suited for the prediction of solubility. But using it feels like cheating a bit, since its formula was itself trained by statistical methods on experimental data (which is, in itself, a learning process). So we ask the question: can we achieve the same model accuracy by using other descriptors?"
   ]
  },
  {
   "cell_type": "code",
   "execution_count": 26,
   "id": "70be0d59",
   "metadata": {},
   "outputs": [],
   "source": [
    "otherDescriptors = ['BalabanJ', 'BertzCT', 'HeavyAtomCount', 'LabuteASA', 'MolMR',\n",
    "  'MolWt', 'NumAliphaticRings', 'NumAromaticRings', 'NumHAcceptors', 'NumHDonors',\n",
    "  'NumHeteroatoms', 'NumRotatableBonds',  'NumSaturatedRings',  'NumValenceElectrons',\n",
    "  'RingCount', 'TPSA']"
   ]
  },
  {
   "cell_type": "markdown",
   "id": "b45a83b4",
   "metadata": {},
   "source": [
    "We are making a function that will train a model for each descriptor, and give us as result the accuracy measured on the test dataset:"
   ]
  },
  {
   "cell_type": "code",
   "execution_count": 27,
   "id": "af6d1f56",
   "metadata": {},
   "outputs": [],
   "source": [
    "def modelAccuracy(descriptors):\n",
    "    data_train = train[descriptors]\n",
    "    data_test = test[descriptors]\n",
    "\n",
    "    logistic_regression = make_pipeline(\n",
    "        StandardScaler(), LogisticRegression(penalty='none')\n",
    "    )\n",
    "    logistic_regression.fit(data_train, target_train)\n",
    "\n",
    "    return logistic_regression.score(data_test, target_test)"
   ]
  },
  {
   "cell_type": "code",
   "execution_count": 28,
   "id": "68affaf6",
   "metadata": {},
   "outputs": [
    {
     "name": "stdout",
     "output_type": "stream",
     "text": [
      "Accuracy with BalabanJ: 0.727\n",
      "Accuracy with BertzCT: 0.749\n",
      "Accuracy with HeavyAtomCount: 0.752\n",
      "Accuracy with LabuteASA: 0.771\n",
      "Accuracy with MolMR: 0.793\n",
      "Accuracy with MolWt: 0.774\n",
      "Accuracy with NumAliphaticRings: 0.721\n",
      "Accuracy with NumAromaticRings: 0.767\n",
      "Accuracy with NumHAcceptors: 0.727\n",
      "Accuracy with NumHDonors: 0.727\n",
      "Accuracy with NumHeteroatoms: 0.719\n",
      "Accuracy with NumRotatableBonds: 0.741\n",
      "Accuracy with NumSaturatedRings: 0.725\n",
      "Accuracy with NumValenceElectrons: 0.749\n",
      "Accuracy with RingCount: 0.756\n",
      "Accuracy with TPSA: 0.727\n"
     ]
    }
   ],
   "source": [
    "for d in otherDescriptors:\n",
    "    print(f'Accuracy with {d}: {modelAccuracy([d]):.3f}')"
   ]
  },
  {
   "cell_type": "markdown",
   "id": "f4365006",
   "metadata": {},
   "source": [
    "Many of these descriptors, alone, produce models that are not statistically better than the “dummy classifier” which is our baseline. But how do they perform when put all together?"
   ]
  },
  {
   "cell_type": "code",
   "execution_count": 29,
   "id": "0918e66c",
   "metadata": {},
   "outputs": [
    {
     "name": "stdout",
     "output_type": "stream",
     "text": [
      "Test accuracy: 0.8791208791208791\n"
     ]
    }
   ],
   "source": [
    "data_train = train[otherDescriptors]\n",
    "data_test = test[otherDescriptors]\n",
    "\n",
    "logistic_regression = make_pipeline(\n",
    "    StandardScaler(), LogisticRegression(penalty='none')\n",
    ")\n",
    "logistic_regression.fit(data_train, target_train)\n",
    "\n",
    "test_accuracy = logistic_regression.score(data_test, target_test)\n",
    "print('Test accuracy:', test_accuracy)"
   ]
  },
  {
   "cell_type": "markdown",
   "id": "623cc57c",
   "metadata": {},
   "source": [
    "So we can indeed create a model with descriptors other than `MolLogP`, that can statistically reach the same accuracy (or almost)!\n",
    "\n",
    "What are the features that contribute the most to this model?"
   ]
  },
  {
   "cell_type": "code",
   "execution_count": 30,
   "id": "7360ddba",
   "metadata": {},
   "outputs": [
    {
     "data": {
      "text/plain": [
       "array([[-0.32212159,  3.58979993, -3.7847206 , -0.37756608, -1.63698465,\n",
       "        -1.23614699, -0.47265552, -0.74080579,  0.87183295,  0.84587423,\n",
       "        -0.47313289,  0.59245227,  0.85485127,  1.47958298, -0.86713031,\n",
       "         0.3928599 ]])"
      ]
     },
     "execution_count": 30,
     "metadata": {},
     "output_type": "execute_result"
    }
   ],
   "source": [
    "logistic_regression['logisticregression'].coef_"
   ]
  },
  {
   "cell_type": "markdown",
   "id": "66c302b0",
   "metadata": {},
   "source": [
    "Let's display this list of coefficients more nicely:"
   ]
  },
  {
   "cell_type": "code",
   "execution_count": 31,
   "id": "d13e4f23",
   "metadata": {},
   "outputs": [
    {
     "name": "stdout",
     "output_type": "stream",
     "text": [
      "BalabanJ: -0.322\n",
      "BertzCT: 3.590\n",
      "HeavyAtomCount: -3.785\n",
      "LabuteASA: -0.378\n",
      "MolMR: -1.637\n",
      "MolWt: -1.236\n",
      "NumAliphaticRings: -0.473\n",
      "NumAromaticRings: -0.741\n",
      "NumHAcceptors: 0.872\n",
      "NumHDonors: 0.846\n",
      "NumHeteroatoms: -0.473\n",
      "NumRotatableBonds: 0.592\n",
      "NumSaturatedRings: 0.855\n",
      "NumValenceElectrons: 1.480\n",
      "RingCount: -0.867\n",
      "TPSA: 0.393\n"
     ]
    }
   ],
   "source": [
    "coefficients = logistic_regression['logisticregression'].coef_[0]\n",
    "\n",
    "for name, coeff in zip(otherDescriptors, coefficients):\n",
    "    print(f'{name}: {coeff:.3f}')"
   ]
  },
  {
   "cell_type": "code",
   "execution_count": 32,
   "id": "fba9d537",
   "metadata": {
    "scrolled": true
   },
   "outputs": [
    {
     "data": {
      "image/png": "[encoded data removed]",
      "text/plain": [
       "<Figure size 432x288 with 1 Axes>"
      ]
     },
     "metadata": {},
     "output_type": "display_data"
    }
   ],
   "source": [
    "_ = sns.barplot(x=coefficients, y=otherDescriptors)"
   ]
  },
  {
   "cell_type": "markdown",
   "id": "6e3fd121",
   "metadata": {},
   "source": [
    "## What type of errors are we making? Confusion matrix\n",
    "\n",
    "We have calculated before a statistical accuracy of the predictor. But in a classification task, there are different types of mispredictions, and we may want to check those. For example, in some applications we could be interested to minimize specifically _false positives_ or _false negatives_.\n",
    "\n",
    "We can obtain detailed information by calculating and displaying the **[confusion matrix](https://en.wikipedia.org/wiki/Confusion_matrix)** for the model."
   ]
  },
  {
   "cell_type": "code",
   "execution_count": 33,
   "id": "9c1ca59a",
   "metadata": {},
   "outputs": [
    {
     "data": {
      "image/png": "[encoded data removed]",
      "text/plain": [
       "<Figure size 432x288 with 2 Axes>"
      ]
     },
     "metadata": {},
     "output_type": "display_data"
    }
   ],
   "source": [
    "ConfusionMatrixDisplay.from_estimator(\n",
    "    logistic_regression, data_test, target_test, display_labels=['not soluble', 'soluble'],\n",
    "    normalize=None, cmap=plt.cm.Blues\n",
    ")\n",
    "plt.grid(False)\n",
    "plt.show()"
   ]
  },
  {
   "cell_type": "markdown",
   "id": "8e863630",
   "metadata": {},
   "source": [
    "We can see that, in this case, we tend to predict more insoluble molecules as soluble, than we predict soluble molecules as insoluble. We can link this trend to the nature of the training data set, which is biased towards soluble molecules."
   ]
  },
  {
   "cell_type": "markdown",
   "id": "6e03f913",
   "metadata": {},
   "source": [
    "## Multiclass classification\n",
    "\n",
    "The characterization of confusion matrices is also very interesting when we have multiclass classification tasks. The logistic regression algorithm can also be used for multi-class classification. We are going to test this by defining the solubility of molecules in 3 classes:\n",
    "- highly soluble (> 1 mM)\n",
    "- medium solubility (30 μM to 1 mM)\n",
    "- low solubility (< 30 μM)"
   ]
  },
  {
   "cell_type": "code",
   "execution_count": 34,
   "id": "1e18e75d",
   "metadata": {},
   "outputs": [],
   "source": [
    "def isSoluble3(s):\n",
    "    if s > np.log10(1e-3):\n",
    "        return 'high'\n",
    "    elif s > np.log10(30e-6):\n",
    "        return 'medium'\n",
    "    else:\n",
    "        return 'low'\n",
    "\n",
    "df['Soluble3'] = df['Solubility'].apply(isSoluble3)"
   ]
  },
  {
   "cell_type": "markdown",
   "id": "cbbe356c",
   "metadata": {},
   "source": [
    "We are also going to use now a bigger dataset, this time by introducing the data in G1 group (where only one experimental measurement of solubility is available):"
   ]
  },
  {
   "cell_type": "code",
   "execution_count": 35,
   "id": "0309910c",
   "metadata": {},
   "outputs": [],
   "source": [
    "df2 = df[df['Group'].isin(['G1', 'G3', 'G5'])]"
   ]
  },
  {
   "cell_type": "markdown",
   "id": "bb94bd07",
   "metadata": {},
   "source": [
    "Let’s see how this new data looks like:"
   ]
  },
  {
   "cell_type": "code",
   "execution_count": 36,
   "id": "0ddb4c4e",
   "metadata": {},
   "outputs": [
    {
     "data": {
      "image/png": "[encoded data removed]",
      "text/plain": [
       "<Figure size 432x288 with 1 Axes>"
      ]
     },
     "metadata": {},
     "output_type": "display_data"
    }
   ],
   "source": [
    "_ = sns.histplot(data=df2, x='Solubility', hue='Soluble3')"
   ]
  },
  {
   "cell_type": "code",
   "execution_count": 37,
   "id": "e68f9c46",
   "metadata": {},
   "outputs": [
    {
     "data": {
      "image/png": "[encoded data removed]",
      "text/plain": [
       "<Figure size 432x288 with 1 Axes>"
      ]
     },
     "metadata": {},
     "output_type": "display_data"
    }
   ],
   "source": [
    "_ = sns.scatterplot(data=df2, x='MolWt', y='MolLogP', hue='Soluble3', s=5)"
   ]
  },
  {
   "cell_type": "markdown",
   "id": "67534ed1",
   "metadata": {},
   "source": [
    "The workflow now should be familiar to you, but you can make changes and experiment!"
   ]
  },
  {
   "cell_type": "code",
   "execution_count": 38,
   "id": "1b187832",
   "metadata": {},
   "outputs": [
    {
     "name": "stdout",
     "output_type": "stream",
     "text": [
      "Records in training data: 7173\n",
      "Records in testing data: 2391\n"
     ]
    }
   ],
   "source": [
    "train, test = train_test_split(df2, random_state=42)\n",
    "print('Records in training data:', len(train))\n",
    "print('Records in testing data:', len(test))\n"
   ]
  },
  {
   "cell_type": "code",
   "execution_count": 39,
   "id": "d110fabf",
   "metadata": {},
   "outputs": [],
   "source": [
    "data_train = train[otherDescriptors]\n",
    "data_test = test[otherDescriptors]\n",
    "\n",
    "target_train = train['Soluble3']\n",
    "target_test = test['Soluble3']"
   ]
  },
  {
   "cell_type": "code",
   "execution_count": 40,
   "id": "e8e55dad",
   "metadata": {
    "scrolled": true
   },
   "outputs": [
    {
     "name": "stderr",
     "output_type": "stream",
     "text": [
      "/Users/fx/conda3/lib/python3.9/site-packages/sklearn/linear_model/_logistic.py:814: ConvergenceWarning: lbfgs failed to converge (status=1):\n",
      "STOP: TOTAL NO. of ITERATIONS REACHED LIMIT.\n",
      "\n",
      "Increase the number of iterations (max_iter) or scale the data as shown in:\n",
      "    https://scikit-learn.org/stable/modules/preprocessing.html\n",
      "Please also refer to the documentation for alternative solver options:\n",
      "    https://scikit-learn.org/stable/modules/linear_model.html#logistic-regression\n",
      "  n_iter_i = _check_optimize_result(\n"
     ]
    }
   ],
   "source": [
    "logistic_regression = make_pipeline(\n",
    "    StandardScaler(), LogisticRegression(penalty='none')\n",
    ")\n",
    "_ = logistic_regression.fit(data_train, target_train)"
   ]
  },
  {
   "cell_type": "markdown",
   "id": "0090ae94",
   "metadata": {},
   "source": [
    "⚠️ That error is not usual, though. What is happening? Because we have more data (and many descriptors), the numerical procedure for the fitting of the linear model did not converge within the default number of iterations. We have to increase that number (`max_iter`) from 100 to 500:"
   ]
  },
  {
   "cell_type": "code",
   "execution_count": 41,
   "id": "a7f263ad",
   "metadata": {},
   "outputs": [
    {
     "data": {
      "text/html": [
       "<style>#sk-56a5c2a3-b54c-4b87-815b-55ba8dbbd657 {color: black;background-color: white;}#sk-56a5c2a3-b54c-4b87-815b-55ba8dbbd657 pre{padding: 0;}#sk-56a5c2a3-b54c-4b87-815b-55ba8dbbd657 div.sk-toggleable {background-color: white;}#sk-56a5c2a3-b54c-4b87-815b-55ba8dbbd657 label.sk-toggleable__label {cursor: pointer;display: block;width: 100%;margin-bottom: 0;padding: 0.3em;box-sizing: border-box;text-align: center;}#sk-56a5c2a3-b54c-4b87-815b-55ba8dbbd657 div.sk-toggleable__content {max-height: 0;max-width: 0;overflow: hidden;text-align: left;background-color: #f0f8ff;}#sk-56a5c2a3-b54c-4b87-815b-55ba8dbbd657 div.sk-toggleable__content pre {margin: 0.2em;color: black;border-radius: 0.25em;background-color: #f0f8ff;}#sk-56a5c2a3-b54c-4b87-815b-55ba8dbbd657 input.sk-toggleable__control:checked~div.sk-toggleable__content {max-height: 200px;max-width: 100%;overflow: auto;}#sk-56a5c2a3-b54c-4b87-815b-55ba8dbbd657 div.sk-estimator input.sk-toggleable__control:checked~label.sk-toggleable__label {background-color: #d4ebff;}#sk-56a5c2a3-b54c-4b87-815b-55ba8dbbd657 div.sk-label input.sk-toggleable__control:checked~label.sk-toggleable__label {background-color: #d4ebff;}#sk-56a5c2a3-b54c-4b87-815b-55ba8dbbd657 input.sk-hidden--visually {border: 0;clip: rect(1px 1px 1px 1px);clip: rect(1px, 1px, 1px, 1px);height: 1px;margin: -1px;overflow: hidden;padding: 0;position: absolute;width: 1px;}#sk-56a5c2a3-b54c-4b87-815b-55ba8dbbd657 div.sk-estimator {font-family: monospace;background-color: #f0f8ff;border: 1px dotted black;border-radius: 0.25em;box-sizing: border-box;margin-bottom: 0.5em;}#sk-56a5c2a3-b54c-4b87-815b-55ba8dbbd657 div.sk-estimator:hover {background-color: #d4ebff;}#sk-56a5c2a3-b54c-4b87-815b-55ba8dbbd657 div.sk-parallel-item::after {content: \"\";width: 100%;border-bottom: 1px solid gray;flex-grow: 1;}#sk-56a5c2a3-b54c-4b87-815b-55ba8dbbd657 div.sk-label:hover label.sk-toggleable__label {background-color: #d4ebff;}#sk-56a5c2a3-b54c-4b87-815b-55ba8dbbd657 div.sk-serial::before {content: \"\";position: absolute;border-left: 1px solid gray;box-sizing: border-box;top: 2em;bottom: 0;left: 50%;}#sk-56a5c2a3-b54c-4b87-815b-55ba8dbbd657 div.sk-serial {display: flex;flex-direction: column;align-items: center;background-color: white;padding-right: 0.2em;padding-left: 0.2em;}#sk-56a5c2a3-b54c-4b87-815b-55ba8dbbd657 div.sk-item {z-index: 1;}#sk-56a5c2a3-b54c-4b87-815b-55ba8dbbd657 div.sk-parallel {display: flex;align-items: stretch;justify-content: center;background-color: white;}#sk-56a5c2a3-b54c-4b87-815b-55ba8dbbd657 div.sk-parallel::before {content: \"\";position: absolute;border-left: 1px solid gray;box-sizing: border-box;top: 2em;bottom: 0;left: 50%;}#sk-56a5c2a3-b54c-4b87-815b-55ba8dbbd657 div.sk-parallel-item {display: flex;flex-direction: column;position: relative;background-color: white;}#sk-56a5c2a3-b54c-4b87-815b-55ba8dbbd657 div.sk-parallel-item:first-child::after {align-self: flex-end;width: 50%;}#sk-56a5c2a3-b54c-4b87-815b-55ba8dbbd657 div.sk-parallel-item:last-child::after {align-self: flex-start;width: 50%;}#sk-56a5c2a3-b54c-4b87-815b-55ba8dbbd657 div.sk-parallel-item:only-child::after {width: 0;}#sk-56a5c2a3-b54c-4b87-815b-55ba8dbbd657 div.sk-dashed-wrapped {border: 1px dashed gray;margin: 0 0.4em 0.5em 0.4em;box-sizing: border-box;padding-bottom: 0.4em;background-color: white;position: relative;}#sk-56a5c2a3-b54c-4b87-815b-55ba8dbbd657 div.sk-label label {font-family: monospace;font-weight: bold;background-color: white;display: inline-block;line-height: 1.2em;}#sk-56a5c2a3-b54c-4b87-815b-55ba8dbbd657 div.sk-label-container {position: relative;z-index: 2;text-align: center;}#sk-56a5c2a3-b54c-4b87-815b-55ba8dbbd657 div.sk-container {display: inline-block;position: relative;}</style><div id=\"sk-56a5c2a3-b54c-4b87-815b-55ba8dbbd657\" class\"sk-top-container\"><div class=\"sk-container\"><div class=\"sk-item sk-dashed-wrapped\"><div class=\"sk-label-container\"><div class=\"sk-label sk-toggleable\"><input class=\"sk-toggleable__control sk-hidden--visually\" id=\"d77d5009-1627-49b3-be05-87fb79ece64e\" type=\"checkbox\" ><label class=\"sk-toggleable__label\" for=\"d77d5009-1627-49b3-be05-87fb79ece64e\">Pipeline</label><div class=\"sk-toggleable__content\"><pre>Pipeline(steps=[('standardscaler', StandardScaler()),\n",
       "                ('logisticregression',\n",
       "                 LogisticRegression(max_iter=500, penalty='none'))])</pre></div></div></div><div class=\"sk-serial\"><div class=\"sk-item\"><div class=\"sk-estimator sk-toggleable\"><input class=\"sk-toggleable__control sk-hidden--visually\" id=\"ceda0bc8-2438-4200-8916-a07f99b38bff\" type=\"checkbox\" ><label class=\"sk-toggleable__label\" for=\"ceda0bc8-2438-4200-8916-a07f99b38bff\">StandardScaler</label><div class=\"sk-toggleable__content\"><pre>StandardScaler()</pre></div></div></div><div class=\"sk-item\"><div class=\"sk-estimator sk-toggleable\"><input class=\"sk-toggleable__control sk-hidden--visually\" id=\"502ac766-1aac-448b-91e0-8b1dfe113d56\" type=\"checkbox\" ><label class=\"sk-toggleable__label\" for=\"502ac766-1aac-448b-91e0-8b1dfe113d56\">LogisticRegression</label><div class=\"sk-toggleable__content\"><pre>LogisticRegression(max_iter=500, penalty='none')</pre></div></div></div></div></div></div></div>"
      ],
      "text/plain": [
       "Pipeline(steps=[('standardscaler', StandardScaler()),\n",
       "                ('logisticregression',\n",
       "                 LogisticRegression(max_iter=500, penalty='none'))])"
      ]
     },
     "execution_count": 41,
     "metadata": {},
     "output_type": "execute_result"
    }
   ],
   "source": [
    "logistic_regression = make_pipeline(\n",
    "    StandardScaler(), LogisticRegression(penalty='none', max_iter=500)\n",
    ")\n",
    "logistic_regression.fit(data_train, target_train)"
   ]
  },
  {
   "cell_type": "code",
   "execution_count": 42,
   "id": "02db51af",
   "metadata": {},
   "outputs": [
    {
     "name": "stdout",
     "output_type": "stream",
     "text": [
      "Train accuracy: 0.7038895859473023\n",
      "Test accuracy: 0.698452530322041\n",
      "Accuracy of dummy classifier: 0.5771643663739021\n"
     ]
    }
   ],
   "source": [
    "train_accuracy = logistic_regression.score(data_train, target_train)\n",
    "print('Train accuracy:', train_accuracy)\n",
    "\n",
    "test_accuracy = logistic_regression.score(data_test, target_test)\n",
    "print('Test accuracy:', test_accuracy)\n",
    "\n",
    "# What about the accuracy of a dummy classifier?\n",
    "dummy = DummyClassifier(strategy='most_frequent')\n",
    "dummy.fit(data_train, target_train)\n",
    "\n",
    "test_accuracy = dummy.score(data_test, target_test)\n",
    "print('Accuracy of dummy classifier:', test_accuracy)"
   ]
  },
  {
   "cell_type": "markdown",
   "id": "5f1b6c0c",
   "metadata": {},
   "source": [
    "So the accuracy for our “simple” linear model is now lower for 3-way classification than for binary classification. But what about the confusion matrix?"
   ]
  },
  {
   "cell_type": "code",
   "execution_count": 43,
   "id": "3df8a100",
   "metadata": {},
   "outputs": [
    {
     "data": {
      "image/png": "[encoded data removed]",
      "text/plain": [
       "<Figure size 432x288 with 2 Axes>"
      ]
     },
     "metadata": {},
     "output_type": "display_data"
    }
   ],
   "source": [
    "ConfusionMatrixDisplay.from_estimator(\n",
    "    logistic_regression, data_test, target_test,\n",
    "    normalize=None, cmap=plt.cm.Blues\n",
    ")\n",
    "plt.grid(False)\n",
    "plt.show()"
   ]
  },
  {
   "cell_type": "markdown",
   "id": "def01a19",
   "metadata": {},
   "source": [
    "We can see what is happening: the model has a hard time predicting “medium” solubility: predictions for both low and high solubility have higher accuracy, but most of the records whose true label is medium, are predicted as either high or low (but not medium).\n",
    "\n",
    "Maybe a linear model is not ideal for this task. Could another type of model perform better?"
   ]
  },
  {
   "cell_type": "markdown",
   "id": "93bf6254",
   "metadata": {},
   "source": [
    "## Using a nearest neighbors model\n",
    "\n",
    "Another category of classification models is that of [nearest neighbors methods](https://scikit-learn.org/stable/modules/neighbors.html#nearest-neighbors-classification). It is a type of **non-parametric learning**, in that it does not attempt to find ideal parameters in an general internal model (like a linear model). Instead, the “training” simply stores a copy of the training data, and classification is done by looking this data up.\n",
    "\n",
    "> _Nonparametric methods are good when you have a lot of data and no prior knowledge, and when you don’t want to worry too much about choosing just the right features._ ([Artificial Intelligence: A Modern Approach](http://aima.cs.berkeley.edu))\n",
    "\n",
    "In neighbors-based methods, classification is computed from a simple majority vote of the nearest neighbors of the point to be predicted. The $k$-nearest neighbors classification ([`KNeighborsClassifier`](https://scikit-learn.org/stable/modules/generated/sklearn.neighbors.KNeighborsClassifier.html#sklearn.neighbors.KNeighborsClassifier)) is the most common technique: for each new point, it will predict based on a fixed number ($k$) of neighbors in the training data."
   ]
  },
  {
   "cell_type": "code",
   "execution_count": 44,
   "id": "0c43f58e",
   "metadata": {},
   "outputs": [],
   "source": [
    "kNN = make_pipeline(\n",
    "    StandardScaler(), KNeighborsClassifier(n_neighbors=5)\n",
    ")"
   ]
  },
  {
   "cell_type": "code",
   "execution_count": 45,
   "id": "eda70581",
   "metadata": {},
   "outputs": [
    {
     "data": {
      "text/html": [
       "<style>#sk-19d982bc-93b5-4c62-9259-c6144baf1ab2 {color: black;background-color: white;}#sk-19d982bc-93b5-4c62-9259-c6144baf1ab2 pre{padding: 0;}#sk-19d982bc-93b5-4c62-9259-c6144baf1ab2 div.sk-toggleable {background-color: white;}#sk-19d982bc-93b5-4c62-9259-c6144baf1ab2 label.sk-toggleable__label {cursor: pointer;display: block;width: 100%;margin-bottom: 0;padding: 0.3em;box-sizing: border-box;text-align: center;}#sk-19d982bc-93b5-4c62-9259-c6144baf1ab2 div.sk-toggleable__content {max-height: 0;max-width: 0;overflow: hidden;text-align: left;background-color: #f0f8ff;}#sk-19d982bc-93b5-4c62-9259-c6144baf1ab2 div.sk-toggleable__content pre {margin: 0.2em;color: black;border-radius: 0.25em;background-color: #f0f8ff;}#sk-19d982bc-93b5-4c62-9259-c6144baf1ab2 input.sk-toggleable__control:checked~div.sk-toggleable__content {max-height: 200px;max-width: 100%;overflow: auto;}#sk-19d982bc-93b5-4c62-9259-c6144baf1ab2 div.sk-estimator input.sk-toggleable__control:checked~label.sk-toggleable__label {background-color: #d4ebff;}#sk-19d982bc-93b5-4c62-9259-c6144baf1ab2 div.sk-label input.sk-toggleable__control:checked~label.sk-toggleable__label {background-color: #d4ebff;}#sk-19d982bc-93b5-4c62-9259-c6144baf1ab2 input.sk-hidden--visually {border: 0;clip: rect(1px 1px 1px 1px);clip: rect(1px, 1px, 1px, 1px);height: 1px;margin: -1px;overflow: hidden;padding: 0;position: absolute;width: 1px;}#sk-19d982bc-93b5-4c62-9259-c6144baf1ab2 div.sk-estimator {font-family: monospace;background-color: #f0f8ff;border: 1px dotted black;border-radius: 0.25em;box-sizing: border-box;margin-bottom: 0.5em;}#sk-19d982bc-93b5-4c62-9259-c6144baf1ab2 div.sk-estimator:hover {background-color: #d4ebff;}#sk-19d982bc-93b5-4c62-9259-c6144baf1ab2 div.sk-parallel-item::after {content: \"\";width: 100%;border-bottom: 1px solid gray;flex-grow: 1;}#sk-19d982bc-93b5-4c62-9259-c6144baf1ab2 div.sk-label:hover label.sk-toggleable__label {background-color: #d4ebff;}#sk-19d982bc-93b5-4c62-9259-c6144baf1ab2 div.sk-serial::before {content: \"\";position: absolute;border-left: 1px solid gray;box-sizing: border-box;top: 2em;bottom: 0;left: 50%;}#sk-19d982bc-93b5-4c62-9259-c6144baf1ab2 div.sk-serial {display: flex;flex-direction: column;align-items: center;background-color: white;padding-right: 0.2em;padding-left: 0.2em;}#sk-19d982bc-93b5-4c62-9259-c6144baf1ab2 div.sk-item {z-index: 1;}#sk-19d982bc-93b5-4c62-9259-c6144baf1ab2 div.sk-parallel {display: flex;align-items: stretch;justify-content: center;background-color: white;}#sk-19d982bc-93b5-4c62-9259-c6144baf1ab2 div.sk-parallel::before {content: \"\";position: absolute;border-left: 1px solid gray;box-sizing: border-box;top: 2em;bottom: 0;left: 50%;}#sk-19d982bc-93b5-4c62-9259-c6144baf1ab2 div.sk-parallel-item {display: flex;flex-direction: column;position: relative;background-color: white;}#sk-19d982bc-93b5-4c62-9259-c6144baf1ab2 div.sk-parallel-item:first-child::after {align-self: flex-end;width: 50%;}#sk-19d982bc-93b5-4c62-9259-c6144baf1ab2 div.sk-parallel-item:last-child::after {align-self: flex-start;width: 50%;}#sk-19d982bc-93b5-4c62-9259-c6144baf1ab2 div.sk-parallel-item:only-child::after {width: 0;}#sk-19d982bc-93b5-4c62-9259-c6144baf1ab2 div.sk-dashed-wrapped {border: 1px dashed gray;margin: 0 0.4em 0.5em 0.4em;box-sizing: border-box;padding-bottom: 0.4em;background-color: white;position: relative;}#sk-19d982bc-93b5-4c62-9259-c6144baf1ab2 div.sk-label label {font-family: monospace;font-weight: bold;background-color: white;display: inline-block;line-height: 1.2em;}#sk-19d982bc-93b5-4c62-9259-c6144baf1ab2 div.sk-label-container {position: relative;z-index: 2;text-align: center;}#sk-19d982bc-93b5-4c62-9259-c6144baf1ab2 div.sk-container {display: inline-block;position: relative;}</style><div id=\"sk-19d982bc-93b5-4c62-9259-c6144baf1ab2\" class\"sk-top-container\"><div class=\"sk-container\"><div class=\"sk-item sk-dashed-wrapped\"><div class=\"sk-label-container\"><div class=\"sk-label sk-toggleable\"><input class=\"sk-toggleable__control sk-hidden--visually\" id=\"99926de2-33cd-40fe-954e-a6f80bbeac7b\" type=\"checkbox\" ><label class=\"sk-toggleable__label\" for=\"99926de2-33cd-40fe-954e-a6f80bbeac7b\">Pipeline</label><div class=\"sk-toggleable__content\"><pre>Pipeline(steps=[('standardscaler', StandardScaler()),\n",
       "                ('kneighborsclassifier', KNeighborsClassifier())])</pre></div></div></div><div class=\"sk-serial\"><div class=\"sk-item\"><div class=\"sk-estimator sk-toggleable\"><input class=\"sk-toggleable__control sk-hidden--visually\" id=\"ee91e27d-5c9d-40b4-9a63-970c47d7c072\" type=\"checkbox\" ><label class=\"sk-toggleable__label\" for=\"ee91e27d-5c9d-40b4-9a63-970c47d7c072\">StandardScaler</label><div class=\"sk-toggleable__content\"><pre>StandardScaler()</pre></div></div></div><div class=\"sk-item\"><div class=\"sk-estimator sk-toggleable\"><input class=\"sk-toggleable__control sk-hidden--visually\" id=\"f4b64382-9d17-44fe-882e-26f1aedbaefa\" type=\"checkbox\" ><label class=\"sk-toggleable__label\" for=\"f4b64382-9d17-44fe-882e-26f1aedbaefa\">KNeighborsClassifier</label><div class=\"sk-toggleable__content\"><pre>KNeighborsClassifier()</pre></div></div></div></div></div></div></div>"
      ],
      "text/plain": [
       "Pipeline(steps=[('standardscaler', StandardScaler()),\n",
       "                ('kneighborsclassifier', KNeighborsClassifier())])"
      ]
     },
     "execution_count": 45,
     "metadata": {},
     "output_type": "execute_result"
    }
   ],
   "source": [
    "kNN.fit(data_train, target_train)"
   ]
  },
  {
   "cell_type": "markdown",
   "id": "93102bf9",
   "metadata": {},
   "source": [
    "We see that, even though the model chosen is very different in nature (kNN instead of logistic regression), the workflow remains the same, and the `scikit-learn` functions are the same:\n",
    "- create a pipeline, combining normalization and a ML model\n",
    "- call the `fit` function on training data\n",
    "- call the `score` function on test data"
   ]
  },
  {
   "cell_type": "code",
   "execution_count": 46,
   "id": "e0dd3e2b",
   "metadata": {},
   "outputs": [
    {
     "name": "stdout",
     "output_type": "stream",
     "text": [
      "Test accuracy: 0.7595148473442075\n"
     ]
    }
   ],
   "source": [
    "test_accuracy = kNN.score(data_test, target_test)\n",
    "print('Test accuracy:', test_accuracy)"
   ]
  },
  {
   "cell_type": "code",
   "execution_count": 47,
   "id": "fb94b5af",
   "metadata": {},
   "outputs": [
    {
     "data": {
      "image/png": "[encoded data removed]",
      "text/plain": [
       "<Figure size 432x288 with 2 Axes>"
      ]
     },
     "metadata": {},
     "output_type": "display_data"
    }
   ],
   "source": [
    "ConfusionMatrixDisplay.from_estimator(\n",
    "    kNN, data_test, target_test,\n",
    "    normalize=None, cmap=plt.cm.Blues\n",
    ")\n",
    "plt.grid(False)\n",
    "plt.show()"
   ]
  },
  {
   "cell_type": "markdown",
   "id": "25e05065",
   "metadata": {},
   "source": [
    "The accuracy is actually well improved! The $k$-nearest neighbors classifier has an accuracy of 76% (up from 70% for the logistic regression). We see in particular that it improved the quality of prediction for the “medium” solubility significantly… although it is still not ideal."
   ]
  },
  {
   "cell_type": "markdown",
   "id": "1ac8fb59",
   "metadata": {},
   "source": [
    "## Going further…\n",
    "\n",
    "Based on the dataset given here, we have introduced classification tasks (both binary and multi-class) and see two algorithms at play. Here are some directions that you might want to explore in the future:\n",
    "\n",
    "- The $k$-nearest neighbors method depends on one crucial hyperparameter: $k$. How does the number of neighbors impact the model? What happens for very small and very large values of $k$? For this data set, what is the value that provides the best accuracy?\n",
    "- Another family of classification algorithms are [decision trees](https://scikit-learn.org/stable/modules/tree.html). They are relatively easy to understand and interpret. Can you train a decision tree for this task? How does the accuracy compare with other models? Does an ensemble method (like a [random forest](https://scikit-learn.org/stable/modules/ensemble.html#forests-of-randomized-trees)) perform better than a single decision tree?\n",
    "- How do the models produced for the “small” (highly accurate) data set and “big” data set compare? Can we make statistical comparisons between the values present in both data sets?\n",
    "- We have set up our problem as a classification task by defining cut-off values of solubility for soluble and insoluble molecules. Could we, as an alternative, use the same solubility data to create a _regression_ task? How would the resulting predictions compare?"
   ]
  },
  {
   "cell_type": "code",
   "execution_count": null,
   "id": "1cf20519",
   "metadata": {},
   "outputs": [],
   "source": []
  }
 ],
 "metadata": {
  "kernelspec": {
   "display_name": "Python 3 (ipykernel)",
   "language": "python",
   "name": "python3"
  },
  "language_info": {
   "codemirror_mode": {
    "name": "ipython",
    "version": 3
   },
   "file_extension": ".py",
   "mimetype": "text/x-python",
   "name": "python",
   "nbconvert_exporter": "python",
   "pygments_lexer": "ipython3",
   "version": "3.9.7"
  }
 },
 "nbformat": 4,
 "nbformat_minor": 5
}
