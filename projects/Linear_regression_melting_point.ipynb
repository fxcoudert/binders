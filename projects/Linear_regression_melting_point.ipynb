{
 "cells": [
  {
   "cell_type": "markdown",
   "id": "dbfb0937",
   "metadata": {},
   "source": [
    "# Prediction of melting point of organic molecules by linear regression\n",
    "\n",
    "We want to create a model that will predict the melting point of organic molecules, based on the 2D molecular structure (what atoms and bonds are present). We will use a linear regression model, which is probably the simplest tool in our machine learning toolbox. The model will be trained on experimental data for melting points of organic molecules."
   ]
  },
  {
   "cell_type": "code",
   "execution_count": 1,
   "id": "91bc8021",
   "metadata": {},
   "outputs": [],
   "source": [
    "# Data handling\n",
    "import pandas as pd\n",
    "import numpy as np\n",
    "\n",
    "# Plotting\n",
    "import matplotlib.pyplot as plt\n",
    "import seaborn as sns\n",
    "sns.set()\n",
    "\n",
    "# Properties of molecules\n",
    "from rdkit import Chem\n",
    "from rdkit.Chem import Descriptors, rdMolDescriptors\n",
    "\n",
    "# Machine learning\n",
    "from sklearn.linear_model import LinearRegression\n",
    "from sklearn.dummy import DummyRegressor\n",
    "from sklearn.metrics import mean_absolute_error, mean_squared_error\n",
    "from sklearn.preprocessing import StandardScaler\n",
    "from sklearn.pipeline import make_pipeline\n",
    "from sklearn import set_config\n",
    "set_config(display='diagram')"
   ]
  },
  {
   "cell_type": "markdown",
   "id": "01d5d408",
   "metadata": {},
   "source": [
    "The data we will be using is from the _Jean-Claude Bradley Double Plus Good (Highly Curated and Validated) Melting Point Dataset_, available at https://doi.org/10.6084/m9.figshare.1031638.v1 \n",
    "\n",
    "It is described as:\n",
    "\n",
    "> 3041 highly curated and validated melting point measurements taken from the Jean-Claude Bradley Open Melting Point Dataset. Values were only kept if there were multiple measurements and the range of values was between 0.01 °C and 5 °C inclusive. `csid` corresponds to Chemspider ID\n",
    "\n",
    "It is available as an Excel file, which is downloaded and loaded into a Pandas dataframe:"
   ]
  },
  {
   "cell_type": "code",
   "execution_count": 2,
   "id": "804ba452",
   "metadata": {},
   "outputs": [],
   "source": [
    "url = 'https://figshare.com/ndownloader/files/1503991'\n",
    "df = pd.read_excel(url)"
   ]
  },
  {
   "cell_type": "markdown",
   "id": "a9cc378d",
   "metadata": {},
   "source": [
    "## Content of the dataset\n",
    "\n",
    "We first examine the content of the data set: how many records (molecules) does it have? What values are present? What is their range?"
   ]
  },
  {
   "cell_type": "code",
   "execution_count": 3,
   "id": "c72b6b8f",
   "metadata": {
    "scrolled": true
   },
   "outputs": [
    {
     "data": {
      "text/html": [
       "<div>\n",
       "<style scoped>\n",
       "    .dataframe tbody tr th:only-of-type {\n",
       "        vertical-align: middle;\n",
       "    }\n",
       "\n",
       "    .dataframe tbody tr th {\n",
       "        vertical-align: top;\n",
       "    }\n",
       "\n",
       "    .dataframe thead th {\n",
       "        text-align: right;\n",
       "    }\n",
       "</style>\n",
       "<table border=\"1\" class=\"dataframe\">\n",
       "  <thead>\n",
       "    <tr style=\"text-align: right;\">\n",
       "      <th></th>\n",
       "      <th>key</th>\n",
       "      <th>name</th>\n",
       "      <th>smiles</th>\n",
       "      <th>mpC</th>\n",
       "      <th>csid</th>\n",
       "      <th>link</th>\n",
       "      <th>source</th>\n",
       "      <th>count</th>\n",
       "      <th>min</th>\n",
       "      <th>max</th>\n",
       "      <th>range</th>\n",
       "    </tr>\n",
       "  </thead>\n",
       "  <tbody>\n",
       "    <tr>\n",
       "      <th>0</th>\n",
       "      <td>27956</td>\n",
       "      <td>cyclobutylmethane</td>\n",
       "      <td>C1(CCC1)C</td>\n",
       "      <td>-161.51</td>\n",
       "      <td>11232</td>\n",
       "      <td>http://pubs.acs.org/doi/abs/10.1021/ja01142a048</td>\n",
       "      <td>Lemaire HP; Livingston RL Journal of the Ameri...</td>\n",
       "      <td>2</td>\n",
       "      <td>-161.51</td>\n",
       "      <td>-161.5</td>\n",
       "      <td>0.01</td>\n",
       "    </tr>\n",
       "    <tr>\n",
       "      <th>1</th>\n",
       "      <td>16005</td>\n",
       "      <td>Nitrogen oxide</td>\n",
       "      <td>[O-][N+]#N</td>\n",
       "      <td>-90.80</td>\n",
       "      <td>923</td>\n",
       "      <td>http://msds.chem.ox.ac.uk/</td>\n",
       "      <td>academic website</td>\n",
       "      <td>2</td>\n",
       "      <td>-90.81</td>\n",
       "      <td>-90.8</td>\n",
       "      <td>0.01</td>\n",
       "    </tr>\n",
       "    <tr>\n",
       "      <th>2</th>\n",
       "      <td>16127</td>\n",
       "      <td>Sulfuryl difluoride</td>\n",
       "      <td>FS(F)(=O)=O</td>\n",
       "      <td>-135.80</td>\n",
       "      <td>16647</td>\n",
       "      <td>http://msds.chem.ox.ac.uk/</td>\n",
       "      <td>academic website</td>\n",
       "      <td>2</td>\n",
       "      <td>-135.82</td>\n",
       "      <td>-135.8</td>\n",
       "      <td>0.02</td>\n",
       "    </tr>\n",
       "    <tr>\n",
       "      <th>3</th>\n",
       "      <td>17138</td>\n",
       "      <td>disopyramide</td>\n",
       "      <td>CC(C)N(CCC(c1ccccn1)(c2ccccc2)C(N)=O)C(C)C</td>\n",
       "      <td>94.80</td>\n",
       "      <td>3002</td>\n",
       "      <td>http://dx.doi.org/10.1021/ci700307p</td>\n",
       "      <td>Hughes LD; Palmer DS; Nigsch F and Mitchell JB...</td>\n",
       "      <td>2</td>\n",
       "      <td>94.75</td>\n",
       "      <td>94.8</td>\n",
       "      <td>0.05</td>\n",
       "    </tr>\n",
       "    <tr>\n",
       "      <th>4</th>\n",
       "      <td>15628</td>\n",
       "      <td>Bromine</td>\n",
       "      <td>BrBr</td>\n",
       "      <td>-7.20</td>\n",
       "      <td>22817</td>\n",
       "      <td>http://msds.chem.ox.ac.uk/</td>\n",
       "      <td>academic website</td>\n",
       "      <td>2</td>\n",
       "      <td>-7.25</td>\n",
       "      <td>-7.2</td>\n",
       "      <td>0.05</td>\n",
       "    </tr>\n",
       "  </tbody>\n",
       "</table>\n",
       "</div>"
      ],
      "text/plain": [
       "     key                 name                                      smiles  \\\n",
       "0  27956    cyclobutylmethane                                   C1(CCC1)C   \n",
       "1  16005       Nitrogen oxide                                  [O-][N+]#N   \n",
       "2  16127  Sulfuryl difluoride                                 FS(F)(=O)=O   \n",
       "3  17138         disopyramide  CC(C)N(CCC(c1ccccn1)(c2ccccc2)C(N)=O)C(C)C   \n",
       "4  15628              Bromine                                        BrBr   \n",
       "\n",
       "      mpC   csid                                             link  \\\n",
       "0 -161.51  11232  http://pubs.acs.org/doi/abs/10.1021/ja01142a048   \n",
       "1  -90.80    923                       http://msds.chem.ox.ac.uk/   \n",
       "2 -135.80  16647                       http://msds.chem.ox.ac.uk/   \n",
       "3   94.80   3002              http://dx.doi.org/10.1021/ci700307p   \n",
       "4   -7.20  22817                       http://msds.chem.ox.ac.uk/   \n",
       "\n",
       "                                              source  count     min    max  \\\n",
       "0  Lemaire HP; Livingston RL Journal of the Ameri...      2 -161.51 -161.5   \n",
       "1                                   academic website      2  -90.81  -90.8   \n",
       "2                                   academic website      2 -135.82 -135.8   \n",
       "3  Hughes LD; Palmer DS; Nigsch F and Mitchell JB...      2   94.75   94.8   \n",
       "4                                   academic website      2   -7.25   -7.2   \n",
       "\n",
       "   range  \n",
       "0   0.01  \n",
       "1   0.01  \n",
       "2   0.02  \n",
       "3   0.05  \n",
       "4   0.05  "
      ]
     },
     "execution_count": 3,
     "metadata": {},
     "output_type": "execute_result"
    }
   ],
   "source": [
    "df.head()"
   ]
  },
  {
   "cell_type": "code",
   "execution_count": 4,
   "id": "db5e018a",
   "metadata": {
    "scrolled": true
   },
   "outputs": [
    {
     "data": {
      "text/html": [
       "<div>\n",
       "<style scoped>\n",
       "    .dataframe tbody tr th:only-of-type {\n",
       "        vertical-align: middle;\n",
       "    }\n",
       "\n",
       "    .dataframe tbody tr th {\n",
       "        vertical-align: top;\n",
       "    }\n",
       "\n",
       "    .dataframe thead th {\n",
       "        text-align: right;\n",
       "    }\n",
       "</style>\n",
       "<table border=\"1\" class=\"dataframe\">\n",
       "  <thead>\n",
       "    <tr style=\"text-align: right;\">\n",
       "      <th></th>\n",
       "      <th>key</th>\n",
       "      <th>mpC</th>\n",
       "      <th>csid</th>\n",
       "      <th>count</th>\n",
       "      <th>min</th>\n",
       "      <th>max</th>\n",
       "      <th>range</th>\n",
       "    </tr>\n",
       "  </thead>\n",
       "  <tbody>\n",
       "    <tr>\n",
       "      <th>count</th>\n",
       "      <td>3041.000000</td>\n",
       "      <td>3041.000000</td>\n",
       "      <td>3.041000e+03</td>\n",
       "      <td>3041.000000</td>\n",
       "      <td>3041.000000</td>\n",
       "      <td>3041.000000</td>\n",
       "      <td>3041.000000</td>\n",
       "    </tr>\n",
       "    <tr>\n",
       "      <th>mean</th>\n",
       "      <td>10771.570865</td>\n",
       "      <td>62.848159</td>\n",
       "      <td>2.027796e+06</td>\n",
       "      <td>2.798422</td>\n",
       "      <td>62.229536</td>\n",
       "      <td>63.879092</td>\n",
       "      <td>1.649556</td>\n",
       "    </tr>\n",
       "    <tr>\n",
       "      <th>std</th>\n",
       "      <td>6875.518120</td>\n",
       "      <td>96.007422</td>\n",
       "      <td>5.474893e+06</td>\n",
       "      <td>1.275456</td>\n",
       "      <td>95.877685</td>\n",
       "      <td>96.229485</td>\n",
       "      <td>1.293567</td>\n",
       "    </tr>\n",
       "    <tr>\n",
       "      <th>min</th>\n",
       "      <td>10.000000</td>\n",
       "      <td>-188.000000</td>\n",
       "      <td>1.800000e+01</td>\n",
       "      <td>2.000000</td>\n",
       "      <td>-188.000000</td>\n",
       "      <td>-187.600000</td>\n",
       "      <td>0.010000</td>\n",
       "    </tr>\n",
       "    <tr>\n",
       "      <th>25%</th>\n",
       "      <td>5148.000000</td>\n",
       "      <td>5.000000</td>\n",
       "      <td>7.634000e+03</td>\n",
       "      <td>2.000000</td>\n",
       "      <td>4.800000</td>\n",
       "      <td>5.600000</td>\n",
       "      <td>0.500000</td>\n",
       "    </tr>\n",
       "    <tr>\n",
       "      <th>50%</th>\n",
       "      <td>13103.000000</td>\n",
       "      <td>64.000000</td>\n",
       "      <td>1.282900e+04</td>\n",
       "      <td>2.000000</td>\n",
       "      <td>62.750000</td>\n",
       "      <td>65.000000</td>\n",
       "      <td>1.000000</td>\n",
       "    </tr>\n",
       "    <tr>\n",
       "      <th>75%</th>\n",
       "      <td>15269.000000</td>\n",
       "      <td>129.500000</td>\n",
       "      <td>6.675900e+04</td>\n",
       "      <td>3.000000</td>\n",
       "      <td>129.000000</td>\n",
       "      <td>130.800000</td>\n",
       "      <td>2.500000</td>\n",
       "    </tr>\n",
       "    <tr>\n",
       "      <th>max</th>\n",
       "      <td>28644.000000</td>\n",
       "      <td>438.000000</td>\n",
       "      <td>2.142902e+07</td>\n",
       "      <td>16.000000</td>\n",
       "      <td>437.300000</td>\n",
       "      <td>440.000000</td>\n",
       "      <td>5.000000</td>\n",
       "    </tr>\n",
       "  </tbody>\n",
       "</table>\n",
       "</div>"
      ],
      "text/plain": [
       "                key          mpC          csid        count          min  \\\n",
       "count   3041.000000  3041.000000  3.041000e+03  3041.000000  3041.000000   \n",
       "mean   10771.570865    62.848159  2.027796e+06     2.798422    62.229536   \n",
       "std     6875.518120    96.007422  5.474893e+06     1.275456    95.877685   \n",
       "min       10.000000  -188.000000  1.800000e+01     2.000000  -188.000000   \n",
       "25%     5148.000000     5.000000  7.634000e+03     2.000000     4.800000   \n",
       "50%    13103.000000    64.000000  1.282900e+04     2.000000    62.750000   \n",
       "75%    15269.000000   129.500000  6.675900e+04     3.000000   129.000000   \n",
       "max    28644.000000   438.000000  2.142902e+07    16.000000   437.300000   \n",
       "\n",
       "               max        range  \n",
       "count  3041.000000  3041.000000  \n",
       "mean     63.879092     1.649556  \n",
       "std      96.229485     1.293567  \n",
       "min    -187.600000     0.010000  \n",
       "25%       5.600000     0.500000  \n",
       "50%      65.000000     1.000000  \n",
       "75%     130.800000     2.500000  \n",
       "max     440.000000     5.000000  "
      ]
     },
     "execution_count": 4,
     "metadata": {},
     "output_type": "execute_result"
    }
   ],
   "source": [
    "df.describe()"
   ]
  },
  {
   "cell_type": "code",
   "execution_count": 5,
   "id": "5851f7e7",
   "metadata": {},
   "outputs": [
    {
     "name": "stdout",
     "output_type": "stream",
     "text": [
      "3041 CSID found, 3041 unique\n",
      "3041 SMILES keys found, 3041 unique\n"
     ]
    }
   ],
   "source": [
    "numCSID = len(df['csid'])\n",
    "numUniqueCSID = len(set(df['csid']))\n",
    "numSMILES = len(df['smiles'])\n",
    "numUniqueSMILES = len(set(df['smiles']))\n",
    "\n",
    "print(f'{numCSID} CSID found, {numUniqueCSID} unique')\n",
    "print(f'{numSMILES} SMILES keys found, {numUniqueSMILES} unique')"
   ]
  },
  {
   "cell_type": "markdown",
   "id": "13a96e6c",
   "metadata": {},
   "source": [
    "There are 3041 records, one of each molecule. All molecules appear to be different, based on ChemSpider ID, and all SMILES strings are unique too.\n",
    "\n",
    "Here are the data present for each molecule:\n",
    "- `key`: identifier of unknow origin\n",
    "- `name`: common name\n",
    "- `smiles`: the molecular structure as [SMILES string](https://en.wikipedia.org/wiki/Simplified_molecular-input_line-entry_system)\n",
    "- `csid`: [ChemSpider](http://www.chemspider.com) identifier\n",
    "- `mpC`: a consensus value of melting point, in °C\n",
    "- `link` and `source`: where that value comes from\n",
    "- `count`: number of melting point measurements used in determining the value\n",
    "- `min` and `max`: minimum and maximum of the melting point values reported\n",
    "- `range = max - min`, accuracy of the melting point"
   ]
  },
  {
   "cell_type": "markdown",
   "id": "4a8fd116",
   "metadata": {},
   "source": [
    "## Generating descriptors\n",
    "\n",
    "We want our model to predict the melting point from the chemical structure of a molecule. In the dataset, this structural information is present in two different ways:\n",
    "- the common name of the molecule\n",
    "- the SMILES representation of its structure\n",
    "\n",
    "The common name may be familiar to many chemists, but it is not easy to parse by a computer program, and some names may be ambiguous. The [SMILES representation](https://en.wikipedia.org/wiki/Simplified_molecular-input_line-entry_system), on the other hand, is designed for the purpose of computer representation, so we will use that.\n",
    "\n",
    "We will not be able to use a SMILES string as input to the linear regression model, however. We need to transform this string representation into a series of numbers, a numerical vector. This process is called **featurization**. There are many ways to featurize molecular structures, including calculation of different types of “fingerprints” of the molecules, in an automated way.\n",
    "\n",
    "We will follow a much simpler approach here, by calculating for each molecule some key numerical characteristics that we _think_ have chemical meaning and could influence the melting point. We are using our chemical insight to choose the set of features relevant for the prediction of melting point. For example, the molar mass is definitely important (heavier molecules melt at higher temperature)."
   ]
  },
  {
   "cell_type": "markdown",
   "id": "245a4754",
   "metadata": {},
   "source": [
    "We'll use the `rdkit` module to perform two tasks: (i) load molecular representatoins from strings; (ii) calculate the descriptors we want. First, let's see it in action on one of the molecules in the dataset:"
   ]
  },
  {
   "cell_type": "code",
   "execution_count": 6,
   "id": "282b1dc5",
   "metadata": {},
   "outputs": [
    {
     "name": "stdout",
     "output_type": "stream",
     "text": [
      "Molecular name: 2-(3-chlorophenoxy)propionic acid\n",
      "SMILES: CC(C(=O)O)Oc1cccc(c1)Cl\n"
     ]
    },
    {
     "data": {
      "image/png": "[encoded data removed]",
      "text/plain": [
       "<rdkit.Chem.rdchem.Mol at 0x18ad6e460>"
      ]
     },
     "execution_count": 6,
     "metadata": {},
     "output_type": "execute_result"
    }
   ],
   "source": [
    "print('Molecular name:', df['name'][1901])\n",
    "print('SMILES:', df['smiles'][1901])\n",
    "Chem.MolFromSmiles(df['smiles'][1901])"
   ]
  },
  {
   "cell_type": "markdown",
   "id": "f900b6af",
   "metadata": {},
   "source": [
    "`rdkit` is able to load the 2D representation of the molecular structure from the SMILES representation, and display it nicely in our notebook. We can also calculate some properties:"
   ]
  },
  {
   "cell_type": "code",
   "execution_count": 7,
   "id": "4597edf8",
   "metadata": {},
   "outputs": [
    {
     "name": "stdout",
     "output_type": "stream",
     "text": [
      "Number of atoms: 13\n",
      "Molar mass: 200.62099999999998\n",
      "Number of H-bond acceptors: 2\n",
      "Number of H-bond donors: 1\n",
      "Number of aromatic rings: 1\n"
     ]
    }
   ],
   "source": [
    "m = Chem.MolFromSmiles(df['smiles'][1901])\n",
    "print('Number of atoms:', len(m.GetAtoms()))\n",
    "print('Molar mass:', Descriptors.MolWt(m))\n",
    "print('Number of H-bond acceptors:', Descriptors.NumHAcceptors(m))\n",
    "print('Number of H-bond donors:', Descriptors.NumHDonors(m))\n",
    "print('Number of aromatic rings:', rdMolDescriptors.CalcNumAromaticRings(m))"
   ]
  },
  {
   "cell_type": "markdown",
   "id": "8a09220d",
   "metadata": {},
   "source": [
    "We create a function `calcDescriptors` that will compute, for a given molecule, the four descriptors listed above. This function will be applied to all rows of the data set. We make a special case (return zeros) if the parsing of the SMILES string failed."
   ]
  },
  {
   "cell_type": "code",
   "execution_count": 8,
   "id": "725c1cbb",
   "metadata": {},
   "outputs": [],
   "source": [
    "def calcDescriptors(row):\n",
    "    m = Chem.MolFromSmiles(row['smiles'])\n",
    "    if m is None:\n",
    "        # Could not create from SMILES\n",
    "        return [0, 0, 0, 0]\n",
    "    return [Descriptors.MolWt(m), Descriptors.NumHDonors(m), Descriptors.NumHAcceptors(m), rdMolDescriptors.CalcNumAromaticRings(m)]"
   ]
  },
  {
   "cell_type": "code",
   "execution_count": 9,
   "id": "b0aaaa21",
   "metadata": {},
   "outputs": [
    {
     "data": {
      "text/html": [
       "<div>\n",
       "<style scoped>\n",
       "    .dataframe tbody tr th:only-of-type {\n",
       "        vertical-align: middle;\n",
       "    }\n",
       "\n",
       "    .dataframe tbody tr th {\n",
       "        vertical-align: top;\n",
       "    }\n",
       "\n",
       "    .dataframe thead th {\n",
       "        text-align: right;\n",
       "    }\n",
       "</style>\n",
       "<table border=\"1\" class=\"dataframe\">\n",
       "  <thead>\n",
       "    <tr style=\"text-align: right;\">\n",
       "      <th></th>\n",
       "      <th>0</th>\n",
       "      <th>1</th>\n",
       "      <th>2</th>\n",
       "      <th>3</th>\n",
       "    </tr>\n",
       "  </thead>\n",
       "  <tbody>\n",
       "    <tr>\n",
       "      <th>0</th>\n",
       "      <td>70.135</td>\n",
       "      <td>0.0</td>\n",
       "      <td>0.0</td>\n",
       "      <td>0.0</td>\n",
       "    </tr>\n",
       "    <tr>\n",
       "      <th>1</th>\n",
       "      <td>44.013</td>\n",
       "      <td>0.0</td>\n",
       "      <td>2.0</td>\n",
       "      <td>0.0</td>\n",
       "    </tr>\n",
       "    <tr>\n",
       "      <th>2</th>\n",
       "      <td>102.061</td>\n",
       "      <td>0.0</td>\n",
       "      <td>2.0</td>\n",
       "      <td>0.0</td>\n",
       "    </tr>\n",
       "    <tr>\n",
       "      <th>3</th>\n",
       "      <td>339.483</td>\n",
       "      <td>1.0</td>\n",
       "      <td>3.0</td>\n",
       "      <td>2.0</td>\n",
       "    </tr>\n",
       "    <tr>\n",
       "      <th>4</th>\n",
       "      <td>159.808</td>\n",
       "      <td>0.0</td>\n",
       "      <td>0.0</td>\n",
       "      <td>0.0</td>\n",
       "    </tr>\n",
       "  </tbody>\n",
       "</table>\n",
       "</div>"
      ],
      "text/plain": [
       "         0    1    2    3\n",
       "0   70.135  0.0  0.0  0.0\n",
       "1   44.013  0.0  2.0  0.0\n",
       "2  102.061  0.0  2.0  0.0\n",
       "3  339.483  1.0  3.0  2.0\n",
       "4  159.808  0.0  0.0  0.0"
      ]
     },
     "execution_count": 9,
     "metadata": {},
     "output_type": "execute_result"
    }
   ],
   "source": [
    "df.head().apply(calcDescriptors, axis='columns', result_type='expand')"
   ]
  },
  {
   "cell_type": "markdown",
   "id": "02d1de83",
   "metadata": {},
   "source": [
    "We compute the descriptors for the first 5 molecules in the dataset, using `df.head()`, and it appears to be working well. So now we apply that function to the whole data set, adding the descriptors as four new columns:"
   ]
  },
  {
   "cell_type": "code",
   "execution_count": 10,
   "id": "d9e6f67b",
   "metadata": {},
   "outputs": [
    {
     "name": "stderr",
     "output_type": "stream",
     "text": [
      "RDKit ERROR: [13:00:12] Can't kekulize mol.  Unkekulized atoms: 0 1 2 3 4\n",
      "[13:00:12] Can't kekulize mol.  Unkekulized atoms: 0 1 2 3 4\n",
      "\n",
      "RDKit ERROR: \n",
      "RDKit ERROR: [13:00:12] Can't kekulize mol.  Unkekulized atoms: 2 3 4 5 6\n",
      "RDKit ERROR: \n",
      "[13:00:12] Can't kekulize mol.  Unkekulized atoms: 2 3 4 5 6\n",
      "\n",
      "RDKit ERROR: [13:00:12] Can't kekulize mol.  Unkekulized atoms: 24 25 26 27 28 31 32 33 34\n",
      "[13:00:12] Can't kekulize mol.  Unkekulized atoms: 24 25 26 27 28 31 32 33 34\n",
      "\n",
      "RDKit ERROR: \n",
      "RDKit ERROR: [13:00:12] Can't kekulize mol.  Unkekulized atoms: 0 1 2 3 4\n",
      "[13:00:12] Can't kekulize mol.  Unkekulized atoms: 0 1 2 3 4\n",
      "\n",
      "RDKit ERROR: \n",
      "RDKit ERROR: [13:00:12] Can't kekulize mol.  Unkekulized atoms: 0 1 2 3 4 5 6 7 8\n",
      "RDKit ERROR: \n",
      "[13:00:12] Can't kekulize mol.  Unkekulized atoms: 0 1 2 3 4 5 6 7 8\n",
      "\n",
      "RDKit ERROR: [13:00:12] Can't kekulize mol.  Unkekulized atoms: 1 2 3 4 5 6 7 8 9\n",
      "RDKit ERROR: \n",
      "[13:00:12] Can't kekulize mol.  Unkekulized atoms: 1 2 3 4 5 6 7 8 9\n",
      "\n",
      "RDKit ERROR: [13:00:12] Can't kekulize mol.  Unkekulized atoms: 16 17 18 19 20 21 22 23 24\n",
      "[13:00:12] Can't kekulize mol.  Unkekulized atoms: 16 17 18 19 20 21 22 23 24\n",
      "\n",
      "RDKit ERROR: \n",
      "RDKit ERROR: [13:00:12] Can't kekulize mol.  Unkekulized atoms: 3 4 5 6 7 8 9 10 11\n",
      "[13:00:12] Can't kekulize mol.  Unkekulized atoms: 3 4 5 6 7 8 9 10 11\n",
      "\n",
      "RDKit ERROR: \n",
      "RDKit ERROR: [13:00:12] Can't kekulize mol.  Unkekulized atoms: 3 4 5 6 8\n",
      "[13:00:12] Can't kekulize mol.  Unkekulized atoms: 3 4 5 6 8\n",
      "\n",
      "RDKit ERROR: \n",
      "RDKit ERROR: [13:00:12] Can't kekulize mol.  Unkekulized atoms: 0 1 2 3 4 5 6 7 8\n",
      "[13:00:12] Can't kekulize mol.  Unkekulized atoms: 0 1 2 3 4 5 6 7 8\n",
      "\n",
      "RDKit ERROR: \n",
      "RDKit ERROR: [13:00:13] Can't kekulize mol.  Unkekulized atoms: 1 2 3 4 5 6 7 8 9\n",
      "[13:00:13] Can't kekulize mol.  Unkekulized atoms: 1 2 3 4 5 6 7 8 9\n",
      "\n",
      "RDKit ERROR: \n",
      "RDKit ERROR: [13:00:13] Can't kekulize mol.  Unkekulized atoms: 0 1 2 3 4 5 6 7 8\n",
      "[13:00:13] Can't kekulize mol.  Unkekulized atoms: 0 1 2 3 4 5 6 7 8\n",
      "\n",
      "RDKit ERROR: \n",
      "RDKit ERROR: [13:00:13] Can't kekulize mol.  Unkekulized atoms: 0 1 2 3 12 13 14 15 16\n",
      "[13:00:13] Can't kekulize mol.  Unkekulized atoms: 0 1 2 3 12 13 14 15 16\n",
      "\n",
      "RDKit ERROR: \n",
      "[13:00:13] Can't kekulize mol.  Unkekulized atoms: 0 1 2 3 4 5 6 7 8\n",
      "\n",
      "RDKit ERROR: [13:00:13] Can't kekulize mol.  Unkekulized atoms: 0 1 2 3 4 5 6 7 8\n",
      "RDKit ERROR: \n",
      "RDKit ERROR: [13:00:13] Can't kekulize mol.  Unkekulized atoms: 3 4 5 6 7\n",
      "[13:00:13] Can't kekulize mol.  Unkekulized atoms: 3 4 5 6 7\n",
      "\n",
      "RDKit ERROR: \n",
      "RDKit ERROR: [13:00:13] Can't kekulize mol.  Unkekulized atoms: 1 2 3 4 5 6 7 8 9\n",
      "RDKit ERROR: \n",
      "[13:00:13] Can't kekulize mol.  Unkekulized atoms: 1 2 3 4 5 6 7 8 9\n",
      "\n"
     ]
    }
   ],
   "source": [
    "df[['mass', 'hDonors', 'hAcceptors', 'aromaticRings']] = df.apply(calcDescriptors, axis='columns', result_type='expand')"
   ]
  },
  {
   "cell_type": "markdown",
   "id": "167b18f5",
   "metadata": {},
   "source": [
    "## Curation of data\n",
    "\n",
    "😭 We are seeing some RDKit errors in the output. These messages (`Can't kekulize mol.  Unkekulized atoms`) are related to the reading of SMILES strings for aromatic systems. How many errors exactly? Let us see how many descriptors have a zero for molar mass (which should never happen):"
   ]
  },
  {
   "cell_type": "code",
   "execution_count": 11,
   "id": "a905c97b",
   "metadata": {},
   "outputs": [
    {
     "data": {
      "text/plain": [
       "16"
      ]
     },
     "execution_count": 11,
     "metadata": {},
     "output_type": "execute_result"
    }
   ],
   "source": [
    "sum(df['mass'] == 0)"
   ]
  },
  {
   "cell_type": "markdown",
   "id": "32f3be33",
   "metadata": {},
   "source": [
    "So that's 16 molecules (out of 3041) that couldn't be properly generated from the SMILES string. We can have a look at them:"
   ]
  },
  {
   "cell_type": "code",
   "execution_count": 12,
   "id": "e5090f8d",
   "metadata": {},
   "outputs": [
    {
     "data": {
      "text/html": [
       "<div>\n",
       "<style scoped>\n",
       "    .dataframe tbody tr th:only-of-type {\n",
       "        vertical-align: middle;\n",
       "    }\n",
       "\n",
       "    .dataframe tbody tr th {\n",
       "        vertical-align: top;\n",
       "    }\n",
       "\n",
       "    .dataframe thead th {\n",
       "        text-align: right;\n",
       "    }\n",
       "</style>\n",
       "<table border=\"1\" class=\"dataframe\">\n",
       "  <thead>\n",
       "    <tr style=\"text-align: right;\">\n",
       "      <th></th>\n",
       "      <th>key</th>\n",
       "      <th>name</th>\n",
       "      <th>smiles</th>\n",
       "      <th>mpC</th>\n",
       "      <th>csid</th>\n",
       "      <th>link</th>\n",
       "      <th>source</th>\n",
       "      <th>count</th>\n",
       "      <th>min</th>\n",
       "      <th>max</th>\n",
       "      <th>range</th>\n",
       "      <th>mass</th>\n",
       "      <th>hDonors</th>\n",
       "      <th>hAcceptors</th>\n",
       "      <th>aromaticRings</th>\n",
       "    </tr>\n",
       "  </thead>\n",
       "  <tbody>\n",
       "    <tr>\n",
       "      <th>308</th>\n",
       "      <td>15039</td>\n",
       "      <td>1H-Pyrrole</td>\n",
       "      <td>c1cccn1</td>\n",
       "      <td>-23.0</td>\n",
       "      <td>7736</td>\n",
       "      <td>http://msds.chem.ox.ac.uk/</td>\n",
       "      <td>academic website</td>\n",
       "      <td>2</td>\n",
       "      <td>-23.4</td>\n",
       "      <td>-23.0</td>\n",
       "      <td>0.4</td>\n",
       "      <td>0.0</td>\n",
       "      <td>0.0</td>\n",
       "      <td>0.0</td>\n",
       "      <td>0.0</td>\n",
       "    </tr>\n",
       "    <tr>\n",
       "      <th>370</th>\n",
       "      <td>17145</td>\n",
       "      <td>fludioxonil</td>\n",
       "      <td>N#Cc3cncc3c1cccc2OC(F)(F)Oc12</td>\n",
       "      <td>199.4</td>\n",
       "      <td>77916</td>\n",
       "      <td>http://dx.doi.org/10.1021/ci700307p</td>\n",
       "      <td>Hughes LD; Palmer DS; Nigsch F and Mitchell JB...</td>\n",
       "      <td>2</td>\n",
       "      <td>199.4</td>\n",
       "      <td>199.8</td>\n",
       "      <td>0.4</td>\n",
       "      <td>0.0</td>\n",
       "      <td>0.0</td>\n",
       "      <td>0.0</td>\n",
       "      <td>0.0</td>\n",
       "    </tr>\n",
       "    <tr>\n",
       "      <th>662</th>\n",
       "      <td>15899</td>\n",
       "      <td>Methyl (3beta,16beta,17alpha,18beta,20alpha)-1...</td>\n",
       "      <td>COc1cc(cc(OC)c1OC)/C=C/C(=O)O[C@@H]3C[C@@H]4CN...</td>\n",
       "      <td>238.0</td>\n",
       "      <td>4444446</td>\n",
       "      <td>http://msds.chem.ox.ac.uk/</td>\n",
       "      <td>academic website</td>\n",
       "      <td>2</td>\n",
       "      <td>238.0</td>\n",
       "      <td>238.5</td>\n",
       "      <td>0.5</td>\n",
       "      <td>0.0</td>\n",
       "      <td>0.0</td>\n",
       "      <td>0.0</td>\n",
       "      <td>0.0</td>\n",
       "    </tr>\n",
       "    <tr>\n",
       "      <th>697</th>\n",
       "      <td>15035</td>\n",
       "      <td>1H-Imidazole</td>\n",
       "      <td>c1cncn1</td>\n",
       "      <td>90.0</td>\n",
       "      <td>773</td>\n",
       "      <td>http://msds.chem.ox.ac.uk/</td>\n",
       "      <td>academic website</td>\n",
       "      <td>3</td>\n",
       "      <td>90.0</td>\n",
       "      <td>90.5</td>\n",
       "      <td>0.5</td>\n",
       "      <td>0.0</td>\n",
       "      <td>0.0</td>\n",
       "      <td>0.0</td>\n",
       "      <td>0.0</td>\n",
       "    </tr>\n",
       "    <tr>\n",
       "      <th>698</th>\n",
       "      <td>15036</td>\n",
       "      <td>1H-Indole</td>\n",
       "      <td>c1cccc2nccc12</td>\n",
       "      <td>52.0</td>\n",
       "      <td>776</td>\n",
       "      <td>http://msds.chem.ox.ac.uk/</td>\n",
       "      <td>academic website</td>\n",
       "      <td>3</td>\n",
       "      <td>52.0</td>\n",
       "      <td>52.5</td>\n",
       "      <td>0.5</td>\n",
       "      <td>0.0</td>\n",
       "      <td>0.0</td>\n",
       "      <td>0.0</td>\n",
       "      <td>0.0</td>\n",
       "    </tr>\n",
       "    <tr>\n",
       "      <th>728</th>\n",
       "      <td>15521</td>\n",
       "      <td>5-Methyl-1H-benzotriazole</td>\n",
       "      <td>Cc1cc2nnnc2cc1</td>\n",
       "      <td>81.5</td>\n",
       "      <td>8381</td>\n",
       "      <td>http://msds.chem.ox.ac.uk/</td>\n",
       "      <td>academic website</td>\n",
       "      <td>3</td>\n",
       "      <td>81.0</td>\n",
       "      <td>81.5</td>\n",
       "      <td>0.5</td>\n",
       "      <td>0.0</td>\n",
       "      <td>0.0</td>\n",
       "      <td>0.0</td>\n",
       "      <td>0.0</td>\n",
       "    </tr>\n",
       "    <tr>\n",
       "      <th>933</th>\n",
       "      <td>14777</td>\n",
       "      <td>(2'beta)-22-Oxovincaleukoblastine</td>\n",
       "      <td>O=C(OC)[C@@]2(C[C@H]4C[C@@](O)(CC)C[N@@](CCc1c...</td>\n",
       "      <td>219.0</td>\n",
       "      <td>5758</td>\n",
       "      <td>http://msds.chem.ox.ac.uk/</td>\n",
       "      <td>academic website</td>\n",
       "      <td>2</td>\n",
       "      <td>219.0</td>\n",
       "      <td>220.0</td>\n",
       "      <td>1.0</td>\n",
       "      <td>0.0</td>\n",
       "      <td>0.0</td>\n",
       "      <td>0.0</td>\n",
       "      <td>0.0</td>\n",
       "    </tr>\n",
       "    <tr>\n",
       "      <th>1305</th>\n",
       "      <td>15534</td>\n",
       "      <td>6-Nitro-1H-benzimidazole</td>\n",
       "      <td>[O-][N+](=O)c1ccc2ncnc2c1</td>\n",
       "      <td>208.0</td>\n",
       "      <td>6927</td>\n",
       "      <td>http://msds.chem.ox.ac.uk/</td>\n",
       "      <td>academic website</td>\n",
       "      <td>3</td>\n",
       "      <td>208.0</td>\n",
       "      <td>209.0</td>\n",
       "      <td>1.0</td>\n",
       "      <td>0.0</td>\n",
       "      <td>0.0</td>\n",
       "      <td>0.0</td>\n",
       "      <td>0.0</td>\n",
       "    </tr>\n",
       "    <tr>\n",
       "      <th>1364</th>\n",
       "      <td>15284</td>\n",
       "      <td>2-Methyl-4-nitro-1H-imidazole</td>\n",
       "      <td>[O-][N+](=O)c1cnc(C)n1</td>\n",
       "      <td>253.0</td>\n",
       "      <td>12236</td>\n",
       "      <td>http://msds.chem.ox.ac.uk/</td>\n",
       "      <td>academic website</td>\n",
       "      <td>3</td>\n",
       "      <td>252.0</td>\n",
       "      <td>253.0</td>\n",
       "      <td>1.0</td>\n",
       "      <td>0.0</td>\n",
       "      <td>0.0</td>\n",
       "      <td>0.0</td>\n",
       "      <td>0.0</td>\n",
       "    </tr>\n",
       "    <tr>\n",
       "      <th>1820</th>\n",
       "      <td>15031</td>\n",
       "      <td>1H-Benzimidazole</td>\n",
       "      <td>c1cccc2ncnc12</td>\n",
       "      <td>171.0</td>\n",
       "      <td>5593</td>\n",
       "      <td>http://msds.chem.ox.ac.uk/</td>\n",
       "      <td>academic website</td>\n",
       "      <td>4</td>\n",
       "      <td>170.5</td>\n",
       "      <td>172.0</td>\n",
       "      <td>1.5</td>\n",
       "      <td>0.0</td>\n",
       "      <td>0.0</td>\n",
       "      <td>0.0</td>\n",
       "      <td>0.0</td>\n",
       "    </tr>\n",
       "    <tr>\n",
       "      <th>2335</th>\n",
       "      <td>15383</td>\n",
       "      <td>3-Methyl-1H-indole</td>\n",
       "      <td>Cc2cnc1ccccc12</td>\n",
       "      <td>95.0</td>\n",
       "      <td>6480</td>\n",
       "      <td>http://msds.chem.ox.ac.uk/</td>\n",
       "      <td>academic website</td>\n",
       "      <td>3</td>\n",
       "      <td>95.0</td>\n",
       "      <td>97.5</td>\n",
       "      <td>2.5</td>\n",
       "      <td>0.0</td>\n",
       "      <td>0.0</td>\n",
       "      <td>0.0</td>\n",
       "      <td>0.0</td>\n",
       "    </tr>\n",
       "    <tr>\n",
       "      <th>2516</th>\n",
       "      <td>15034</td>\n",
       "      <td>1H-Benzotriazole</td>\n",
       "      <td>c1cccc2nnnc12</td>\n",
       "      <td>97.0</td>\n",
       "      <td>6950</td>\n",
       "      <td>http://msds.chem.ox.ac.uk/</td>\n",
       "      <td>academic website</td>\n",
       "      <td>3</td>\n",
       "      <td>97.0</td>\n",
       "      <td>100.0</td>\n",
       "      <td>3.0</td>\n",
       "      <td>0.0</td>\n",
       "      <td>0.0</td>\n",
       "      <td>0.0</td>\n",
       "      <td>0.0</td>\n",
       "    </tr>\n",
       "    <tr>\n",
       "      <th>2686</th>\n",
       "      <td>15984</td>\n",
       "      <td>N-Benzyl-9H-purin-6-amine</td>\n",
       "      <td>n2cnc(NCc1ccccc1)c3ncnc23</td>\n",
       "      <td>231.0</td>\n",
       "      <td>56177</td>\n",
       "      <td>http://msds.chem.ox.ac.uk/</td>\n",
       "      <td>academic website</td>\n",
       "      <td>3</td>\n",
       "      <td>231.0</td>\n",
       "      <td>234.5</td>\n",
       "      <td>3.5</td>\n",
       "      <td>0.0</td>\n",
       "      <td>0.0</td>\n",
       "      <td>0.0</td>\n",
       "      <td>0.0</td>\n",
       "    </tr>\n",
       "    <tr>\n",
       "      <th>2916</th>\n",
       "      <td>15083</td>\n",
       "      <td>2-(1,3-Thiazol-4-yl)-1H-benzimidazole</td>\n",
       "      <td>n1c3ccccc3nc1c2cscn2</td>\n",
       "      <td>304.5</td>\n",
       "      <td>5237</td>\n",
       "      <td>http://msds.chem.ox.ac.uk/</td>\n",
       "      <td>academic website</td>\n",
       "      <td>3</td>\n",
       "      <td>300.0</td>\n",
       "      <td>304.5</td>\n",
       "      <td>4.5</td>\n",
       "      <td>0.0</td>\n",
       "      <td>0.0</td>\n",
       "      <td>0.0</td>\n",
       "      <td>0.0</td>\n",
       "    </tr>\n",
       "    <tr>\n",
       "      <th>2944</th>\n",
       "      <td>16550</td>\n",
       "      <td>L-Histidine</td>\n",
       "      <td>N[C@@H](Cc1cncn1)C(=O)O</td>\n",
       "      <td>282.0</td>\n",
       "      <td>6038</td>\n",
       "      <td>http://www.drugbank.ca/drugs/DB00117</td>\n",
       "      <td>DrugBank</td>\n",
       "      <td>2</td>\n",
       "      <td>282.0</td>\n",
       "      <td>287.0</td>\n",
       "      <td>5.0</td>\n",
       "      <td>0.0</td>\n",
       "      <td>0.0</td>\n",
       "      <td>0.0</td>\n",
       "      <td>0.0</td>\n",
       "    </tr>\n",
       "    <tr>\n",
       "      <th>3018</th>\n",
       "      <td>15032</td>\n",
       "      <td>1H-Benzimidazole-2-thiol</td>\n",
       "      <td>Sc1nc2ccccc2n1</td>\n",
       "      <td>303.0</td>\n",
       "      <td>616466</td>\n",
       "      <td>http://msds.chem.ox.ac.uk/</td>\n",
       "      <td>academic website</td>\n",
       "      <td>3</td>\n",
       "      <td>298.0</td>\n",
       "      <td>303.0</td>\n",
       "      <td>5.0</td>\n",
       "      <td>0.0</td>\n",
       "      <td>0.0</td>\n",
       "      <td>0.0</td>\n",
       "      <td>0.0</td>\n",
       "    </tr>\n",
       "  </tbody>\n",
       "</table>\n",
       "</div>"
      ],
      "text/plain": [
       "        key                                               name  \\\n",
       "308   15039                                         1H-Pyrrole   \n",
       "370   17145                                        fludioxonil   \n",
       "662   15899  Methyl (3beta,16beta,17alpha,18beta,20alpha)-1...   \n",
       "697   15035                                       1H-Imidazole   \n",
       "698   15036                                          1H-Indole   \n",
       "728   15521                          5-Methyl-1H-benzotriazole   \n",
       "933   14777                  (2'beta)-22-Oxovincaleukoblastine   \n",
       "1305  15534                           6-Nitro-1H-benzimidazole   \n",
       "1364  15284                      2-Methyl-4-nitro-1H-imidazole   \n",
       "1820  15031                                   1H-Benzimidazole   \n",
       "2335  15383                                 3-Methyl-1H-indole   \n",
       "2516  15034                                   1H-Benzotriazole   \n",
       "2686  15984                          N-Benzyl-9H-purin-6-amine   \n",
       "2916  15083              2-(1,3-Thiazol-4-yl)-1H-benzimidazole   \n",
       "2944  16550                                        L-Histidine   \n",
       "3018  15032                           1H-Benzimidazole-2-thiol   \n",
       "\n",
       "                                                 smiles    mpC     csid  \\\n",
       "308                                             c1cccn1  -23.0     7736   \n",
       "370                       N#Cc3cncc3c1cccc2OC(F)(F)Oc12  199.4    77916   \n",
       "662   COc1cc(cc(OC)c1OC)/C=C/C(=O)O[C@@H]3C[C@@H]4CN...  238.0  4444446   \n",
       "697                                             c1cncn1   90.0      773   \n",
       "698                                       c1cccc2nccc12   52.0      776   \n",
       "728                                      Cc1cc2nnnc2cc1   81.5     8381   \n",
       "933   O=C(OC)[C@@]2(C[C@H]4C[C@@](O)(CC)C[N@@](CCc1c...  219.0     5758   \n",
       "1305                          [O-][N+](=O)c1ccc2ncnc2c1  208.0     6927   \n",
       "1364                             [O-][N+](=O)c1cnc(C)n1  253.0    12236   \n",
       "1820                                      c1cccc2ncnc12  171.0     5593   \n",
       "2335                                     Cc2cnc1ccccc12   95.0     6480   \n",
       "2516                                      c1cccc2nnnc12   97.0     6950   \n",
       "2686                          n2cnc(NCc1ccccc1)c3ncnc23  231.0    56177   \n",
       "2916                               n1c3ccccc3nc1c2cscn2  304.5     5237   \n",
       "2944                            N[C@@H](Cc1cncn1)C(=O)O  282.0     6038   \n",
       "3018                                     Sc1nc2ccccc2n1  303.0   616466   \n",
       "\n",
       "                                      link  \\\n",
       "308             http://msds.chem.ox.ac.uk/   \n",
       "370    http://dx.doi.org/10.1021/ci700307p   \n",
       "662             http://msds.chem.ox.ac.uk/   \n",
       "697             http://msds.chem.ox.ac.uk/   \n",
       "698             http://msds.chem.ox.ac.uk/   \n",
       "728             http://msds.chem.ox.ac.uk/   \n",
       "933             http://msds.chem.ox.ac.uk/   \n",
       "1305            http://msds.chem.ox.ac.uk/   \n",
       "1364            http://msds.chem.ox.ac.uk/   \n",
       "1820            http://msds.chem.ox.ac.uk/   \n",
       "2335            http://msds.chem.ox.ac.uk/   \n",
       "2516            http://msds.chem.ox.ac.uk/   \n",
       "2686            http://msds.chem.ox.ac.uk/   \n",
       "2916            http://msds.chem.ox.ac.uk/   \n",
       "2944  http://www.drugbank.ca/drugs/DB00117   \n",
       "3018            http://msds.chem.ox.ac.uk/   \n",
       "\n",
       "                                                 source  count    min    max  \\\n",
       "308                                    academic website      2  -23.4  -23.0   \n",
       "370   Hughes LD; Palmer DS; Nigsch F and Mitchell JB...      2  199.4  199.8   \n",
       "662                                    academic website      2  238.0  238.5   \n",
       "697                                    academic website      3   90.0   90.5   \n",
       "698                                    academic website      3   52.0   52.5   \n",
       "728                                    academic website      3   81.0   81.5   \n",
       "933                                    academic website      2  219.0  220.0   \n",
       "1305                                   academic website      3  208.0  209.0   \n",
       "1364                                   academic website      3  252.0  253.0   \n",
       "1820                                   academic website      4  170.5  172.0   \n",
       "2335                                   academic website      3   95.0   97.5   \n",
       "2516                                   academic website      3   97.0  100.0   \n",
       "2686                                   academic website      3  231.0  234.5   \n",
       "2916                                   academic website      3  300.0  304.5   \n",
       "2944                                           DrugBank      2  282.0  287.0   \n",
       "3018                                   academic website      3  298.0  303.0   \n",
       "\n",
       "      range  mass  hDonors  hAcceptors  aromaticRings  \n",
       "308     0.4   0.0      0.0         0.0            0.0  \n",
       "370     0.4   0.0      0.0         0.0            0.0  \n",
       "662     0.5   0.0      0.0         0.0            0.0  \n",
       "697     0.5   0.0      0.0         0.0            0.0  \n",
       "698     0.5   0.0      0.0         0.0            0.0  \n",
       "728     0.5   0.0      0.0         0.0            0.0  \n",
       "933     1.0   0.0      0.0         0.0            0.0  \n",
       "1305    1.0   0.0      0.0         0.0            0.0  \n",
       "1364    1.0   0.0      0.0         0.0            0.0  \n",
       "1820    1.5   0.0      0.0         0.0            0.0  \n",
       "2335    2.5   0.0      0.0         0.0            0.0  \n",
       "2516    3.0   0.0      0.0         0.0            0.0  \n",
       "2686    3.5   0.0      0.0         0.0            0.0  \n",
       "2916    4.5   0.0      0.0         0.0            0.0  \n",
       "2944    5.0   0.0      0.0         0.0            0.0  \n",
       "3018    5.0   0.0      0.0         0.0            0.0  "
      ]
     },
     "execution_count": 12,
     "metadata": {},
     "output_type": "execute_result"
    }
   ],
   "source": [
    "df[df['mass'] == 0]"
   ]
  },
  {
   "cell_type": "markdown",
   "id": "ed453c47",
   "metadata": {},
   "source": [
    "All these molecules have an aromatic part, with nitrogen atom in the aromatic ring, and `rdkit` does not handle their SMILES strings. The simplest is 1H-indole:"
   ]
  },
  {
   "cell_type": "code",
   "execution_count": 13,
   "id": "5498a590",
   "metadata": {},
   "outputs": [
    {
     "name": "stderr",
     "output_type": "stream",
     "text": [
      "RDKit ERROR: [13:00:13] Can't kekulize mol.  Unkekulized atoms: 0 1 2 3 4\n",
      "[13:00:13] Can't kekulize mol.  Unkekulized atoms: 0 1 2 3 4\n",
      "\n",
      "RDKit ERROR: \n"
     ]
    }
   ],
   "source": [
    "Chem.MolFromSmiles('c1cccn1')"
   ]
  },
  {
   "cell_type": "markdown",
   "id": "d0f7b00c",
   "metadata": {},
   "source": [
    "So is it a problem in `rdkit`? No, it is actually an invalid SMILES string. We can read in [Wikipedia](https://en.wikipedia.org/wiki/Simplified_molecular-input_line-entry_system):\n",
    "> Aromatic nitrogen bonded to hydrogen, as found in pyrrole must be represented as `[nH]`\n",
    "\n",
    "so the proper SMILES should be `c1ccc[nH]1`. We can check that, indeed, it works:"
   ]
  },
  {
   "cell_type": "code",
   "execution_count": 14,
   "id": "3f5cde82",
   "metadata": {},
   "outputs": [
    {
     "data": {
      "image/png": "[encoded data removed]",
      "text/plain": [
       "<rdkit.Chem.rdchem.Mol at 0x18ad61d00>"
      ]
     },
     "execution_count": 14,
     "metadata": {},
     "output_type": "execute_result"
    }
   ],
   "source": [
    "Chem.MolFromSmiles('c1ccc[nH]1')"
   ]
  },
  {
   "cell_type": "markdown",
   "id": "3a178c8a",
   "metadata": {},
   "source": [
    "This is why checking and curating the data is important: we don't want some nonsensical values to influence the training of our model. We could manually edit the SMILES strings and fix them, but for this tutorial the simplest option is to drop those 16 molecules from out data set:"
   ]
  },
  {
   "cell_type": "code",
   "execution_count": 15,
   "id": "ccb9af98",
   "metadata": {},
   "outputs": [
    {
     "name": "stdout",
     "output_type": "stream",
     "text": [
      "We now have 3025 molecules\n"
     ]
    }
   ],
   "source": [
    "df = df[df['mass'] > 0]\n",
    "print(f'We now have {len(df)} molecules')"
   ]
  },
  {
   "cell_type": "markdown",
   "id": "964cec12",
   "metadata": {},
   "source": [
    "Then, we can look at some statistics on our brand new descriptors, to help us get a sense of the chemical diversity of the dataset."
   ]
  },
  {
   "cell_type": "code",
   "execution_count": 16,
   "id": "9528e72f",
   "metadata": {
    "scrolled": true
   },
   "outputs": [
    {
     "data": {
      "text/html": [
       "<div>\n",
       "<style scoped>\n",
       "    .dataframe tbody tr th:only-of-type {\n",
       "        vertical-align: middle;\n",
       "    }\n",
       "\n",
       "    .dataframe tbody tr th {\n",
       "        vertical-align: top;\n",
       "    }\n",
       "\n",
       "    .dataframe thead th {\n",
       "        text-align: right;\n",
       "    }\n",
       "</style>\n",
       "<table border=\"1\" class=\"dataframe\">\n",
       "  <thead>\n",
       "    <tr style=\"text-align: right;\">\n",
       "      <th></th>\n",
       "      <th>key</th>\n",
       "      <th>mpC</th>\n",
       "      <th>csid</th>\n",
       "      <th>count</th>\n",
       "      <th>min</th>\n",
       "      <th>max</th>\n",
       "      <th>range</th>\n",
       "      <th>mass</th>\n",
       "      <th>hDonors</th>\n",
       "      <th>hAcceptors</th>\n",
       "      <th>aromaticRings</th>\n",
       "    </tr>\n",
       "  </thead>\n",
       "  <tbody>\n",
       "    <tr>\n",
       "      <th>count</th>\n",
       "      <td>3025.000000</td>\n",
       "      <td>3025.000000</td>\n",
       "      <td>3.025000e+03</td>\n",
       "      <td>3025.000000</td>\n",
       "      <td>3025.000000</td>\n",
       "      <td>3025.000000</td>\n",
       "      <td>3025.000000</td>\n",
       "      <td>3025.000000</td>\n",
       "      <td>3025.000000</td>\n",
       "      <td>3025.000000</td>\n",
       "      <td>3025.000000</td>\n",
       "    </tr>\n",
       "    <tr>\n",
       "      <th>mean</th>\n",
       "      <td>10746.770248</td>\n",
       "      <td>62.254496</td>\n",
       "      <td>2.036780e+06</td>\n",
       "      <td>2.798678</td>\n",
       "      <td>61.636536</td>\n",
       "      <td>63.284635</td>\n",
       "      <td>1.648099</td>\n",
       "      <td>180.528716</td>\n",
       "      <td>0.678678</td>\n",
       "      <td>1.783471</td>\n",
       "      <td>0.933223</td>\n",
       "    </tr>\n",
       "    <tr>\n",
       "      <th>std</th>\n",
       "      <td>6885.046638</td>\n",
       "      <td>95.663463</td>\n",
       "      <td>5.487405e+06</td>\n",
       "      <td>1.278174</td>\n",
       "      <td>95.537341</td>\n",
       "      <td>95.885451</td>\n",
       "      <td>1.291075</td>\n",
       "      <td>80.114001</td>\n",
       "      <td>0.861752</td>\n",
       "      <td>1.484173</td>\n",
       "      <td>0.888736</td>\n",
       "    </tr>\n",
       "    <tr>\n",
       "      <th>min</th>\n",
       "      <td>10.000000</td>\n",
       "      <td>-188.000000</td>\n",
       "      <td>1.800000e+01</td>\n",
       "      <td>2.000000</td>\n",
       "      <td>-188.000000</td>\n",
       "      <td>-187.600000</td>\n",
       "      <td>0.010000</td>\n",
       "      <td>16.043000</td>\n",
       "      <td>0.000000</td>\n",
       "      <td>0.000000</td>\n",
       "      <td>0.000000</td>\n",
       "    </tr>\n",
       "    <tr>\n",
       "      <th>25%</th>\n",
       "      <td>5112.000000</td>\n",
       "      <td>5.000000</td>\n",
       "      <td>7.659000e+03</td>\n",
       "      <td>2.000000</td>\n",
       "      <td>4.500000</td>\n",
       "      <td>5.500000</td>\n",
       "      <td>0.500000</td>\n",
       "      <td>129.247000</td>\n",
       "      <td>0.000000</td>\n",
       "      <td>1.000000</td>\n",
       "      <td>0.000000</td>\n",
       "    </tr>\n",
       "    <tr>\n",
       "      <th>50%</th>\n",
       "      <td>12815.000000</td>\n",
       "      <td>63.000000</td>\n",
       "      <td>1.285800e+04</td>\n",
       "      <td>2.000000</td>\n",
       "      <td>62.000000</td>\n",
       "      <td>64.500000</td>\n",
       "      <td>1.000000</td>\n",
       "      <td>166.180000</td>\n",
       "      <td>0.000000</td>\n",
       "      <td>2.000000</td>\n",
       "      <td>1.000000</td>\n",
       "    </tr>\n",
       "    <tr>\n",
       "      <th>75%</th>\n",
       "      <td>15264.000000</td>\n",
       "      <td>129.000000</td>\n",
       "      <td>6.684700e+04</td>\n",
       "      <td>3.000000</td>\n",
       "      <td>128.000000</td>\n",
       "      <td>130.000000</td>\n",
       "      <td>2.500000</td>\n",
       "      <td>214.648000</td>\n",
       "      <td>1.000000</td>\n",
       "      <td>3.000000</td>\n",
       "      <td>1.000000</td>\n",
       "    </tr>\n",
       "    <tr>\n",
       "      <th>max</th>\n",
       "      <td>28644.000000</td>\n",
       "      <td>438.000000</td>\n",
       "      <td>2.142902e+07</td>\n",
       "      <td>16.000000</td>\n",
       "      <td>437.300000</td>\n",
       "      <td>440.000000</td>\n",
       "      <td>5.000000</td>\n",
       "      <td>959.171000</td>\n",
       "      <td>8.000000</td>\n",
       "      <td>14.000000</td>\n",
       "      <td>8.000000</td>\n",
       "    </tr>\n",
       "  </tbody>\n",
       "</table>\n",
       "</div>"
      ],
      "text/plain": [
       "                key          mpC          csid        count          min  \\\n",
       "count   3025.000000  3025.000000  3.025000e+03  3025.000000  3025.000000   \n",
       "mean   10746.770248    62.254496  2.036780e+06     2.798678    61.636536   \n",
       "std     6885.046638    95.663463  5.487405e+06     1.278174    95.537341   \n",
       "min       10.000000  -188.000000  1.800000e+01     2.000000  -188.000000   \n",
       "25%     5112.000000     5.000000  7.659000e+03     2.000000     4.500000   \n",
       "50%    12815.000000    63.000000  1.285800e+04     2.000000    62.000000   \n",
       "75%    15264.000000   129.000000  6.684700e+04     3.000000   128.000000   \n",
       "max    28644.000000   438.000000  2.142902e+07    16.000000   437.300000   \n",
       "\n",
       "               max        range         mass      hDonors   hAcceptors  \\\n",
       "count  3025.000000  3025.000000  3025.000000  3025.000000  3025.000000   \n",
       "mean     63.284635     1.648099   180.528716     0.678678     1.783471   \n",
       "std      95.885451     1.291075    80.114001     0.861752     1.484173   \n",
       "min    -187.600000     0.010000    16.043000     0.000000     0.000000   \n",
       "25%       5.500000     0.500000   129.247000     0.000000     1.000000   \n",
       "50%      64.500000     1.000000   166.180000     0.000000     2.000000   \n",
       "75%     130.000000     2.500000   214.648000     1.000000     3.000000   \n",
       "max     440.000000     5.000000   959.171000     8.000000    14.000000   \n",
       "\n",
       "       aromaticRings  \n",
       "count    3025.000000  \n",
       "mean        0.933223  \n",
       "std         0.888736  \n",
       "min         0.000000  \n",
       "25%         0.000000  \n",
       "50%         1.000000  \n",
       "75%         1.000000  \n",
       "max         8.000000  "
      ]
     },
     "execution_count": 16,
     "metadata": {},
     "output_type": "execute_result"
    }
   ],
   "source": [
    "df.describe()"
   ]
  },
  {
   "cell_type": "markdown",
   "id": "f5601eaf",
   "metadata": {},
   "source": [
    "Molar mass goes from 16 g/mol to 959 g/mol, and our dataset includes molecules with up to 8 aromatic rings. Let's check that one!"
   ]
  },
  {
   "cell_type": "code",
   "execution_count": 17,
   "id": "397301e0",
   "metadata": {},
   "outputs": [
    {
     "data": {
      "text/html": [
       "<div>\n",
       "<style scoped>\n",
       "    .dataframe tbody tr th:only-of-type {\n",
       "        vertical-align: middle;\n",
       "    }\n",
       "\n",
       "    .dataframe tbody tr th {\n",
       "        vertical-align: top;\n",
       "    }\n",
       "\n",
       "    .dataframe thead th {\n",
       "        text-align: right;\n",
       "    }\n",
       "</style>\n",
       "<table border=\"1\" class=\"dataframe\">\n",
       "  <thead>\n",
       "    <tr style=\"text-align: right;\">\n",
       "      <th></th>\n",
       "      <th>key</th>\n",
       "      <th>name</th>\n",
       "      <th>smiles</th>\n",
       "      <th>mpC</th>\n",
       "      <th>csid</th>\n",
       "      <th>link</th>\n",
       "      <th>source</th>\n",
       "      <th>count</th>\n",
       "      <th>min</th>\n",
       "      <th>max</th>\n",
       "      <th>range</th>\n",
       "      <th>mass</th>\n",
       "      <th>hDonors</th>\n",
       "      <th>hAcceptors</th>\n",
       "      <th>aromaticRings</th>\n",
       "    </tr>\n",
       "  </thead>\n",
       "  <tbody>\n",
       "    <tr>\n",
       "      <th>605</th>\n",
       "      <td>8188</td>\n",
       "      <td>octaphenylcyclotetrasiloxane</td>\n",
       "      <td>c1ccc(cc1)[Si]2(O[Si](O[Si](O[Si](O2)(c3ccccc3...</td>\n",
       "      <td>201.0</td>\n",
       "      <td>61642</td>\n",
       "      <td>http://www.alfa.com/en/GP100W.pgm?DSSTK=L06130</td>\n",
       "      <td>Alfa Aesar</td>\n",
       "      <td>2</td>\n",
       "      <td>200.5</td>\n",
       "      <td>201.0</td>\n",
       "      <td>0.5</td>\n",
       "      <td>793.188</td>\n",
       "      <td>0.0</td>\n",
       "      <td>4.0</td>\n",
       "      <td>8.0</td>\n",
       "    </tr>\n",
       "  </tbody>\n",
       "</table>\n",
       "</div>"
      ],
      "text/plain": [
       "      key                          name  \\\n",
       "605  8188  octaphenylcyclotetrasiloxane   \n",
       "\n",
       "                                                smiles    mpC   csid  \\\n",
       "605  c1ccc(cc1)[Si]2(O[Si](O[Si](O[Si](O2)(c3ccccc3...  201.0  61642   \n",
       "\n",
       "                                               link      source  count    min  \\\n",
       "605  http://www.alfa.com/en/GP100W.pgm?DSSTK=L06130  Alfa Aesar      2  200.5   \n",
       "\n",
       "       max  range     mass  hDonors  hAcceptors  aromaticRings  \n",
       "605  201.0    0.5  793.188      0.0         4.0            8.0  "
      ]
     },
     "execution_count": 17,
     "metadata": {},
     "output_type": "execute_result"
    }
   ],
   "source": [
    "df[df['aromaticRings'] == 8]"
   ]
  },
  {
   "cell_type": "code",
   "execution_count": 18,
   "id": "461b4b43",
   "metadata": {},
   "outputs": [
    {
     "data": {
      "image/png": "[encoded data removed]",
      "text/plain": [
       "<rdkit.Chem.rdchem.Mol at 0x18ad61820>"
      ]
     },
     "execution_count": 18,
     "metadata": {},
     "output_type": "execute_result"
    }
   ],
   "source": [
    "Chem.MolFromSmiles(df[df['aromaticRings'] == 8]['smiles'].iloc[0])"
   ]
  },
  {
   "cell_type": "markdown",
   "id": "acf8a414",
   "metadata": {},
   "source": [
    "We can plot some histograms of the descriptors, as well. It is always good to have an understanding of the data we are working with, its limitations, etc."
   ]
  },
  {
   "cell_type": "code",
   "execution_count": 19,
   "id": "be8162cd",
   "metadata": {},
   "outputs": [
    {
     "data": {
      "image/png": "[encoded data removed]",
      "text/plain": [
       "<Figure size 432x288 with 1 Axes>"
      ]
     },
     "metadata": {},
     "output_type": "display_data"
    }
   ],
   "source": [
    "_ = sns.histplot(data=df, x='aromaticRings')"
   ]
  },
  {
   "cell_type": "code",
   "execution_count": 20,
   "id": "2a03517d",
   "metadata": {},
   "outputs": [
    {
     "data": {
      "image/png": "[encoded data removed]",
      "text/plain": [
       "<Figure size 432x288 with 1 Axes>"
      ]
     },
     "metadata": {},
     "output_type": "display_data"
    }
   ],
   "source": [
    "_ = sns.histplot(data=df, x='hDonors')"
   ]
  },
  {
   "cell_type": "code",
   "execution_count": 21,
   "id": "4d324737",
   "metadata": {},
   "outputs": [
    {
     "data": {
      "image/png": "[encoded data removed]",
      "text/plain": [
       "<Figure size 432x288 with 1 Axes>"
      ]
     },
     "metadata": {},
     "output_type": "display_data"
    }
   ],
   "source": [
    "_ = sns.histplot(data=df, x='hAcceptors')"
   ]
  },
  {
   "cell_type": "code",
   "execution_count": 22,
   "id": "f0847163",
   "metadata": {},
   "outputs": [
    {
     "data": {
      "image/png": "[encoded data removed]",
      "text/plain": [
       "<Figure size 432x288 with 1 Axes>"
      ]
     },
     "metadata": {},
     "output_type": "display_data"
    }
   ],
   "source": [
    "_ = sns.histplot(data=df, x='mass')"
   ]
  },
  {
   "cell_type": "markdown",
   "id": "9cfd3cc2",
   "metadata": {},
   "source": [
    "## Linear regression: melting point and molar mass\n",
    "\n",
    "The first factor we want to analyze, because chemical intuition tells us it might be an important factor in determining the melting point of molecules, is the molar mass.\n",
    "\n",
    "Here is the correlation between boiling point of alkanes (in °C) and their molar mass (in g/mol). The dataset contains 102 alkane molecules, taken from https://chem.libretexts.org/Courses/Intercollegiate_Courses/Cheminformatics_OLCC_(2019)/5._Quantitative_Structure_Property_Relationships/5.4%3A_Python_Assignment\n",
    "Such clear correlation is due to the chemical similarity of the molecules (all alkanes), of course… but this is a lead to follow!"
   ]
  },
  {
   "cell_type": "code",
   "execution_count": 23,
   "id": "acc286b0",
   "metadata": {},
   "outputs": [
    {
     "data": {
      "image/png": "[encoded data removed]",
      "text/plain": [
       "<Figure size 432x288 with 1 Axes>"
      ]
     },
     "metadata": {},
     "output_type": "display_data"
    }
   ],
   "source": [
    "bp = pd.read_csv(\"boiling_point_alkanes.csv\")\n",
    "_ = bp.plot.scatter(x='MW', y='bp_C', c='blue')"
   ]
  },
  {
   "cell_type": "markdown",
   "id": "50d28ea3",
   "metadata": {},
   "source": [
    "We want to see whether the same is true of our own data set, which is bigger and more diverse in terms of chemical nature. We do a scatterplot:"
   ]
  },
  {
   "cell_type": "code",
   "execution_count": 24,
   "id": "8aeef011",
   "metadata": {},
   "outputs": [
    {
     "data": {
      "image/png": "[encoded data removed]",
      "text/plain": [
       "<Figure size 432x288 with 1 Axes>"
      ]
     },
     "metadata": {},
     "output_type": "display_data"
    }
   ],
   "source": [
    "_ = df.plot.scatter(x='mass', y='mpC', s=1, c='blue', alpha=0.5)"
   ]
  },
  {
   "cell_type": "markdown",
   "id": "d36867e1",
   "metadata": {},
   "source": [
    "Although the correlation is not excellent, the eye suggests that there is some trend still. Let's explore that further and train a linear regression. In terms of machine learning, our target is the melting point, and we have only a single feature (or descriptor): the molar mass."
   ]
  },
  {
   "cell_type": "code",
   "execution_count": 25,
   "id": "5367d5a9",
   "metadata": {},
   "outputs": [
    {
     "data": {
      "text/html": [
       "<style>#sk-6ca0cc89-df42-4ee9-b860-8bbb48bd3d3b {color: black;background-color: white;}#sk-6ca0cc89-df42-4ee9-b860-8bbb48bd3d3b pre{padding: 0;}#sk-6ca0cc89-df42-4ee9-b860-8bbb48bd3d3b div.sk-toggleable {background-color: white;}#sk-6ca0cc89-df42-4ee9-b860-8bbb48bd3d3b label.sk-toggleable__label {cursor: pointer;display: block;width: 100%;margin-bottom: 0;padding: 0.3em;box-sizing: border-box;text-align: center;}#sk-6ca0cc89-df42-4ee9-b860-8bbb48bd3d3b div.sk-toggleable__content {max-height: 0;max-width: 0;overflow: hidden;text-align: left;background-color: #f0f8ff;}#sk-6ca0cc89-df42-4ee9-b860-8bbb48bd3d3b div.sk-toggleable__content pre {margin: 0.2em;color: black;border-radius: 0.25em;background-color: #f0f8ff;}#sk-6ca0cc89-df42-4ee9-b860-8bbb48bd3d3b input.sk-toggleable__control:checked~div.sk-toggleable__content {max-height: 200px;max-width: 100%;overflow: auto;}#sk-6ca0cc89-df42-4ee9-b860-8bbb48bd3d3b div.sk-estimator input.sk-toggleable__control:checked~label.sk-toggleable__label {background-color: #d4ebff;}#sk-6ca0cc89-df42-4ee9-b860-8bbb48bd3d3b div.sk-label input.sk-toggleable__control:checked~label.sk-toggleable__label {background-color: #d4ebff;}#sk-6ca0cc89-df42-4ee9-b860-8bbb48bd3d3b input.sk-hidden--visually {border: 0;clip: rect(1px 1px 1px 1px);clip: rect(1px, 1px, 1px, 1px);height: 1px;margin: -1px;overflow: hidden;padding: 0;position: absolute;width: 1px;}#sk-6ca0cc89-df42-4ee9-b860-8bbb48bd3d3b div.sk-estimator {font-family: monospace;background-color: #f0f8ff;border: 1px dotted black;border-radius: 0.25em;box-sizing: border-box;margin-bottom: 0.5em;}#sk-6ca0cc89-df42-4ee9-b860-8bbb48bd3d3b div.sk-estimator:hover {background-color: #d4ebff;}#sk-6ca0cc89-df42-4ee9-b860-8bbb48bd3d3b div.sk-parallel-item::after {content: \"\";width: 100%;border-bottom: 1px solid gray;flex-grow: 1;}#sk-6ca0cc89-df42-4ee9-b860-8bbb48bd3d3b div.sk-label:hover label.sk-toggleable__label {background-color: #d4ebff;}#sk-6ca0cc89-df42-4ee9-b860-8bbb48bd3d3b div.sk-serial::before {content: \"\";position: absolute;border-left: 1px solid gray;box-sizing: border-box;top: 2em;bottom: 0;left: 50%;}#sk-6ca0cc89-df42-4ee9-b860-8bbb48bd3d3b div.sk-serial {display: flex;flex-direction: column;align-items: center;background-color: white;padding-right: 0.2em;padding-left: 0.2em;}#sk-6ca0cc89-df42-4ee9-b860-8bbb48bd3d3b div.sk-item {z-index: 1;}#sk-6ca0cc89-df42-4ee9-b860-8bbb48bd3d3b div.sk-parallel {display: flex;align-items: stretch;justify-content: center;background-color: white;}#sk-6ca0cc89-df42-4ee9-b860-8bbb48bd3d3b div.sk-parallel::before {content: \"\";position: absolute;border-left: 1px solid gray;box-sizing: border-box;top: 2em;bottom: 0;left: 50%;}#sk-6ca0cc89-df42-4ee9-b860-8bbb48bd3d3b div.sk-parallel-item {display: flex;flex-direction: column;position: relative;background-color: white;}#sk-6ca0cc89-df42-4ee9-b860-8bbb48bd3d3b div.sk-parallel-item:first-child::after {align-self: flex-end;width: 50%;}#sk-6ca0cc89-df42-4ee9-b860-8bbb48bd3d3b div.sk-parallel-item:last-child::after {align-self: flex-start;width: 50%;}#sk-6ca0cc89-df42-4ee9-b860-8bbb48bd3d3b div.sk-parallel-item:only-child::after {width: 0;}#sk-6ca0cc89-df42-4ee9-b860-8bbb48bd3d3b div.sk-dashed-wrapped {border: 1px dashed gray;margin: 0 0.4em 0.5em 0.4em;box-sizing: border-box;padding-bottom: 0.4em;background-color: white;position: relative;}#sk-6ca0cc89-df42-4ee9-b860-8bbb48bd3d3b div.sk-label label {font-family: monospace;font-weight: bold;background-color: white;display: inline-block;line-height: 1.2em;}#sk-6ca0cc89-df42-4ee9-b860-8bbb48bd3d3b div.sk-label-container {position: relative;z-index: 2;text-align: center;}#sk-6ca0cc89-df42-4ee9-b860-8bbb48bd3d3b div.sk-container {display: inline-block;position: relative;}</style><div id=\"sk-6ca0cc89-df42-4ee9-b860-8bbb48bd3d3b\" class\"sk-top-container\"><div class=\"sk-container\"><div class=\"sk-item\"><div class=\"sk-estimator sk-toggleable\"><input class=\"sk-toggleable__control sk-hidden--visually\" id=\"a8ed74ce-5c77-44f1-8889-820bb3897a95\" type=\"checkbox\" checked><label class=\"sk-toggleable__label\" for=\"a8ed74ce-5c77-44f1-8889-820bb3897a95\">LinearRegression</label><div class=\"sk-toggleable__content\"><pre>LinearRegression()</pre></div></div></div></div></div>"
      ],
      "text/plain": [
       "LinearRegression()"
      ]
     },
     "execution_count": 25,
     "metadata": {},
     "output_type": "execute_result"
    }
   ],
   "source": [
    "data = df[['mass']]\n",
    "target = df['mpC']\n",
    "linear_regression = LinearRegression()\n",
    "linear_regression.fit(data, target)"
   ]
  },
  {
   "cell_type": "markdown",
   "id": "ce806998",
   "metadata": {},
   "source": [
    "We have fitted the linear regression based on our data, and now we want to calculate the error between the predicted melting points and the real melting points. We can also visualize the agreement by plotting the two (predicted vs. real) in a scatterplot."
   ]
  },
  {
   "cell_type": "code",
   "execution_count": 26,
   "id": "ae730a96",
   "metadata": {},
   "outputs": [
    {
     "name": "stdout",
     "output_type": "stream",
     "text": [
      "The mean squared error of the optimal model is 7062.9\n",
      "The mean absolute error of the optimal model is 67.4 °C\n"
     ]
    },
    {
     "data": {
      "image/png": "[encoded data removed]",
      "text/plain": [
       "<Figure size 432x288 with 1 Axes>"
      ]
     },
     "metadata": {},
     "output_type": "display_data"
    }
   ],
   "source": [
    "predicted = linear_regression.predict(data)\n",
    "model_error = mean_squared_error(target, predicted)\n",
    "print(f\"The mean squared error of the optimal model is {model_error:.1f}\")\n",
    "model_error = mean_absolute_error(target, predicted)\n",
    "print(f\"The mean absolute error of the optimal model is {model_error:.1f} °C\")\n",
    "\n",
    "_ = sns.scatterplot(x=target, y=predicted, size=1, alpha=0.5)"
   ]
  },
  {
   "cell_type": "markdown",
   "id": "1395a234",
   "metadata": {},
   "source": [
    "Graphically, the agreement is not very satisfying. In particular, we see tha values with low melting point (x < 0) are badly predicted. The predicted values does not extend to large negative values. We can see that further by comparing the histograms of real values (in blue) and predicted values (in red):"
   ]
  },
  {
   "cell_type": "code",
   "execution_count": 27,
   "id": "ab5861de",
   "metadata": {},
   "outputs": [
    {
     "data": {
      "image/png": "[encoded data removed]",
      "text/plain": [
       "<Figure size 432x288 with 1 Axes>"
      ]
     },
     "metadata": {},
     "output_type": "display_data"
    }
   ],
   "source": [
    "_ = sns.histplot(x=target, color='blue', alpha=0.5)\n",
    "_ = sns.histplot(x=predicted, color='red', alpha=0.5)"
   ]
  },
  {
   "cell_type": "markdown",
   "id": "f1fb4969",
   "metadata": {},
   "source": [
    "The mean absolute error (MAE) is the average value of the absolute error for all predictions, and a key metric for our regression. At 67.4 °C, it is smaller than the standard deviation of the dataset itself (95.7 °C), but still substantial.\n",
    "\n",
    "One way to estimate its “performance” is to compare it with the error made if the predictor was a “dummy” predictor, which always returned the average value of melting points in the training data set."
   ]
  },
  {
   "cell_type": "code",
   "execution_count": 28,
   "id": "1caa40d7",
   "metadata": {},
   "outputs": [
    {
     "name": "stdout",
     "output_type": "stream",
     "text": [
      "The mean squared error of the dummy model is 9148.5\n",
      "The mean absolute error of the dummy model is 75.7 °C\n"
     ]
    }
   ],
   "source": [
    "dummy_regr = DummyRegressor(strategy=\"mean\")\n",
    "dummy_regr.fit(data, target)\n",
    "dummy_predicted = dummy_regr.predict(data)\n",
    "model_error = mean_squared_error(target, dummy_predicted)\n",
    "print(f\"The mean squared error of the dummy model is {model_error:.1f}\")\n",
    "model_error = mean_absolute_error(target, dummy_predicted)\n",
    "print(f\"The mean absolute error of the dummy model is {model_error:.1f} °C\")"
   ]
  },
  {
   "cell_type": "markdown",
   "id": "191b2917",
   "metadata": {},
   "source": [
    "##### We see that the MAE of our linear regression (67.4 °C) is better than a dummy predictor (75.7 °C), but not by much. We would like to improve the quality of our model, and one way to do this is to include more descriptors in the regression!\n",
    "\n",
    "Before we do that, however, we want to know what the equation of our linear regression model is. It will be of the form:\n",
    "\n",
    "$$ T_m = a \\times M_w + b $$\n",
    "\n",
    "where $T_m$ is the melting point, $M_w$ is the molar mass, and $a$ and $b$ are the model coefficients ($a$ is the _slope_ and $b$ is the _intercept_). We can get those coefficients from the trained model (the `linear_regression` object), by looking at its `coef_` and `intercept_` properties:"
   ]
  },
  {
   "cell_type": "code",
   "execution_count": 29,
   "id": "c490d47e",
   "metadata": {},
   "outputs": [
    {
     "name": "stdout",
     "output_type": "stream",
     "text": [
      "Slope is: [0.57013703]\n",
      "Intercept is: -40.67161044939393\n"
     ]
    }
   ],
   "source": [
    "print('Slope is:', linear_regression.coef_)\n",
    "print('Intercept is:', linear_regression.intercept_)"
   ]
  },
  {
   "cell_type": "markdown",
   "id": "542a1cad",
   "metadata": {},
   "source": [
    "We see here that our model is (roughly):\n",
    "\n",
    "$$T_m = 0.5701 M_w - 40.67$$\n",
    "\n",
    "with $M_w$ in g/mol and $T_m$ in °C. We can plot that line on the graph of the data:"
   ]
  },
  {
   "cell_type": "code",
   "execution_count": 30,
   "id": "0559b271",
   "metadata": {},
   "outputs": [
    {
     "data": {
      "image/png": "[encoded data removed]",
      "text/plain": [
       "<Figure size 432x288 with 1 Axes>"
      ]
     },
     "metadata": {},
     "output_type": "display_data"
    }
   ],
   "source": [
    "lineX = np.array([0, df['mass'].max()])\n",
    "lineY = linear_regression.coef_ * lineX + linear_regression.intercept_\n",
    "\n",
    "_ = sns.scatterplot(x=df['mass'], y=df['mpC'], s=5, alpha=0.5)\n",
    "_ = sns.lineplot(x=lineX, y=lineY, color='r')"
   ]
  },
  {
   "cell_type": "markdown",
   "id": "45e951e8",
   "metadata": {},
   "source": [
    "Visually, the result is stranger: our eye would probably prefer a trend line with a larger slope, that would fit better with the data in the 0–200 g/mol mass range. However, that would give points with high molar mass a really bad prediction of melting point (way too high). It is time to introduce more descriptors into the fit!"
   ]
  },
  {
   "cell_type": "markdown",
   "id": "ead960cc",
   "metadata": {},
   "source": [
    "## Linear regression with multiple descriptors\n",
    "\n",
    "Do our other descriptors show a direct correlation with the melting point of the molecules? Let’s see…"
   ]
  },
  {
   "cell_type": "code",
   "execution_count": 31,
   "id": "f6ca0378",
   "metadata": {},
   "outputs": [
    {
     "data": {
      "image/png": "[encoded data removed]",
      "text/plain": [
       "<Figure size 432x288 with 1 Axes>"
      ]
     },
     "metadata": {},
     "output_type": "display_data"
    }
   ],
   "source": [
    "_ = sns.scatterplot(x=df['aromaticRings'], y=df['mpC'])"
   ]
  },
  {
   "cell_type": "code",
   "execution_count": 32,
   "id": "62f65954",
   "metadata": {},
   "outputs": [
    {
     "data": {
      "image/png": "[encoded data removed]",
      "text/plain": [
       "<Figure size 432x288 with 1 Axes>"
      ]
     },
     "metadata": {},
     "output_type": "display_data"
    }
   ],
   "source": [
    "_ = sns.scatterplot(x=df['hDonors'], y=df['mpC'])"
   ]
  },
  {
   "cell_type": "code",
   "execution_count": 33,
   "id": "5b5ea591",
   "metadata": {},
   "outputs": [
    {
     "data": {
      "image/png": "[encoded data removed]",
      "text/plain": [
       "<Figure size 432x288 with 1 Axes>"
      ]
     },
     "metadata": {},
     "output_type": "display_data"
    }
   ],
   "source": [
    "_ = sns.scatterplot(x=df['hAcceptors'], y=df['mpC'])"
   ]
  },
  {
   "cell_type": "markdown",
   "id": "9b615507",
   "metadata": {},
   "source": [
    "Maybe, maybe not… from visual inspection it is difficult to say for certain. If we introduce them as additional features in our linear regression model, what happens? We first create a model with 2 features: molar mass and number of aromatic rings."
   ]
  },
  {
   "cell_type": "code",
   "execution_count": 34,
   "id": "0343f918",
   "metadata": {},
   "outputs": [
    {
     "name": "stdout",
     "output_type": "stream",
     "text": [
      "The mean squared error of the optimal model is 6063.3\n",
      "The mean absolute error of the optimal model is 62.6 °C\n"
     ]
    }
   ],
   "source": [
    "data2 = df[['mass', 'aromaticRings']]\n",
    "target = df['mpC']\n",
    "linear_regression2 = LinearRegression()\n",
    "linear_regression2.fit(data2, target)\n",
    "\n",
    "predicted2 = linear_regression2.predict(data2)\n",
    "model_error = mean_squared_error(target, predicted2)\n",
    "print(f\"The mean squared error of the optimal model is {model_error:.1f}\")\n",
    "model_error = mean_absolute_error(target, predicted2)\n",
    "print(f\"The mean absolute error of the optimal model is {model_error:.1f} °C\")"
   ]
  },
  {
   "cell_type": "markdown",
   "id": "e82d7f89",
   "metadata": {},
   "source": [
    "Introducing a second feature has improved the accuracy of our model: the MAE went down from 67.4 °C to 62.6 °C. Does the trend hold when we add additional descriptors?"
   ]
  },
  {
   "cell_type": "code",
   "execution_count": 35,
   "id": "b510af50",
   "metadata": {},
   "outputs": [
    {
     "name": "stdout",
     "output_type": "stream",
     "text": [
      "The mean squared error of the optimal model is 5055.3\n",
      "The mean absolute error of the optimal model is 56.3 °C\n"
     ]
    }
   ],
   "source": [
    "data3 = df[['mass', 'aromaticRings', 'hAcceptors']]\n",
    "target = df['mpC']\n",
    "linear_regression3 = LinearRegression()\n",
    "linear_regression3.fit(data3, target)\n",
    "\n",
    "predicted3 = linear_regression3.predict(data3)\n",
    "model_error = mean_squared_error(target, predicted3)\n",
    "print(f\"The mean squared error of the optimal model is {model_error:.1f}\")\n",
    "model_error = mean_absolute_error(target, predicted3)\n",
    "print(f\"The mean absolute error of the optimal model is {model_error:.1f} °C\")"
   ]
  },
  {
   "cell_type": "code",
   "execution_count": 36,
   "id": "30cff814",
   "metadata": {},
   "outputs": [
    {
     "name": "stdout",
     "output_type": "stream",
     "text": [
      "The mean squared error of the optimal model is 3976.0\n",
      "The mean absolute error of the optimal model is 48.9 °C\n"
     ]
    }
   ],
   "source": [
    "data4 = df[['mass', 'aromaticRings', 'hAcceptors', 'hDonors']]\n",
    "target = df['mpC']\n",
    "linear_regression4 = LinearRegression()\n",
    "linear_regression4.fit(data4, target)\n",
    "\n",
    "predicted4 = linear_regression4.predict(data4)\n",
    "model_error = mean_squared_error(target, predicted4)\n",
    "print(f\"The mean squared error of the optimal model is {model_error:.1f}\")\n",
    "model_error = mean_absolute_error(target, predicted4)\n",
    "print(f\"The mean absolute error of the optimal model is {model_error:.1f} °C\")"
   ]
  },
  {
   "cell_type": "markdown",
   "id": "dce2f7a7",
   "metadata": {},
   "source": [
    "Indeed, as we add more features, the mean absolute error continues to go do:"
   ]
  },
  {
   "cell_type": "code",
   "execution_count": 37,
   "id": "f45eb149",
   "metadata": {},
   "outputs": [
    {
     "data": {
      "image/png": "[encoded data removed]",
      "text/plain": [
       "<Figure size 432x288 with 1 Axes>"
      ]
     },
     "metadata": {},
     "output_type": "display_data"
    }
   ],
   "source": [
    "mae_dummy = mean_absolute_error(target, dummy_predicted)\n",
    "mae1 = mean_absolute_error(target, predicted)\n",
    "mae2 = mean_absolute_error(target, predicted2)\n",
    "mae3 = mean_absolute_error(target, predicted3)\n",
    "mae4 = mean_absolute_error(target, predicted4)\n",
    "\n",
    "p = sns.barplot(x=[0, 1, 2, 3, 4], y=[mae_dummy, mae1, mae2, mae3, mae4])\n",
    "_ = p.set(xlabel='Number of features', ylabel='Mean absolute error (°C)')"
   ]
  },
  {
   "cell_type": "markdown",
   "id": "680d2022",
   "metadata": {},
   "source": [
    "The mean average error of our linear regression model with 4 features is down to 49 °C. Do we consider that a “good” model? Let's compare this to state-of-the-art studies. One point of comparison can be found in the paper [“The development of models to predict melting and pyrolysis point data associated with several hundred thousand compounds mined from PATENTS”](https://doi.org/10.1186/s13321-016-0113-y), from Tetko et al (2016). Quoting from the conclusions of this ML study, which used large amounts of molecular descriptors and complex fingerprints:\n",
    "\n",
    "> _The accuracy of the consensus melting point models for molecules from the drug-like region of chemical space was similar to their estimated experimental accuracy, 32 °C._\n",
    "\n",
    "This shows that our simple model, based on only 4 molecular descriptors, is very simplistic and could be further improved."
   ]
  },
  {
   "cell_type": "markdown",
   "id": "d34b5a5c",
   "metadata": {},
   "source": [
    "## Interpreting the linear models\n",
    "\n",
    "Probably the biggest advantage of linear models, and why they are so commonly used in many different fields, is that they have an direct interpretation that is easy to understand: namely, the coefficients (or _weights_) of the different features in the linear equation. As a result of the machine learning workflow, we therefore get not only a predictive model, but we also gain physical insight into the relationships between the various quantities.\n",
    "\n",
    "Let us see what our final model (with 4 features) is:"
   ]
  },
  {
   "cell_type": "code",
   "execution_count": 38,
   "id": "209ce48b",
   "metadata": {},
   "outputs": [
    {
     "name": "stdout",
     "output_type": "stream",
     "text": [
      "Model features are: ['mass', 'aromaticRings', 'hAcceptors', 'hDonors']\n",
      "Model coefficients are: [ 0.24747218 40.59739655 11.90076924 42.32277697]\n",
      "Model intercept is: -70.25597149257169\n"
     ]
    }
   ],
   "source": [
    "print('Model features are:', list(data4.columns))\n",
    "print('Model coefficients are:', linear_regression4.coef_)\n",
    "print('Model intercept is:', linear_regression4.intercept_)"
   ]
  },
  {
   "cell_type": "markdown",
   "id": "d9adbd64",
   "metadata": {},
   "source": [
    "So our model is (approximately):\n",
    "\n",
    "$$ T_m = 0.247 \\times M_w + 40.6 \\times N_{arom} + 11.9 \\times N_{hA} + 42.3 \\times N_{hD} - 70.2 $$\n",
    "\n",
    "We see that all descriptors are positively correlated with the melting point. However, we cannot use the values of the coefficients to determine how important each feature is, because the features have very different ranges:"
   ]
  },
  {
   "cell_type": "code",
   "execution_count": 39,
   "id": "fed0b023",
   "metadata": {},
   "outputs": [
    {
     "data": {
      "text/html": [
       "<div>\n",
       "<style scoped>\n",
       "    .dataframe tbody tr th:only-of-type {\n",
       "        vertical-align: middle;\n",
       "    }\n",
       "\n",
       "    .dataframe tbody tr th {\n",
       "        vertical-align: top;\n",
       "    }\n",
       "\n",
       "    .dataframe thead th {\n",
       "        text-align: right;\n",
       "    }\n",
       "</style>\n",
       "<table border=\"1\" class=\"dataframe\">\n",
       "  <thead>\n",
       "    <tr style=\"text-align: right;\">\n",
       "      <th></th>\n",
       "      <th>mass</th>\n",
       "      <th>aromaticRings</th>\n",
       "      <th>hAcceptors</th>\n",
       "      <th>hDonors</th>\n",
       "    </tr>\n",
       "  </thead>\n",
       "  <tbody>\n",
       "    <tr>\n",
       "      <th>count</th>\n",
       "      <td>3025.000000</td>\n",
       "      <td>3025.000000</td>\n",
       "      <td>3025.000000</td>\n",
       "      <td>3025.000000</td>\n",
       "    </tr>\n",
       "    <tr>\n",
       "      <th>mean</th>\n",
       "      <td>180.528716</td>\n",
       "      <td>0.933223</td>\n",
       "      <td>1.783471</td>\n",
       "      <td>0.678678</td>\n",
       "    </tr>\n",
       "    <tr>\n",
       "      <th>std</th>\n",
       "      <td>80.114001</td>\n",
       "      <td>0.888736</td>\n",
       "      <td>1.484173</td>\n",
       "      <td>0.861752</td>\n",
       "    </tr>\n",
       "    <tr>\n",
       "      <th>min</th>\n",
       "      <td>16.043000</td>\n",
       "      <td>0.000000</td>\n",
       "      <td>0.000000</td>\n",
       "      <td>0.000000</td>\n",
       "    </tr>\n",
       "    <tr>\n",
       "      <th>25%</th>\n",
       "      <td>129.247000</td>\n",
       "      <td>0.000000</td>\n",
       "      <td>1.000000</td>\n",
       "      <td>0.000000</td>\n",
       "    </tr>\n",
       "    <tr>\n",
       "      <th>50%</th>\n",
       "      <td>166.180000</td>\n",
       "      <td>1.000000</td>\n",
       "      <td>2.000000</td>\n",
       "      <td>0.000000</td>\n",
       "    </tr>\n",
       "    <tr>\n",
       "      <th>75%</th>\n",
       "      <td>214.648000</td>\n",
       "      <td>1.000000</td>\n",
       "      <td>3.000000</td>\n",
       "      <td>1.000000</td>\n",
       "    </tr>\n",
       "    <tr>\n",
       "      <th>max</th>\n",
       "      <td>959.171000</td>\n",
       "      <td>8.000000</td>\n",
       "      <td>14.000000</td>\n",
       "      <td>8.000000</td>\n",
       "    </tr>\n",
       "  </tbody>\n",
       "</table>\n",
       "</div>"
      ],
      "text/plain": [
       "              mass  aromaticRings   hAcceptors      hDonors\n",
       "count  3025.000000    3025.000000  3025.000000  3025.000000\n",
       "mean    180.528716       0.933223     1.783471     0.678678\n",
       "std      80.114001       0.888736     1.484173     0.861752\n",
       "min      16.043000       0.000000     0.000000     0.000000\n",
       "25%     129.247000       0.000000     1.000000     0.000000\n",
       "50%     166.180000       1.000000     2.000000     0.000000\n",
       "75%     214.648000       1.000000     3.000000     1.000000\n",
       "max     959.171000       8.000000    14.000000     8.000000"
      ]
     },
     "execution_count": 39,
     "metadata": {},
     "output_type": "execute_result"
    }
   ],
   "source": [
    "data4.describe()"
   ]
  },
  {
   "cell_type": "markdown",
   "id": "6143ce8e",
   "metadata": {},
   "source": [
    "In our model, the coefficient for mass (0.247) is smaller than the others, but the molecular masses have a much larger range. They go from 16 to 960, while other descriptors are between 0 and 14.\n",
    "\n",
    "To compare the linear model coefficients and interpret them as the _weight_ (or importance) of the features, we need to create a model where all features are rescaled to have comparable range. This process is called **standardization**. It is one of the types of [**preprocessing**](https://scikit-learn.org/stable/modules/preprocessing.html) that is routinely done on data before it fed into a ML algorithm.\n",
    "\n",
    "The simplest standardization procedure is to ensure that all features have a mean of zero, and a standard deviation of one. This is achieved by removing the mean value of each feature, then scaling it (dividing by its standard deviation)."
   ]
  },
  {
   "cell_type": "code",
   "execution_count": 40,
   "id": "7fb3143d",
   "metadata": {},
   "outputs": [
    {
     "data": {
      "text/html": [
       "<style>#sk-c8270880-9740-4ec3-a491-882c4992e49e {color: black;background-color: white;}#sk-c8270880-9740-4ec3-a491-882c4992e49e pre{padding: 0;}#sk-c8270880-9740-4ec3-a491-882c4992e49e div.sk-toggleable {background-color: white;}#sk-c8270880-9740-4ec3-a491-882c4992e49e label.sk-toggleable__label {cursor: pointer;display: block;width: 100%;margin-bottom: 0;padding: 0.3em;box-sizing: border-box;text-align: center;}#sk-c8270880-9740-4ec3-a491-882c4992e49e div.sk-toggleable__content {max-height: 0;max-width: 0;overflow: hidden;text-align: left;background-color: #f0f8ff;}#sk-c8270880-9740-4ec3-a491-882c4992e49e div.sk-toggleable__content pre {margin: 0.2em;color: black;border-radius: 0.25em;background-color: #f0f8ff;}#sk-c8270880-9740-4ec3-a491-882c4992e49e input.sk-toggleable__control:checked~div.sk-toggleable__content {max-height: 200px;max-width: 100%;overflow: auto;}#sk-c8270880-9740-4ec3-a491-882c4992e49e div.sk-estimator input.sk-toggleable__control:checked~label.sk-toggleable__label {background-color: #d4ebff;}#sk-c8270880-9740-4ec3-a491-882c4992e49e div.sk-label input.sk-toggleable__control:checked~label.sk-toggleable__label {background-color: #d4ebff;}#sk-c8270880-9740-4ec3-a491-882c4992e49e input.sk-hidden--visually {border: 0;clip: rect(1px 1px 1px 1px);clip: rect(1px, 1px, 1px, 1px);height: 1px;margin: -1px;overflow: hidden;padding: 0;position: absolute;width: 1px;}#sk-c8270880-9740-4ec3-a491-882c4992e49e div.sk-estimator {font-family: monospace;background-color: #f0f8ff;border: 1px dotted black;border-radius: 0.25em;box-sizing: border-box;margin-bottom: 0.5em;}#sk-c8270880-9740-4ec3-a491-882c4992e49e div.sk-estimator:hover {background-color: #d4ebff;}#sk-c8270880-9740-4ec3-a491-882c4992e49e div.sk-parallel-item::after {content: \"\";width: 100%;border-bottom: 1px solid gray;flex-grow: 1;}#sk-c8270880-9740-4ec3-a491-882c4992e49e div.sk-label:hover label.sk-toggleable__label {background-color: #d4ebff;}#sk-c8270880-9740-4ec3-a491-882c4992e49e div.sk-serial::before {content: \"\";position: absolute;border-left: 1px solid gray;box-sizing: border-box;top: 2em;bottom: 0;left: 50%;}#sk-c8270880-9740-4ec3-a491-882c4992e49e div.sk-serial {display: flex;flex-direction: column;align-items: center;background-color: white;padding-right: 0.2em;padding-left: 0.2em;}#sk-c8270880-9740-4ec3-a491-882c4992e49e div.sk-item {z-index: 1;}#sk-c8270880-9740-4ec3-a491-882c4992e49e div.sk-parallel {display: flex;align-items: stretch;justify-content: center;background-color: white;}#sk-c8270880-9740-4ec3-a491-882c4992e49e div.sk-parallel::before {content: \"\";position: absolute;border-left: 1px solid gray;box-sizing: border-box;top: 2em;bottom: 0;left: 50%;}#sk-c8270880-9740-4ec3-a491-882c4992e49e div.sk-parallel-item {display: flex;flex-direction: column;position: relative;background-color: white;}#sk-c8270880-9740-4ec3-a491-882c4992e49e div.sk-parallel-item:first-child::after {align-self: flex-end;width: 50%;}#sk-c8270880-9740-4ec3-a491-882c4992e49e div.sk-parallel-item:last-child::after {align-self: flex-start;width: 50%;}#sk-c8270880-9740-4ec3-a491-882c4992e49e div.sk-parallel-item:only-child::after {width: 0;}#sk-c8270880-9740-4ec3-a491-882c4992e49e div.sk-dashed-wrapped {border: 1px dashed gray;margin: 0 0.4em 0.5em 0.4em;box-sizing: border-box;padding-bottom: 0.4em;background-color: white;position: relative;}#sk-c8270880-9740-4ec3-a491-882c4992e49e div.sk-label label {font-family: monospace;font-weight: bold;background-color: white;display: inline-block;line-height: 1.2em;}#sk-c8270880-9740-4ec3-a491-882c4992e49e div.sk-label-container {position: relative;z-index: 2;text-align: center;}#sk-c8270880-9740-4ec3-a491-882c4992e49e div.sk-container {display: inline-block;position: relative;}</style><div id=\"sk-c8270880-9740-4ec3-a491-882c4992e49e\" class\"sk-top-container\"><div class=\"sk-container\"><div class=\"sk-item sk-dashed-wrapped\"><div class=\"sk-label-container\"><div class=\"sk-label sk-toggleable\"><input class=\"sk-toggleable__control sk-hidden--visually\" id=\"24b7dcf6-6424-46b8-9d93-611a36e1f107\" type=\"checkbox\" ><label class=\"sk-toggleable__label\" for=\"24b7dcf6-6424-46b8-9d93-611a36e1f107\">Pipeline</label><div class=\"sk-toggleable__content\"><pre>Pipeline(steps=[('standardscaler', StandardScaler()),\n",
       "                ('linearregression', LinearRegression())])</pre></div></div></div><div class=\"sk-serial\"><div class=\"sk-item\"><div class=\"sk-estimator sk-toggleable\"><input class=\"sk-toggleable__control sk-hidden--visually\" id=\"458e2039-60b7-4765-9353-efa5764d9f22\" type=\"checkbox\" ><label class=\"sk-toggleable__label\" for=\"458e2039-60b7-4765-9353-efa5764d9f22\">StandardScaler</label><div class=\"sk-toggleable__content\"><pre>StandardScaler()</pre></div></div></div><div class=\"sk-item\"><div class=\"sk-estimator sk-toggleable\"><input class=\"sk-toggleable__control sk-hidden--visually\" id=\"40152442-e4b1-4988-a7f7-6d7b944d1871\" type=\"checkbox\" ><label class=\"sk-toggleable__label\" for=\"40152442-e4b1-4988-a7f7-6d7b944d1871\">LinearRegression</label><div class=\"sk-toggleable__content\"><pre>LinearRegression()</pre></div></div></div></div></div></div></div>"
      ],
      "text/plain": [
       "Pipeline(steps=[('standardscaler', StandardScaler()),\n",
       "                ('linearregression', LinearRegression())])"
      ]
     },
     "execution_count": 40,
     "metadata": {},
     "output_type": "execute_result"
    }
   ],
   "source": [
    "pipeline = make_pipeline(StandardScaler(), LinearRegression())\n",
    "pipeline"
   ]
  },
  {
   "cell_type": "markdown",
   "id": "dc62d733",
   "metadata": {},
   "source": [
    "We have now created a `pipeline` object, which is ML workflow composed of two steps:\n",
    "1. scaling of the features\n",
    "2. linear regression based on scaled features\n",
    "\n",
    "We can now fit this new two-step model, and interpret it:"
   ]
  },
  {
   "cell_type": "code",
   "execution_count": 41,
   "id": "4f7a627f",
   "metadata": {},
   "outputs": [
    {
     "name": "stdout",
     "output_type": "stream",
     "text": [
      "The mean absolute error of the optimal model is 48.9 °C\n"
     ]
    }
   ],
   "source": [
    "pipeline.fit(data4, target)\n",
    "\n",
    "predicted_scaled = pipeline.predict(data4)\n",
    "model_error = mean_absolute_error(target, predicted_scaled)\n",
    "print(f\"The mean absolute error of the optimal model is {model_error:.1f} °C\")"
   ]
  },
  {
   "cell_type": "markdown",
   "id": "f1d3fcd3",
   "metadata": {},
   "source": [
    "The resulting accuracy of the model are exactly the same as before, because we perform a _linear_ transformation of the features before a _linear_ model fitting. However, we can now interpret the coefficients of the rescaled model:"
   ]
  },
  {
   "cell_type": "code",
   "execution_count": 42,
   "id": "5a568b37",
   "metadata": {},
   "outputs": [
    {
     "name": "stdout",
     "output_type": "stream",
     "text": [
      "Model features are: ['mass', 'aromaticRings', 'hAcceptors', 'hDonors']\n",
      "Model coefficients are: [19.82270935 36.07440062 17.65987882 36.46572818]\n",
      "Model intercept is: 62.25449586776859\n"
     ]
    }
   ],
   "source": [
    "print('Model features are:', list(data4.columns))\n",
    "print('Model coefficients are:', pipeline['linearregression'].coef_)\n",
    "print('Model intercept is:', pipeline['linearregression'].intercept_)"
   ]
  },
  {
   "cell_type": "markdown",
   "id": "84536347",
   "metadata": {},
   "source": [
    "We can see that, once we take normalization into account, all features have somewhat similar weight/importance in the model."
   ]
  },
  {
   "cell_type": "markdown",
   "id": "5c45f02d",
   "metadata": {},
   "source": [
    "## Limitations of our linear model with 4 features\n",
    "\n",
    "In order to understand the limitations of our model, let's plot the predicted values against real values, for all our dataset:"
   ]
  },
  {
   "cell_type": "code",
   "execution_count": 43,
   "id": "ea60c406",
   "metadata": {},
   "outputs": [
    {
     "data": {
      "image/png": "[encoded data removed]",
      "text/plain": [
       "<Figure size 432x288 with 1 Axes>"
      ]
     },
     "metadata": {},
     "output_type": "display_data"
    }
   ],
   "source": [
    "p = sns.scatterplot(x=target, y=predicted4, s=5)\n",
    "sns.lineplot(x=[-200,450], y=[-200,450], color='red')\n",
    "_ = p.set(xlabel='Melting point (°C)', ylabel='Predicted value (°C)')"
   ]
  },
  {
   "cell_type": "markdown",
   "id": "d3352c07",
   "metadata": {},
   "source": [
    "A “perfect” model would have all data points fall on the $y=x$ line (the red line), meaning the predicted value would be perfectly predicted. We can see that there is some dispersion: this is the “model error” that we have numerically quantified with the MAE (mean average error) before.\n",
    "\n",
    "We can also see that the error of the model is not homogeneously distributed throughout the dataset: it appears that the model is doing better for “medium” values of melting point, but is having trouble with low and high values. This is particular visible with low melting points: while some of the molecules can have a melting point that does down to almost –188 °C, our model never predicts anything lower than –66°C."
   ]
  },
  {
   "cell_type": "code",
   "execution_count": 44,
   "id": "6e0ce2aa",
   "metadata": {},
   "outputs": [
    {
     "name": "stdout",
     "output_type": "stream",
     "text": [
      "Lowest melting point: -188.0\n",
      "Lowest prediction: -66.28577525576078\n"
     ]
    }
   ],
   "source": [
    "print('Lowest melting point:', np.min(target))\n",
    "print('Lowest prediction:', np.min(predicted4))"
   ]
  },
  {
   "cell_type": "markdown",
   "id": "4ae87165",
   "metadata": {},
   "source": [
    "We can confirm this by comparing the distribution of experimental and predicted values:"
   ]
  },
  {
   "cell_type": "code",
   "execution_count": 45,
   "id": "59973817",
   "metadata": {},
   "outputs": [
    {
     "data": {
      "image/png": "[encoded data removed]",
      "text/plain": [
       "<Figure size 432x288 with 1 Axes>"
      ]
     },
     "metadata": {},
     "output_type": "display_data"
    }
   ],
   "source": [
    "p = sns.histplot(x=target, color='blue', alpha=0.5)\n",
    "sns.histplot(x=predicted4, color='red', alpha=0.5)\n",
    "_ = p.set(xlabel='Melting point (°C)')"
   ]
  },
  {
   "cell_type": "markdown",
   "id": "1d0f3622",
   "metadata": {},
   "source": [
    "We can clearly see that the distribution of predicted values (in red) is narrower than that of experimental values (in blue)."
   ]
  },
  {
   "cell_type": "markdown",
   "id": "58fb4c0f",
   "metadata": {},
   "source": [
    "## What to do next?\n",
    "\n",
    "Now that we have seen the limitations of the current (very simple) approach, there are several ways we could improve this study. Here are some ideas for you to continue this project:\n",
    "\n",
    "1. For the sake of simplicity, we have trained our model on _all_ of the data set, and measured its accuracy on this training data. However, we know that this is _not_ how proper model evaluation should be done: we should **split the data into train and test data sets**, and measure the accuracy of the model based on _test_ data (not seen during training). Even better would be to repeat this process through **cross-validation**.\n",
    "\n",
    "2. Here, for each molecule, we have computed 4 descriptors of the structure using the [RDKit](https://www.rdkit.org) library. If we look at the [documentation](https://www.rdkit.org/docs/GettingStartedInPython.html#list-of-available-descriptors), we can see that it offers many more descriptors (17 at the time of writing). Would using **more descriptors** continue to improve our model? Is there a limit? Do we risk overfitting if we use many descriptors?\n",
    "\n",
    "3. We have seen that our simple linear model has trouble describing extremal values of melting point (both high and low). Could **nonlinear models** perform better? How about [nearest-neighbors regression](https://scikit-learn.org/stable/modules/neighbors.html#nearest-neighbors-regression), [decision tree](https://scikit-learn.org/stable/modules/tree.html#regression) models?\n",
    "\n",
    "4. We have seen that our simple linear model has trouble describing extremal values of melting point. This could be because the range of values is large, and the problem is not linear in that space. Could we work around this problem by **feature engineering**, introducing some nonlinear features?"
   ]
  },
  {
   "cell_type": "code",
   "execution_count": null,
   "id": "6e2abf57",
   "metadata": {},
   "outputs": [],
   "source": []
  }
 ],
 "metadata": {
  "kernelspec": {
   "display_name": "Python 3 (ipykernel)",
   "language": "python",
   "name": "python3"
  },
  "language_info": {
   "codemirror_mode": {
    "name": "ipython",
    "version": 3
   },
   "file_extension": ".py",
   "mimetype": "text/x-python",
   "name": "python",
   "nbconvert_exporter": "python",
   "pygments_lexer": "ipython3",
   "version": "3.9.7"
  }
 },
 "nbformat": 4,
 "nbformat_minor": 5
}
